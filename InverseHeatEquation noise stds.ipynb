{
 "cells": [
  {
   "cell_type": "code",
   "execution_count": 1,
   "metadata": {},
   "outputs": [],
   "source": [
    "from Experiments import *\n",
    "from utils.visualization import *\n",
    "import torch\n",
    "import torch.optim as optim"
   ]
  },
  {
   "cell_type": "code",
   "execution_count": 2,
   "metadata": {},
   "outputs": [],
   "source": [
    "torch.cuda.manual_seed(0)\n",
    "torch.manual_seed(0)\n",
    "device = torch.device('cuda')"
   ]
  },
  {
   "cell_type": "code",
   "execution_count": 3,
   "metadata": {},
   "outputs": [],
   "source": [
    "hparams = Hyperparameters()\n",
    "hparams.set_model_size([2, 48, 48, 48, 1])\n",
    "hparams.set_epochs(50000) # 50000\n",
    "hparams.set_device(device)\n",
    "act_names = ['tanh(x)', 'sin(x)', 'STan-LAAF', 'STan-NLAAF', 'REAct-LAAF', 'REAct-NLAAF', 'ABU']"
   ]
  },
  {
   "cell_type": "code",
   "execution_count": 4,
   "metadata": {},
   "outputs": [
    {
     "name": "stdout",
     "output_type": "stream",
     "text": [
      "Activation Name: tanh(x)\n",
      "init\n",
      "Parameter containing:\n",
      "tensor([1.4623], requires_grad=True)\n"
     ]
    },
    {
     "name": "stderr",
     "output_type": "stream",
     "text": [
      "  0%|          | 0/50000 [00:00<?, ?it/s]/home/airl-gpu4/anaconda3/envs/PhysicsModels/lib/python3.9/site-packages/torch/autograd/graph.py:744: UserWarning: Attempting to run cuBLAS, but there was no current CUDA context! Attempting to set the primary context... (Triggered internally at ../aten/src/ATen/cuda/CublasHandlePool.cpp:135.)\n",
      "  return Variable._execution_engine.run_backward(  # Calls into the C++ engine to run the backward pass\n",
      "100%|██████████| 50000/50000 [11:09<00:00, 74.69it/s]\n"
     ]
    },
    {
     "name": "stdout",
     "output_type": "stream",
     "text": [
      "final\n",
      "Parameter containing:\n",
      "tensor([0.3999], requires_grad=True)\n",
      "final\n",
      "0.39991188049316406\n",
      "init\n",
      "Parameter containing:\n",
      "tensor([1.4623], requires_grad=True)\n"
     ]
    },
    {
     "name": "stderr",
     "output_type": "stream",
     "text": [
      "100%|██████████| 50000/50000 [11:07<00:00, 74.92it/s]\n"
     ]
    },
    {
     "name": "stdout",
     "output_type": "stream",
     "text": [
      "final\n",
      "Parameter containing:\n",
      "tensor([0.3991], requires_grad=True)\n",
      "final\n",
      "0.3990713655948639\n",
      "init\n",
      "Parameter containing:\n",
      "tensor([1.4623], requires_grad=True)\n"
     ]
    },
    {
     "name": "stderr",
     "output_type": "stream",
     "text": [
      "100%|██████████| 50000/50000 [11:27<00:00, 72.75it/s]\n"
     ]
    },
    {
     "name": "stdout",
     "output_type": "stream",
     "text": [
      "final\n",
      "Parameter containing:\n",
      "tensor([0.3992], requires_grad=True)\n",
      "final\n",
      "0.399162620306015\n",
      "init\n",
      "Parameter containing:\n",
      "tensor([1.4623], requires_grad=True)\n"
     ]
    },
    {
     "name": "stderr",
     "output_type": "stream",
     "text": [
      "100%|██████████| 50000/50000 [11:23<00:00, 73.20it/s]\n"
     ]
    },
    {
     "name": "stdout",
     "output_type": "stream",
     "text": [
      "final\n",
      "Parameter containing:\n",
      "tensor([0.4014], requires_grad=True)\n",
      "final\n",
      "0.4013965427875519\n",
      "init\n",
      "Parameter containing:\n",
      "tensor([1.4623], requires_grad=True)\n"
     ]
    },
    {
     "name": "stderr",
     "output_type": "stream",
     "text": [
      "100%|██████████| 50000/50000 [11:15<00:00, 74.03it/s]\n"
     ]
    },
    {
     "name": "stdout",
     "output_type": "stream",
     "text": [
      "final\n",
      "Parameter containing:\n",
      "tensor([0.4030], requires_grad=True)\n",
      "final\n",
      "0.40304896235466003\n",
      "|     |   l2_relative_error |   mean_squared_error |   mean_absolute_error |   explained_variance_score |   est. param value |   pc. error in param value |\n",
      "|----:|--------------------:|---------------------:|----------------------:|---------------------------:|-------------------:|---------------------------:|\n",
      "| 0.1 |           0.0605417 |          0.000232473 |            0.0149892  |                   0.999797 |           0.399912 |                  0.0220299 |\n",
      "| 0.5 |           0.0338594 |          7.27149e-05 |            0.00845858 |                   0.99997  |           0.399071 |                  0.232159  |\n",
      "| 1   |           0.0888677 |          0.000500902 |            0.0219725  |                   0.999529 |           0.399163 |                  0.209345  |\n",
      "| 3   |           0.0872125 |          0.000482415 |            0.0218616  |                   0.999883 |           0.401397 |                  0.349136  |\n",
      "| 5   |           0.0425953 |          0.000115077 |            0.0097072  |                   0.999454 |           0.403049 |                  0.762241  |\n",
      "Activation Name: sin(x)\n",
      "init\n",
      "Parameter containing:\n",
      "tensor([1.4623], requires_grad=True)\n"
     ]
    },
    {
     "name": "stderr",
     "output_type": "stream",
     "text": [
      "100%|██████████| 50000/50000 [11:26<00:00, 72.83it/s]\n"
     ]
    },
    {
     "name": "stdout",
     "output_type": "stream",
     "text": [
      "final\n",
      "Parameter containing:\n",
      "tensor([0.3960], requires_grad=True)\n",
      "final\n",
      "0.3960081934928894\n",
      "init\n",
      "Parameter containing:\n",
      "tensor([1.4623], requires_grad=True)\n"
     ]
    },
    {
     "name": "stderr",
     "output_type": "stream",
     "text": [
      "100%|██████████| 50000/50000 [11:29<00:00, 72.49it/s]\n"
     ]
    },
    {
     "name": "stdout",
     "output_type": "stream",
     "text": [
      "final\n",
      "Parameter containing:\n",
      "tensor([0.3972], requires_grad=True)\n",
      "final\n",
      "0.39722204208374023\n",
      "init\n",
      "Parameter containing:\n",
      "tensor([1.4623], requires_grad=True)\n"
     ]
    },
    {
     "name": "stderr",
     "output_type": "stream",
     "text": [
      "100%|██████████| 50000/50000 [11:28<00:00, 72.59it/s]\n"
     ]
    },
    {
     "name": "stdout",
     "output_type": "stream",
     "text": [
      "final\n",
      "Parameter containing:\n",
      "tensor([0.3987], requires_grad=True)\n",
      "final\n",
      "0.39873722195625305\n",
      "init\n",
      "Parameter containing:\n",
      "tensor([1.4623], requires_grad=True)\n"
     ]
    },
    {
     "name": "stderr",
     "output_type": "stream",
     "text": [
      "100%|██████████| 50000/50000 [11:34<00:00, 71.96it/s]\n"
     ]
    },
    {
     "name": "stdout",
     "output_type": "stream",
     "text": [
      "final\n",
      "Parameter containing:\n",
      "tensor([0.3947], requires_grad=True)\n",
      "final\n",
      "0.39474108815193176\n",
      "init\n",
      "Parameter containing:\n",
      "tensor([1.4623], requires_grad=True)\n"
     ]
    },
    {
     "name": "stderr",
     "output_type": "stream",
     "text": [
      "100%|██████████| 50000/50000 [11:35<00:00, 71.94it/s]\n"
     ]
    },
    {
     "name": "stdout",
     "output_type": "stream",
     "text": [
      "final\n",
      "Parameter containing:\n",
      "tensor([0.3916], requires_grad=True)\n",
      "final\n",
      "0.3915708065032959\n",
      "|     |   l2_relative_error |   mean_squared_error |   mean_absolute_error |   explained_variance_score |   est. param value |   pc. error in param value |\n",
      "|----:|--------------------:|---------------------:|----------------------:|---------------------------:|-------------------:|---------------------------:|\n",
      "| 0.1 |           0.0524058 |          0.00017419  |            0.0130533  |                   0.999901 |           0.396008 |                   0.997952 |\n",
      "| 0.5 |           0.024026  |          3.66123e-05 |            0.00553442 |                   0.99984  |           0.397222 |                   0.694489 |\n",
      "| 1   |           0.0246692 |          3.85989e-05 |            0.00526548 |                   0.999666 |           0.398737 |                   0.315695 |\n",
      "| 3   |           0.0972161 |          0.000599434 |            0.0242646  |                   0.999722 |           0.394741 |                   1.31473  |\n",
      "| 5   |           0.079935  |          0.000405264 |            0.0196678  |                   0.99952  |           0.391571 |                   2.1073   |\n",
      "Activation Name: STan-LAAF\n",
      "init\n",
      "Parameter containing:\n",
      "tensor([1.4623], requires_grad=True)\n"
     ]
    },
    {
     "name": "stderr",
     "output_type": "stream",
     "text": [
      "100%|██████████| 50000/50000 [18:36<00:00, 44.78it/s]\n"
     ]
    },
    {
     "name": "stdout",
     "output_type": "stream",
     "text": [
      "final\n",
      "Parameter containing:\n",
      "tensor([0.3992], requires_grad=True)\n",
      "final\n",
      "0.39915141463279724\n",
      "init\n",
      "Parameter containing:\n",
      "tensor([1.4623], requires_grad=True)\n"
     ]
    },
    {
     "name": "stderr",
     "output_type": "stream",
     "text": [
      "100%|██████████| 50000/50000 [18:42<00:00, 44.53it/s]\n"
     ]
    },
    {
     "name": "stdout",
     "output_type": "stream",
     "text": [
      "final\n",
      "Parameter containing:\n",
      "tensor([0.4001], requires_grad=True)\n",
      "final\n",
      "0.40008801221847534\n",
      "init\n",
      "Parameter containing:\n",
      "tensor([1.4623], requires_grad=True)\n"
     ]
    },
    {
     "name": "stderr",
     "output_type": "stream",
     "text": [
      "100%|██████████| 50000/50000 [18:52<00:00, 44.13it/s]\n"
     ]
    },
    {
     "name": "stdout",
     "output_type": "stream",
     "text": [
      "final\n",
      "Parameter containing:\n",
      "tensor([0.3989], requires_grad=True)\n",
      "final\n",
      "0.39886996150016785\n",
      "init\n",
      "Parameter containing:\n",
      "tensor([1.4623], requires_grad=True)\n"
     ]
    },
    {
     "name": "stderr",
     "output_type": "stream",
     "text": [
      "100%|██████████| 50000/50000 [18:42<00:00, 44.54it/s]\n"
     ]
    },
    {
     "name": "stdout",
     "output_type": "stream",
     "text": [
      "final\n",
      "Parameter containing:\n",
      "tensor([0.4007], requires_grad=True)\n",
      "final\n",
      "0.40074217319488525\n",
      "init\n",
      "Parameter containing:\n",
      "tensor([1.4623], requires_grad=True)\n"
     ]
    },
    {
     "name": "stderr",
     "output_type": "stream",
     "text": [
      "100%|██████████| 50000/50000 [18:53<00:00, 44.12it/s]\n"
     ]
    },
    {
     "name": "stdout",
     "output_type": "stream",
     "text": [
      "final\n",
      "Parameter containing:\n",
      "tensor([0.3971], requires_grad=True)\n",
      "final\n",
      "0.39713507890701294\n",
      "|     |   l2_relative_error |   mean_squared_error |   mean_absolute_error |   explained_variance_score |   est. param value |   pc. error in param value |\n",
      "|----:|--------------------:|---------------------:|----------------------:|---------------------------:|-------------------:|---------------------------:|\n",
      "| 0.1 |          0.00642724 |          2.62007e-06 |           0.00122598  |                   0.999968 |           0.399151 |                  0.212146  |\n",
      "| 0.5 |          0.00200287 |          2.54432e-07 |           0.000390556 |                   0.999993 |           0.400088 |                  0.0220031 |\n",
      "| 1   |          0.00633799 |          2.54781e-06 |           0.00137155  |                   0.999956 |           0.39887  |                  0.28251   |\n",
      "| 3   |          0.0183736  |          2.14118e-05 |           0.00387651  |                   0.999563 |           0.400742 |                  0.185543  |\n",
      "| 5   |          0.0127299  |          1.02781e-05 |           0.00270404  |                   0.999734 |           0.397135 |                  0.71623   |\n",
      "Activation Name: STan-NLAAF\n",
      "init\n",
      "Parameter containing:\n",
      "tensor([1.4623], requires_grad=True)\n"
     ]
    },
    {
     "name": "stderr",
     "output_type": "stream",
     "text": [
      "100%|██████████| 50000/50000 [19:19<00:00, 43.13it/s]\n"
     ]
    },
    {
     "name": "stdout",
     "output_type": "stream",
     "text": [
      "final\n",
      "Parameter containing:\n",
      "tensor([0.3996], requires_grad=True)\n",
      "final\n",
      "0.3995569348335266\n",
      "init\n",
      "Parameter containing:\n",
      "tensor([1.4623], requires_grad=True)\n"
     ]
    },
    {
     "name": "stderr",
     "output_type": "stream",
     "text": [
      "100%|██████████| 50000/50000 [19:23<00:00, 42.96it/s]\n"
     ]
    },
    {
     "name": "stdout",
     "output_type": "stream",
     "text": [
      "final\n",
      "Parameter containing:\n",
      "tensor([0.3989], requires_grad=True)\n",
      "final\n",
      "0.39894935488700867\n",
      "init\n",
      "Parameter containing:\n",
      "tensor([1.4623], requires_grad=True)\n"
     ]
    },
    {
     "name": "stderr",
     "output_type": "stream",
     "text": [
      "100%|██████████| 50000/50000 [19:10<00:00, 43.47it/s]\n"
     ]
    },
    {
     "name": "stdout",
     "output_type": "stream",
     "text": [
      "final\n",
      "Parameter containing:\n",
      "tensor([0.4003], requires_grad=True)\n",
      "final\n",
      "0.4003147482872009\n",
      "init\n",
      "Parameter containing:\n",
      "tensor([1.4623], requires_grad=True)\n"
     ]
    },
    {
     "name": "stderr",
     "output_type": "stream",
     "text": [
      "100%|██████████| 50000/50000 [19:08<00:00, 43.55it/s]\n"
     ]
    },
    {
     "name": "stdout",
     "output_type": "stream",
     "text": [
      "final\n",
      "Parameter containing:\n",
      "tensor([0.3970], requires_grad=True)\n",
      "final\n",
      "0.39696282148361206\n",
      "init\n",
      "Parameter containing:\n",
      "tensor([1.4623], requires_grad=True)\n"
     ]
    },
    {
     "name": "stderr",
     "output_type": "stream",
     "text": [
      "100%|██████████| 50000/50000 [19:12<00:00, 43.37it/s]\n"
     ]
    },
    {
     "name": "stdout",
     "output_type": "stream",
     "text": [
      "final\n",
      "Parameter containing:\n",
      "tensor([0.3996], requires_grad=True)\n",
      "final\n",
      "0.3995856046676636\n",
      "|     |   l2_relative_error |   mean_squared_error |   mean_absolute_error |   explained_variance_score |   est. param value |   pc. error in param value |\n",
      "|----:|--------------------:|---------------------:|----------------------:|---------------------------:|-------------------:|---------------------------:|\n",
      "| 0.1 |           0.0180312 |          2.06213e-05 |            0.0044439  |                   0.999977 |           0.399557 |                  0.110766  |\n",
      "| 0.5 |           0.0223981 |          3.18189e-05 |            0.00405107 |                   0.999349 |           0.398949 |                  0.262661  |\n",
      "| 1   |           0.0196093 |          2.43887e-05 |            0.00403647 |                   0.99941  |           0.400315 |                  0.0786871 |\n",
      "| 3   |           0.0103969 |          6.85601e-06 |            0.00217473 |                   0.999896 |           0.396963 |                  0.759295  |\n",
      "| 5   |           0.0425074 |          0.000114602 |            0.0101025  |                   0.999674 |           0.399586 |                  0.103599  |\n",
      "Activation Name: REAct-LAAF\n",
      "init\n",
      "Parameter containing:\n",
      "tensor([1.4623], requires_grad=True)\n"
     ]
    },
    {
     "name": "stderr",
     "output_type": "stream",
     "text": [
      "100%|██████████| 50000/50000 [28:46<00:00, 28.95it/s]\n"
     ]
    },
    {
     "name": "stdout",
     "output_type": "stream",
     "text": [
      "final\n",
      "Parameter containing:\n",
      "tensor([0.3985], requires_grad=True)\n",
      "final\n",
      "0.39854392409324646\n",
      "init\n",
      "Parameter containing:\n",
      "tensor([1.4623], requires_grad=True)\n"
     ]
    },
    {
     "name": "stderr",
     "output_type": "stream",
     "text": [
      "100%|██████████| 50000/50000 [28:31<00:00, 29.22it/s]\n"
     ]
    },
    {
     "name": "stdout",
     "output_type": "stream",
     "text": [
      "final\n",
      "Parameter containing:\n",
      "tensor([0.3994], requires_grad=True)\n",
      "final\n",
      "0.39938193559646606\n",
      "init\n",
      "Parameter containing:\n",
      "tensor([1.4623], requires_grad=True)\n"
     ]
    },
    {
     "name": "stderr",
     "output_type": "stream",
     "text": [
      "100%|██████████| 50000/50000 [29:47<00:00, 27.98it/s]\n"
     ]
    },
    {
     "name": "stdout",
     "output_type": "stream",
     "text": [
      "final\n",
      "Parameter containing:\n",
      "tensor([0.4017], requires_grad=True)\n",
      "final\n",
      "0.40166276693344116\n",
      "init\n",
      "Parameter containing:\n",
      "tensor([1.4623], requires_grad=True)\n"
     ]
    },
    {
     "name": "stderr",
     "output_type": "stream",
     "text": [
      "100%|██████████| 50000/50000 [28:51<00:00, 28.88it/s]\n"
     ]
    },
    {
     "name": "stdout",
     "output_type": "stream",
     "text": [
      "final\n",
      "Parameter containing:\n",
      "tensor([0.3901], requires_grad=True)\n",
      "final\n",
      "0.3901296555995941\n",
      "init\n",
      "Parameter containing:\n",
      "tensor([1.4623], requires_grad=True)\n"
     ]
    },
    {
     "name": "stderr",
     "output_type": "stream",
     "text": [
      "100%|██████████| 50000/50000 [29:28<00:00, 28.28it/s]\n"
     ]
    },
    {
     "name": "stdout",
     "output_type": "stream",
     "text": [
      "final\n",
      "Parameter containing:\n",
      "tensor([0.4108], requires_grad=True)\n",
      "final\n",
      "0.4107604920864105\n",
      "|     |   l2_relative_error |   mean_squared_error |   mean_absolute_error |   explained_variance_score |   est. param value |   pc. error in param value |\n",
      "|----:|--------------------:|---------------------:|----------------------:|---------------------------:|-------------------:|---------------------------:|\n",
      "| 0.1 |           0.0183451 |          2.13455e-05 |            0.00307673 |                   0.999579 |           0.398544 |                   0.364019 |\n",
      "| 0.5 |           0.0106082 |          7.13755e-06 |            0.00261014 |                   0.999992 |           0.399382 |                   0.154516 |\n",
      "| 1   |           0.045935  |          0.000133829 |            0.00913861 |                   0.998679 |           0.401663 |                   0.415692 |\n",
      "| 3   |           0.066894  |          0.000283822 |            0.0119665  |                   0.996316 |           0.39013  |                   2.46759  |\n",
      "| 5   |           0.0279114 |          4.94115e-05 |            0.00625449 |                   0.999677 |           0.41076  |                   2.69012  |\n",
      "Activation Name: REAct-NLAAF\n",
      "init\n",
      "Parameter containing:\n",
      "tensor([1.4623], requires_grad=True)\n"
     ]
    },
    {
     "name": "stderr",
     "output_type": "stream",
     "text": [
      "100%|██████████| 50000/50000 [29:27<00:00, 28.29it/s]\n"
     ]
    },
    {
     "name": "stdout",
     "output_type": "stream",
     "text": [
      "final\n",
      "Parameter containing:\n",
      "tensor([0.4277], requires_grad=True)\n",
      "final\n",
      "0.42766353487968445\n",
      "init\n",
      "Parameter containing:\n",
      "tensor([1.4623], requires_grad=True)\n"
     ]
    },
    {
     "name": "stderr",
     "output_type": "stream",
     "text": [
      "100%|██████████| 50000/50000 [30:19<00:00, 27.48it/s]\n"
     ]
    },
    {
     "name": "stdout",
     "output_type": "stream",
     "text": [
      "final\n",
      "Parameter containing:\n",
      "tensor([0.3997], requires_grad=True)\n",
      "final\n",
      "0.39969268441200256\n",
      "init\n",
      "Parameter containing:\n",
      "tensor([1.4623], requires_grad=True)\n"
     ]
    },
    {
     "name": "stderr",
     "output_type": "stream",
     "text": [
      "100%|██████████| 50000/50000 [29:55<00:00, 27.85it/s]\n"
     ]
    },
    {
     "name": "stdout",
     "output_type": "stream",
     "text": [
      "final\n",
      "Parameter containing:\n",
      "tensor([0.3996], requires_grad=True)\n",
      "final\n",
      "0.39964255690574646\n",
      "init\n",
      "Parameter containing:\n",
      "tensor([1.4623], requires_grad=True)\n"
     ]
    },
    {
     "name": "stderr",
     "output_type": "stream",
     "text": [
      "100%|██████████| 50000/50000 [31:17<00:00, 26.63it/s]\n"
     ]
    },
    {
     "name": "stdout",
     "output_type": "stream",
     "text": [
      "final\n",
      "Parameter containing:\n",
      "tensor([0.3962], requires_grad=True)\n",
      "final\n",
      "0.3961867690086365\n",
      "init\n",
      "Parameter containing:\n",
      "tensor([1.4623], requires_grad=True)\n"
     ]
    },
    {
     "name": "stderr",
     "output_type": "stream",
     "text": [
      "100%|██████████| 50000/50000 [29:47<00:00, 27.97it/s]\n"
     ]
    },
    {
     "name": "stdout",
     "output_type": "stream",
     "text": [
      "final\n",
      "Parameter containing:\n",
      "tensor([nan], requires_grad=True)\n",
      "final\n",
      "nan\n",
      "|     |   l2_relative_error |   mean_squared_error |   mean_absolute_error |   explained_variance_score |   est. param value |   pc. error in param value |\n",
      "|----:|--------------------:|---------------------:|----------------------:|---------------------------:|-------------------:|---------------------------:|\n",
      "| 0.1 |           0.0247252 |          3.87745e-05 |            0.0047367  |                   0.999055 |           0.427664 |                  6.91588   |\n",
      "| 0.5 |           0.0137056 |          1.1914e-05  |            0.0031957  |                   0.999956 |           0.399693 |                  0.0768289 |\n",
      "| 1   |           0.0147327 |          1.37668e-05 |            0.00275816 |                   0.999826 |           0.399643 |                  0.0893608 |\n",
      "| 3   |           0.0241463 |          3.698e-05   |            0.00553841 |                   0.999722 |           0.396187 |                  0.953308  |\n",
      "| 5   |         nan         |        nan           |          nan          |                 nan        |         nan        |                nan         |\n",
      "Activation Name: ABU\n",
      "init\n",
      "Parameter containing:\n",
      "tensor([1.4623], requires_grad=True)\n"
     ]
    },
    {
     "name": "stderr",
     "output_type": "stream",
     "text": [
      "100%|██████████| 50000/50000 [31:30<00:00, 26.45it/s]\n"
     ]
    },
    {
     "name": "stdout",
     "output_type": "stream",
     "text": [
      "final\n",
      "Parameter containing:\n",
      "tensor([1.5440], requires_grad=True)\n",
      "final\n",
      "1.5440407991409302\n",
      "init\n",
      "Parameter containing:\n",
      "tensor([1.4623], requires_grad=True)\n"
     ]
    },
    {
     "name": "stderr",
     "output_type": "stream",
     "text": [
      "100%|██████████| 50000/50000 [32:27<00:00, 25.67it/s]\n"
     ]
    },
    {
     "name": "stdout",
     "output_type": "stream",
     "text": [
      "final\n",
      "Parameter containing:\n",
      "tensor([1.6678], requires_grad=True)\n",
      "final\n",
      "1.667802333831787\n",
      "init\n",
      "Parameter containing:\n",
      "tensor([1.4623], requires_grad=True)\n"
     ]
    },
    {
     "name": "stderr",
     "output_type": "stream",
     "text": [
      "100%|██████████| 50000/50000 [31:20<00:00, 26.59it/s]\n"
     ]
    },
    {
     "name": "stdout",
     "output_type": "stream",
     "text": [
      "final\n",
      "Parameter containing:\n",
      "tensor([0.8034], requires_grad=True)\n",
      "final\n",
      "0.803419291973114\n",
      "init\n",
      "Parameter containing:\n",
      "tensor([1.4623], requires_grad=True)\n"
     ]
    },
    {
     "name": "stderr",
     "output_type": "stream",
     "text": [
      "100%|██████████| 50000/50000 [31:47<00:00, 26.22it/s]\n"
     ]
    },
    {
     "name": "stdout",
     "output_type": "stream",
     "text": [
      "final\n",
      "Parameter containing:\n",
      "tensor([0.8034], requires_grad=True)\n",
      "final\n",
      "0.803403913974762\n",
      "init\n",
      "Parameter containing:\n",
      "tensor([1.4623], requires_grad=True)\n"
     ]
    },
    {
     "name": "stderr",
     "output_type": "stream",
     "text": [
      "100%|██████████| 50000/50000 [31:25<00:00, 26.52it/s]\n"
     ]
    },
    {
     "name": "stdout",
     "output_type": "stream",
     "text": [
      "final\n",
      "Parameter containing:\n",
      "tensor([1.1663], requires_grad=True)\n",
      "final\n",
      "1.1663373708724976\n",
      "|     |   l2_relative_error |   mean_squared_error |   mean_absolute_error |   explained_variance_score |   est. param value |   pc. error in param value |\n",
      "|----:|--------------------:|---------------------:|----------------------:|---------------------------:|-------------------:|---------------------------:|\n",
      "| 0.1 |           0.0636195 |          0.000256711 |            0.013408   |                   0.99653  |           1.54404  |                    286.01  |\n",
      "| 0.5 |           0.0628813 |          0.000250788 |            0.0123227  |                   0.993484 |           1.6678   |                    316.951 |\n",
      "| 1   |           0.0455467 |          0.000131576 |            0.00957145 |                   0.997824 |           0.803419 |                    100.855 |\n",
      "| 3   |           0.0468704 |          0.000139336 |            0.0104059  |                   0.998072 |           0.803404 |                    100.851 |\n",
      "| 5   |           0.0768186 |          0.00037428  |            0.0170078  |                   0.997122 |           1.16634  |                    191.584 |\n"
     ]
    }
   ],
   "source": [
    "hparams.set_lr(1e-4)\n",
    "additional_str = '_RMSprop_train_1_Inverse'\n",
    "expt = InverseExperiement(InverseHeatEquation(), hparams, optim.RMSprop, additional_str)\n",
    "for act_name in act_names:\n",
    "    print('Activation Name: {}'.format(act_name))\n",
    "    expt.train_across_noise_stds(act_name)"
   ]
  },
  {
   "cell_type": "code",
   "execution_count": 5,
   "metadata": {},
   "outputs": [
    {
     "name": "stdout",
     "output_type": "stream",
     "text": [
      "Activation Name: tanh(x)\n",
      "init\n",
      "Parameter containing:\n",
      "tensor([1.8116], requires_grad=True)\n"
     ]
    },
    {
     "name": "stderr",
     "output_type": "stream",
     "text": [
      "100%|██████████| 50000/50000 [11:47<00:00, 70.68it/s]\n"
     ]
    },
    {
     "name": "stdout",
     "output_type": "stream",
     "text": [
      "final\n",
      "Parameter containing:\n",
      "tensor([0.4002], requires_grad=True)\n",
      "final\n",
      "0.4002082347869873\n",
      "init\n",
      "Parameter containing:\n",
      "tensor([1.8116], requires_grad=True)\n"
     ]
    },
    {
     "name": "stderr",
     "output_type": "stream",
     "text": [
      "100%|██████████| 50000/50000 [11:47<00:00, 70.67it/s]\n"
     ]
    },
    {
     "name": "stdout",
     "output_type": "stream",
     "text": [
      "final\n",
      "Parameter containing:\n",
      "tensor([0.3990], requires_grad=True)\n",
      "final\n",
      "0.39899682998657227\n",
      "init\n",
      "Parameter containing:\n",
      "tensor([1.8116], requires_grad=True)\n"
     ]
    },
    {
     "name": "stderr",
     "output_type": "stream",
     "text": [
      "100%|██████████| 50000/50000 [11:33<00:00, 72.06it/s]\n"
     ]
    },
    {
     "name": "stdout",
     "output_type": "stream",
     "text": [
      "final\n",
      "Parameter containing:\n",
      "tensor([0.3973], requires_grad=True)\n",
      "final\n",
      "0.3973030745983124\n",
      "init\n",
      "Parameter containing:\n",
      "tensor([1.8116], requires_grad=True)\n"
     ]
    },
    {
     "name": "stderr",
     "output_type": "stream",
     "text": [
      "100%|██████████| 50000/50000 [11:37<00:00, 71.66it/s]\n"
     ]
    },
    {
     "name": "stdout",
     "output_type": "stream",
     "text": [
      "final\n",
      "Parameter containing:\n",
      "tensor([0.3960], requires_grad=True)\n",
      "final\n",
      "0.3959673047065735\n",
      "init\n",
      "Parameter containing:\n",
      "tensor([1.8116], requires_grad=True)\n"
     ]
    },
    {
     "name": "stderr",
     "output_type": "stream",
     "text": [
      "100%|██████████| 50000/50000 [11:31<00:00, 72.31it/s]\n"
     ]
    },
    {
     "name": "stdout",
     "output_type": "stream",
     "text": [
      "final\n",
      "Parameter containing:\n",
      "tensor([0.4006], requires_grad=True)\n",
      "final\n",
      "0.40059345960617065\n",
      "|     |   l2_relative_error |   mean_squared_error |   mean_absolute_error |   explained_variance_score |   est. param value |   pc. error in param value |\n",
      "|----:|--------------------:|---------------------:|----------------------:|---------------------------:|-------------------:|---------------------------:|\n",
      "| 0.1 |          0.02691    |          4.59295e-05 |            0.00639648 |                   0.999869 |           0.400208 |                  0.0520587 |\n",
      "| 0.5 |          0.00719952 |          3.28754e-06 |            0.00166485 |                   0.999956 |           0.398997 |                  0.250793  |\n",
      "| 1   |          0.0382862  |          9.29715e-05 |            0.00926533 |                   0.999815 |           0.397303 |                  0.674231  |\n",
      "| 3   |          0.046696   |          0.0001383   |            0.0111454  |                   0.999632 |           0.395967 |                  1.00817   |\n",
      "| 5   |          0.0460343  |          0.000134409 |            0.0107853  |                   0.999108 |           0.400593 |                  0.148365  |\n",
      "Activation Name: sin(x)\n",
      "init\n",
      "Parameter containing:\n",
      "tensor([1.8116], requires_grad=True)\n"
     ]
    },
    {
     "name": "stderr",
     "output_type": "stream",
     "text": [
      "100%|██████████| 50000/50000 [12:26<00:00, 66.94it/s]\n"
     ]
    },
    {
     "name": "stdout",
     "output_type": "stream",
     "text": [
      "final\n",
      "Parameter containing:\n",
      "tensor([0.3999], requires_grad=True)\n",
      "final\n",
      "0.39987239241600037\n",
      "init\n",
      "Parameter containing:\n",
      "tensor([1.8116], requires_grad=True)\n"
     ]
    },
    {
     "name": "stderr",
     "output_type": "stream",
     "text": [
      "100%|██████████| 50000/50000 [11:57<00:00, 69.66it/s]\n"
     ]
    },
    {
     "name": "stdout",
     "output_type": "stream",
     "text": [
      "final\n",
      "Parameter containing:\n",
      "tensor([0.3980], requires_grad=True)\n",
      "final\n",
      "0.39803361892700195\n",
      "init\n",
      "Parameter containing:\n",
      "tensor([1.8116], requires_grad=True)\n"
     ]
    },
    {
     "name": "stderr",
     "output_type": "stream",
     "text": [
      "100%|██████████| 50000/50000 [12:25<00:00, 67.05it/s]\n"
     ]
    },
    {
     "name": "stdout",
     "output_type": "stream",
     "text": [
      "final\n",
      "Parameter containing:\n",
      "tensor([0.4019], requires_grad=True)\n",
      "final\n",
      "0.40194907784461975\n",
      "init\n",
      "Parameter containing:\n",
      "tensor([1.8116], requires_grad=True)\n"
     ]
    },
    {
     "name": "stderr",
     "output_type": "stream",
     "text": [
      "100%|██████████| 50000/50000 [12:02<00:00, 69.20it/s]\n"
     ]
    },
    {
     "name": "stdout",
     "output_type": "stream",
     "text": [
      "final\n",
      "Parameter containing:\n",
      "tensor([0.4007], requires_grad=True)\n",
      "final\n",
      "0.4007398784160614\n",
      "init\n",
      "Parameter containing:\n",
      "tensor([1.8116], requires_grad=True)\n"
     ]
    },
    {
     "name": "stderr",
     "output_type": "stream",
     "text": [
      "100%|██████████| 50000/50000 [11:56<00:00, 69.77it/s]\n"
     ]
    },
    {
     "name": "stdout",
     "output_type": "stream",
     "text": [
      "final\n",
      "Parameter containing:\n",
      "tensor([0.3936], requires_grad=True)\n",
      "final\n",
      "0.3936483561992645\n",
      "|     |   l2_relative_error |   mean_squared_error |   mean_absolute_error |   explained_variance_score |   est. param value |   pc. error in param value |\n",
      "|----:|--------------------:|---------------------:|----------------------:|---------------------------:|-------------------:|---------------------------:|\n",
      "| 0.1 |          0.00413962 |          1.08689e-06 |            0.00100877 |                   0.999997 |           0.399872 |                  0.0319019 |\n",
      "| 0.5 |          0.0120513  |          9.21148e-06 |            0.00275699 |                   0.999958 |           0.398034 |                  0.491595  |\n",
      "| 1   |          0.018291   |          2.12197e-05 |            0.0031408  |                   0.999562 |           0.401949 |                  0.487269  |\n",
      "| 3   |          0.0366221  |          8.5065e-05  |            0.00899598 |                   0.999892 |           0.40074  |                  0.18497   |\n",
      "| 5   |          0.0176608  |          1.97827e-05 |            0.00293588 |                   0.999532 |           0.393648 |                  1.58791   |\n",
      "Activation Name: STan-LAAF\n",
      "init\n",
      "Parameter containing:\n",
      "tensor([1.8116], requires_grad=True)\n"
     ]
    },
    {
     "name": "stderr",
     "output_type": "stream",
     "text": [
      "100%|██████████| 50000/50000 [19:44<00:00, 42.22it/s]\n"
     ]
    },
    {
     "name": "stdout",
     "output_type": "stream",
     "text": [
      "final\n",
      "Parameter containing:\n",
      "tensor([0.4005], requires_grad=True)\n",
      "final\n",
      "0.4004821479320526\n",
      "init\n",
      "Parameter containing:\n",
      "tensor([1.8116], requires_grad=True)\n"
     ]
    },
    {
     "name": "stderr",
     "output_type": "stream",
     "text": [
      "100%|██████████| 50000/50000 [20:10<00:00, 41.30it/s]\n"
     ]
    },
    {
     "name": "stdout",
     "output_type": "stream",
     "text": [
      "final\n",
      "Parameter containing:\n",
      "tensor([0.4011], requires_grad=True)\n",
      "final\n",
      "0.40112441778182983\n",
      "init\n",
      "Parameter containing:\n",
      "tensor([1.8116], requires_grad=True)\n"
     ]
    },
    {
     "name": "stderr",
     "output_type": "stream",
     "text": [
      "100%|██████████| 50000/50000 [19:45<00:00, 42.19it/s]\n"
     ]
    },
    {
     "name": "stdout",
     "output_type": "stream",
     "text": [
      "final\n",
      "Parameter containing:\n",
      "tensor([0.4003], requires_grad=True)\n",
      "final\n",
      "0.4003077447414398\n",
      "init\n",
      "Parameter containing:\n",
      "tensor([1.8116], requires_grad=True)\n"
     ]
    },
    {
     "name": "stderr",
     "output_type": "stream",
     "text": [
      "100%|██████████| 50000/50000 [19:57<00:00, 41.75it/s]\n"
     ]
    },
    {
     "name": "stdout",
     "output_type": "stream",
     "text": [
      "final\n",
      "Parameter containing:\n",
      "tensor([0.3907], requires_grad=True)\n",
      "final\n",
      "0.3907434344291687\n",
      "init\n",
      "Parameter containing:\n",
      "tensor([1.8116], requires_grad=True)\n"
     ]
    },
    {
     "name": "stderr",
     "output_type": "stream",
     "text": [
      "100%|██████████| 50000/50000 [19:33<00:00, 42.62it/s]\n"
     ]
    },
    {
     "name": "stdout",
     "output_type": "stream",
     "text": [
      "final\n",
      "Parameter containing:\n",
      "tensor([0.3869], requires_grad=True)\n",
      "final\n",
      "0.3869344890117645\n",
      "|     |   l2_relative_error |   mean_squared_error |   mean_absolute_error |   explained_variance_score |   est. param value |   pc. error in param value |\n",
      "|----:|--------------------:|---------------------:|----------------------:|---------------------------:|-------------------:|---------------------------:|\n",
      "| 0.1 |          0.00655956 |          2.72907e-06 |            0.00123363 |                   0.999962 |           0.400482 |                  0.120537  |\n",
      "| 0.5 |          0.019624   |          2.44253e-05 |            0.00473395 |                   0.999948 |           0.401124 |                  0.281104  |\n",
      "| 1   |          0.0187443  |          2.22844e-05 |            0.00394826 |                   0.999753 |           0.400308 |                  0.0769362 |\n",
      "| 3   |          0.0254588  |          4.11094e-05 |            0.0058793  |                   0.999759 |           0.390743 |                  2.31414   |\n",
      "| 5   |          0.0509204  |          0.000164455 |            0.0108385  |                   0.997181 |           0.386934 |                  3.26638   |\n",
      "Activation Name: STan-NLAAF\n",
      "init\n",
      "Parameter containing:\n",
      "tensor([1.8116], requires_grad=True)\n"
     ]
    },
    {
     "name": "stderr",
     "output_type": "stream",
     "text": [
      "100%|██████████| 50000/50000 [20:15<00:00, 41.15it/s]\n"
     ]
    },
    {
     "name": "stdout",
     "output_type": "stream",
     "text": [
      "final\n",
      "Parameter containing:\n",
      "tensor([0.3994], requires_grad=True)\n",
      "final\n",
      "0.39938730001449585\n",
      "init\n",
      "Parameter containing:\n",
      "tensor([1.8116], requires_grad=True)\n"
     ]
    },
    {
     "name": "stderr",
     "output_type": "stream",
     "text": [
      "100%|██████████| 50000/50000 [20:29<00:00, 40.65it/s]\n"
     ]
    },
    {
     "name": "stdout",
     "output_type": "stream",
     "text": [
      "final\n",
      "Parameter containing:\n",
      "tensor([0.3996], requires_grad=True)\n",
      "final\n",
      "0.3995693325996399\n",
      "init\n",
      "Parameter containing:\n",
      "tensor([1.8116], requires_grad=True)\n"
     ]
    },
    {
     "name": "stderr",
     "output_type": "stream",
     "text": [
      "100%|██████████| 50000/50000 [20:02<00:00, 41.57it/s]\n"
     ]
    },
    {
     "name": "stdout",
     "output_type": "stream",
     "text": [
      "final\n",
      "Parameter containing:\n",
      "tensor([0.4007], requires_grad=True)\n",
      "final\n",
      "0.400664746761322\n",
      "init\n",
      "Parameter containing:\n",
      "tensor([1.8116], requires_grad=True)\n"
     ]
    },
    {
     "name": "stderr",
     "output_type": "stream",
     "text": [
      "100%|██████████| 50000/50000 [20:26<00:00, 40.75it/s]\n"
     ]
    },
    {
     "name": "stdout",
     "output_type": "stream",
     "text": [
      "final\n",
      "Parameter containing:\n",
      "tensor([0.4021], requires_grad=True)\n",
      "final\n",
      "0.4020944833755493\n",
      "init\n",
      "Parameter containing:\n",
      "tensor([1.8116], requires_grad=True)\n"
     ]
    },
    {
     "name": "stderr",
     "output_type": "stream",
     "text": [
      "100%|██████████| 50000/50000 [20:06<00:00, 41.45it/s]\n"
     ]
    },
    {
     "name": "stdout",
     "output_type": "stream",
     "text": [
      "final\n",
      "Parameter containing:\n",
      "tensor([0.4080], requires_grad=True)\n",
      "final\n",
      "0.4079560339450836\n",
      "|     |   l2_relative_error |   mean_squared_error |   mean_absolute_error |   explained_variance_score |   est. param value |   pc. error in param value |\n",
      "|----:|--------------------:|---------------------:|----------------------:|---------------------------:|-------------------:|---------------------------:|\n",
      "| 0.1 |          0.00846293 |          4.54261e-06 |            0.00196758 |                   0.99997  |           0.399387 |                   0.153175 |\n",
      "| 0.5 |          0.00817281 |          4.2365e-06  |            0.00184425 |                   0.999941 |           0.399569 |                   0.107667 |\n",
      "| 1   |          0.00906589 |          5.21299e-06 |            0.00138228 |                   0.999904 |           0.400665 |                   0.166187 |\n",
      "| 3   |          0.0358625  |          8.15729e-05 |            0.00856038 |                   0.999755 |           0.402094 |                   0.523621 |\n",
      "| 5   |          0.0166279  |          1.75364e-05 |            0.0030054  |                   0.999685 |           0.407956 |                   1.98901  |\n",
      "Activation Name: REAct-LAAF\n",
      "init\n",
      "Parameter containing:\n",
      "tensor([1.8116], requires_grad=True)\n"
     ]
    },
    {
     "name": "stderr",
     "output_type": "stream",
     "text": [
      "100%|██████████| 50000/50000 [30:21<00:00, 27.45it/s]\n"
     ]
    },
    {
     "name": "stdout",
     "output_type": "stream",
     "text": [
      "final\n",
      "Parameter containing:\n",
      "tensor([0.3999], requires_grad=True)\n",
      "final\n",
      "0.39988580346107483\n",
      "init\n",
      "Parameter containing:\n",
      "tensor([1.8116], requires_grad=True)\n"
     ]
    },
    {
     "name": "stderr",
     "output_type": "stream",
     "text": [
      "100%|██████████| 50000/50000 [31:40<00:00, 26.31it/s]\n"
     ]
    },
    {
     "name": "stdout",
     "output_type": "stream",
     "text": [
      "final\n",
      "Parameter containing:\n",
      "tensor([0.3999], requires_grad=True)\n",
      "final\n",
      "0.399876207113266\n",
      "init\n",
      "Parameter containing:\n",
      "tensor([1.8116], requires_grad=True)\n"
     ]
    },
    {
     "name": "stderr",
     "output_type": "stream",
     "text": [
      "100%|██████████| 50000/50000 [30:44<00:00, 27.11it/s]\n"
     ]
    },
    {
     "name": "stdout",
     "output_type": "stream",
     "text": [
      "final\n",
      "Parameter containing:\n",
      "tensor([0.3995], requires_grad=True)\n",
      "final\n",
      "0.399478018283844\n",
      "init\n",
      "Parameter containing:\n",
      "tensor([1.8116], requires_grad=True)\n"
     ]
    },
    {
     "name": "stderr",
     "output_type": "stream",
     "text": [
      "100%|██████████| 50000/50000 [29:36<00:00, 28.15it/s]\n"
     ]
    },
    {
     "name": "stdout",
     "output_type": "stream",
     "text": [
      "final\n",
      "Parameter containing:\n",
      "tensor([nan], requires_grad=True)\n",
      "final\n",
      "nan\n",
      "init\n",
      "Parameter containing:\n",
      "tensor([1.8116], requires_grad=True)\n"
     ]
    },
    {
     "name": "stderr",
     "output_type": "stream",
     "text": [
      "100%|██████████| 50000/50000 [30:24<00:00, 27.41it/s]\n"
     ]
    },
    {
     "name": "stdout",
     "output_type": "stream",
     "text": [
      "final\n",
      "Parameter containing:\n",
      "tensor([0.4028], requires_grad=True)\n",
      "final\n",
      "0.40275105834007263\n",
      "|     |   l2_relative_error |   mean_squared_error |   mean_absolute_error |   explained_variance_score |   est. param value |   pc. error in param value |\n",
      "|----:|--------------------:|---------------------:|----------------------:|---------------------------:|-------------------:|---------------------------:|\n",
      "| 0.1 |          0.0174303  |          1.92696e-05 |           0.00351887  |                   0.999821 |           0.399886 |                  0.0285491 |\n",
      "| 0.5 |          0.00391454 |          9.7191e-07  |           0.000813839 |                   0.999984 |           0.399876 |                  0.0309482 |\n",
      "| 1   |          0.0176869  |          1.98412e-05 |           0.00429058  |                   0.999962 |           0.399478 |                  0.130495  |\n",
      "| 3   |        nan          |        nan           |         nan           |                 nan        |         nan        |                nan         |\n",
      "| 5   |          0.0484105  |          0.000148644 |           0.00767901  |                   0.996938 |           0.402751 |                  0.687765  |\n",
      "Activation Name: REAct-NLAAF\n",
      "init\n",
      "Parameter containing:\n",
      "tensor([1.8116], requires_grad=True)\n"
     ]
    },
    {
     "name": "stderr",
     "output_type": "stream",
     "text": [
      "100%|██████████| 50000/50000 [31:34<00:00, 26.39it/s]\n"
     ]
    },
    {
     "name": "stdout",
     "output_type": "stream",
     "text": [
      "final\n",
      "Parameter containing:\n",
      "tensor([0.3994], requires_grad=True)\n",
      "final\n",
      "0.39943772554397583\n",
      "init\n",
      "Parameter containing:\n",
      "tensor([1.8116], requires_grad=True)\n"
     ]
    },
    {
     "name": "stderr",
     "output_type": "stream",
     "text": [
      "100%|██████████| 50000/50000 [31:23<00:00, 26.54it/s]\n"
     ]
    },
    {
     "name": "stdout",
     "output_type": "stream",
     "text": [
      "final\n",
      "Parameter containing:\n",
      "tensor([0.3992], requires_grad=True)\n",
      "final\n",
      "0.3992099165916443\n",
      "init\n",
      "Parameter containing:\n",
      "tensor([1.8116], requires_grad=True)\n"
     ]
    },
    {
     "name": "stderr",
     "output_type": "stream",
     "text": [
      "100%|██████████| 50000/50000 [31:31<00:00, 26.44it/s]\n"
     ]
    },
    {
     "name": "stdout",
     "output_type": "stream",
     "text": [
      "final\n",
      "Parameter containing:\n",
      "tensor([nan], requires_grad=True)\n",
      "final\n",
      "nan\n",
      "init\n",
      "Parameter containing:\n",
      "tensor([1.8116], requires_grad=True)\n"
     ]
    },
    {
     "name": "stderr",
     "output_type": "stream",
     "text": [
      "100%|██████████| 50000/50000 [31:43<00:00, 26.26it/s]\n"
     ]
    },
    {
     "name": "stdout",
     "output_type": "stream",
     "text": [
      "final\n",
      "Parameter containing:\n",
      "tensor([0.4002], requires_grad=True)\n",
      "final\n",
      "0.40021926164627075\n",
      "init\n",
      "Parameter containing:\n",
      "tensor([1.8116], requires_grad=True)\n"
     ]
    },
    {
     "name": "stderr",
     "output_type": "stream",
     "text": [
      "100%|██████████| 50000/50000 [30:56<00:00, 26.93it/s]\n"
     ]
    },
    {
     "name": "stdout",
     "output_type": "stream",
     "text": [
      "final\n",
      "Parameter containing:\n",
      "tensor([0.3948], requires_grad=True)\n",
      "final\n",
      "0.3948400318622589\n",
      "|     |   l2_relative_error |   mean_squared_error |   mean_absolute_error |   explained_variance_score |   est. param value |   pc. error in param value |\n",
      "|----:|--------------------:|---------------------:|----------------------:|---------------------------:|-------------------:|---------------------------:|\n",
      "| 0.1 |          0.00283664 |          5.10355e-07 |           0.000566154 |                   0.999987 |           0.399438 |                  0.140569  |\n",
      "| 0.5 |          0.0109111  |          7.55094e-06 |           0.00235791  |                   0.999946 |           0.39921  |                  0.197521  |\n",
      "| 1   |        nan          |        nan           |         nan           |                 nan        |         nan        |                nan         |\n",
      "| 3   |          0.0165613  |          1.73961e-05 |           0.00373304  |                   0.999901 |           0.400219 |                  0.0548154 |\n",
      "| 5   |          0.0294158  |          5.48815e-05 |           0.00613948  |                   0.998848 |           0.39484  |                  1.28999   |\n",
      "Activation Name: ABU\n",
      "init\n",
      "Parameter containing:\n",
      "tensor([1.8116], requires_grad=True)\n"
     ]
    },
    {
     "name": "stderr",
     "output_type": "stream",
     "text": [
      "100%|██████████| 50000/50000 [32:54<00:00, 25.32it/s]\n"
     ]
    },
    {
     "name": "stdout",
     "output_type": "stream",
     "text": [
      "final\n",
      "Parameter containing:\n",
      "tensor([1.4860], requires_grad=True)\n",
      "final\n",
      "1.4860074520111084\n",
      "init\n",
      "Parameter containing:\n",
      "tensor([1.8116], requires_grad=True)\n"
     ]
    },
    {
     "name": "stderr",
     "output_type": "stream",
     "text": [
      "100%|██████████| 50000/50000 [31:48<00:00, 26.19it/s]\n"
     ]
    },
    {
     "name": "stdout",
     "output_type": "stream",
     "text": [
      "final\n",
      "Parameter containing:\n",
      "tensor([1.1289], requires_grad=True)\n",
      "final\n",
      "1.1288971900939941\n",
      "init\n",
      "Parameter containing:\n",
      "tensor([1.8116], requires_grad=True)\n"
     ]
    },
    {
     "name": "stderr",
     "output_type": "stream",
     "text": [
      "100%|██████████| 50000/50000 [32:30<00:00, 25.63it/s]\n"
     ]
    },
    {
     "name": "stdout",
     "output_type": "stream",
     "text": [
      "final\n",
      "Parameter containing:\n",
      "tensor([0.7081], requires_grad=True)\n",
      "final\n",
      "0.7080564498901367\n",
      "init\n",
      "Parameter containing:\n",
      "tensor([1.8116], requires_grad=True)\n"
     ]
    },
    {
     "name": "stderr",
     "output_type": "stream",
     "text": [
      "100%|██████████| 50000/50000 [32:16<00:00, 25.82it/s]\n"
     ]
    },
    {
     "name": "stdout",
     "output_type": "stream",
     "text": [
      "final\n",
      "Parameter containing:\n",
      "tensor([1.0186], requires_grad=True)\n",
      "final\n",
      "1.0185821056365967\n",
      "init\n",
      "Parameter containing:\n",
      "tensor([1.8116], requires_grad=True)\n"
     ]
    },
    {
     "name": "stderr",
     "output_type": "stream",
     "text": [
      "100%|██████████| 50000/50000 [32:23<00:00, 25.73it/s]\n"
     ]
    },
    {
     "name": "stdout",
     "output_type": "stream",
     "text": [
      "final\n",
      "Parameter containing:\n",
      "tensor([1.2583], requires_grad=True)\n",
      "final\n",
      "1.2582584619522095\n",
      "|     |   l2_relative_error |   mean_squared_error |   mean_absolute_error |   explained_variance_score |   est. param value |   pc. error in param value |\n",
      "|----:|--------------------:|---------------------:|----------------------:|---------------------------:|-------------------:|---------------------------:|\n",
      "| 0.1 |           0.0116649 |          8.6304e-06  |            0.00213229 |                   0.999777 |           1.48601  |                   271.502  |\n",
      "| 0.5 |           0.0156001 |          1.54354e-05 |            0.00327108 |                   0.999634 |           1.1289   |                   182.224  |\n",
      "| 1   |           0.0220991 |          3.09753e-05 |            0.00390601 |                   0.999365 |           0.708056 |                    77.0141 |\n",
      "| 3   |           0.0412959 |          0.000108164 |            0.00684801 |                   0.997827 |           1.01858  |                   154.646  |\n",
      "| 5   |           0.0599728 |          0.000228125 |            0.0132067  |                   0.998472 |           1.25826  |                   214.565  |\n"
     ]
    }
   ],
   "source": [
    "hparams.set_lr(1e-3)\n",
    "additional_str = '_Adam_train_1_Inverse'\n",
    "expt = InverseExperiement(InverseHeatEquation(), hparams, optim.Adam, additional_str)\n",
    "for act_name in act_names:\n",
    "    print('Activation Name: {}'.format(act_name))\n",
    "    expt.train_across_noise_stds(act_name)"
   ]
  }
 ],
 "metadata": {
  "kernelspec": {
   "display_name": "PhysicsModels",
   "language": "python",
   "name": "physicsmodels"
  },
  "language_info": {
   "codemirror_mode": {
    "name": "ipython",
    "version": 3
   },
   "file_extension": ".py",
   "mimetype": "text/x-python",
   "name": "python",
   "nbconvert_exporter": "python",
   "pygments_lexer": "ipython3",
   "version": "3.9.19"
  }
 },
 "nbformat": 4,
 "nbformat_minor": 2
}
