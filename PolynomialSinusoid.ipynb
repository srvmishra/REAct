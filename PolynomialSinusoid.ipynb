{
 "cells": [
  {
   "cell_type": "code",
   "execution_count": 1,
   "metadata": {},
   "outputs": [],
   "source": [
    "from Experiments import *\n",
    "from utils.visualization import *\n",
    "import torch\n",
    "import torch.optim as optim"
   ]
  },
  {
   "cell_type": "code",
   "execution_count": 2,
   "metadata": {},
   "outputs": [],
   "source": [
    "torch.cuda.manual_seed(0)\n",
    "torch.manual_seed(0)\n",
    "device = torch.device('cuda:1')"
   ]
  },
  {
   "cell_type": "code",
   "execution_count": 3,
   "metadata": {},
   "outputs": [],
   "source": [
    "hparams = Hyperparameters()\n",
    "hparams.set_model_size([1, 32, 32, 32, 32, 1])\n",
    "hparams.set_epochs(30000) # 30000\n",
    "hparams.set_device(device)"
   ]
  },
  {
   "cell_type": "code",
   "execution_count": 4,
   "metadata": {},
   "outputs": [
    {
     "name": "stdout",
     "output_type": "stream",
     "text": [
      "Computing and Saving Analytical Solution\n",
      "Training for activation fn: ReLU\n"
     ]
    },
    {
     "name": "stderr",
     "output_type": "stream",
     "text": [
      "100%|██████████| 30000/30000 [01:51<00:00, 269.44it/s]\n"
     ]
    },
    {
     "name": "stdout",
     "output_type": "stream",
     "text": [
      "Training for activation fn: Sigmoid\n"
     ]
    },
    {
     "name": "stderr",
     "output_type": "stream",
     "text": [
      "100%|██████████| 30000/30000 [01:45<00:00, 285.32it/s]\n"
     ]
    },
    {
     "name": "stdout",
     "output_type": "stream",
     "text": [
      "Training for activation fn: Softplus\n"
     ]
    },
    {
     "name": "stderr",
     "output_type": "stream",
     "text": [
      "100%|██████████| 30000/30000 [01:45<00:00, 283.71it/s]\n"
     ]
    },
    {
     "name": "stdout",
     "output_type": "stream",
     "text": [
      "Training for activation fn: GELU\n"
     ]
    },
    {
     "name": "stderr",
     "output_type": "stream",
     "text": [
      "100%|██████████| 30000/30000 [01:45<00:00, 285.44it/s]\n"
     ]
    },
    {
     "name": "stdout",
     "output_type": "stream",
     "text": [
      "Training for activation fn: tanh(x)\n"
     ]
    },
    {
     "name": "stderr",
     "output_type": "stream",
     "text": [
      "100%|██████████| 30000/30000 [01:45<00:00, 284.92it/s]\n"
     ]
    },
    {
     "name": "stdout",
     "output_type": "stream",
     "text": [
      "Training for activation fn: sin(x)\n"
     ]
    },
    {
     "name": "stderr",
     "output_type": "stream",
     "text": [
      "100%|██████████| 30000/30000 [01:53<00:00, 263.66it/s]\n"
     ]
    },
    {
     "name": "stdout",
     "output_type": "stream",
     "text": [
      "Training for activation fn: sech(x)\n"
     ]
    },
    {
     "name": "stderr",
     "output_type": "stream",
     "text": [
      "100%|██████████| 30000/30000 [02:43<00:00, 183.54it/s]\n"
     ]
    },
    {
     "name": "stdout",
     "output_type": "stream",
     "text": [
      "Training for activation fn: (ax + b)tanh(cx + d)\n"
     ]
    },
    {
     "name": "stderr",
     "output_type": "stream",
     "text": [
      "100%|██████████| 30000/30000 [03:10<00:00, 157.62it/s]\n"
     ]
    },
    {
     "name": "stdout",
     "output_type": "stream",
     "text": [
      "Training for activation fn: sin(ax + b)tanh(cx + d)\n"
     ]
    },
    {
     "name": "stderr",
     "output_type": "stream",
     "text": [
      "100%|██████████| 30000/30000 [03:20<00:00, 149.51it/s]\n"
     ]
    },
    {
     "name": "stdout",
     "output_type": "stream",
     "text": [
      "Training for activation fn: STan-LAAF\n"
     ]
    },
    {
     "name": "stderr",
     "output_type": "stream",
     "text": [
      "100%|██████████| 30000/30000 [02:37<00:00, 190.06it/s]\n"
     ]
    },
    {
     "name": "stdout",
     "output_type": "stream",
     "text": [
      "Training for activation fn: STan-NLAAF\n"
     ]
    },
    {
     "name": "stderr",
     "output_type": "stream",
     "text": [
      "100%|██████████| 30000/30000 [02:37<00:00, 190.07it/s]\n"
     ]
    },
    {
     "name": "stdout",
     "output_type": "stream",
     "text": [
      "Training for activation fn: REAct-LAAF\n"
     ]
    },
    {
     "name": "stderr",
     "output_type": "stream",
     "text": [
      "100%|██████████| 30000/30000 [03:42<00:00, 135.12it/s]\n"
     ]
    },
    {
     "name": "stdout",
     "output_type": "stream",
     "text": [
      "Training for activation fn: REAct-NLAAF\n"
     ]
    },
    {
     "name": "stderr",
     "output_type": "stream",
     "text": [
      "100%|██████████| 30000/30000 [04:07<00:00, 121.21it/s]\n"
     ]
    },
    {
     "name": "stdout",
     "output_type": "stream",
     "text": [
      "Training for activation fn: ABU\n"
     ]
    },
    {
     "name": "stderr",
     "output_type": "stream",
     "text": [
      "100%|██████████| 30000/30000 [03:42<00:00, 134.96it/s]\n"
     ]
    },
    {
     "name": "stdout",
     "output_type": "stream",
     "text": [
      "|                         |   l2_relative_error |   mean_squared_error |   mean_absolute_error |   explained_variance_score |\n",
      "|:------------------------|--------------------:|---------------------:|----------------------:|---------------------------:|\n",
      "| ReLU                    |           0.0936179 |          0.0132442   |             0.0792988 |                   0.992432 |\n",
      "| Sigmoid                 |           0.41531   |          0.260647    |             0.350441  |                   0.823804 |\n",
      "| Softplus                |           0.424193  |          0.271916    |             0.391677  |                   0.817761 |\n",
      "| GELU                    |           0.0460212 |          0.00320055  |             0.0424545 |                   0.999012 |\n",
      "| tanh(x)                 |           0.420138  |          0.266743    |             0.365402  |                   0.819682 |\n",
      "| sin(x)                  |           0.017881  |          0.00048316  |             0.0167391 |                   0.999692 |\n",
      "| sech(x)                 |           0.0298191 |          0.00134369  |             0.0281872 |                   0.999112 |\n",
      "| (ax + b)tanh(cx + d)    |           0.0471638 |          0.00336144  |             0.0486319 |                   0.999283 |\n",
      "| sin(ax + b)tanh(cx + d) |           0.0160934 |          0.000391385 |             0.0128836 |                   0.999743 |\n",
      "| STan-LAAF               |           0.285702  |          0.123349    |             0.197277  |                   0.917098 |\n",
      "| STan-NLAAF              |           0.0198691 |          0.000596573 |             0.0183957 |                   0.999715 |\n",
      "| REAct-LAAF              |           0.214893  |          0.0697832   |             0.114153  |                   0.952941 |\n",
      "| REAct-NLAAF             |         nan         |        nan           |           nan         |                 nan        |\n",
      "| ABU                     |           0.0294364 |          0.00130942  |             0.0260583 |                   0.99916  |\n"
     ]
    }
   ],
   "source": [
    "hparams.set_lr(1e-4)\n",
    "additional_str = '_RMSprop'\n",
    "expt = ForwardExperiement(PolynomialSinusoid(), hparams, optim.RMSprop, additional_str, ntk=False)\n",
    "expt.train_and_test_on_all_activations()"
   ]
  },
  {
   "cell_type": "code",
   "execution_count": 5,
   "metadata": {},
   "outputs": [
    {
     "name": "stdout",
     "output_type": "stream",
     "text": [
      "Computing and Saving Analytical Solution\n",
      "Training for activation fn: ReLU\n"
     ]
    },
    {
     "name": "stderr",
     "output_type": "stream",
     "text": [
      "100%|██████████| 30000/30000 [01:46<00:00, 280.67it/s]\n"
     ]
    },
    {
     "name": "stdout",
     "output_type": "stream",
     "text": [
      "Training for activation fn: Sigmoid\n"
     ]
    },
    {
     "name": "stderr",
     "output_type": "stream",
     "text": [
      "100%|██████████| 30000/30000 [01:45<00:00, 285.01it/s]\n"
     ]
    },
    {
     "name": "stdout",
     "output_type": "stream",
     "text": [
      "Training for activation fn: Softplus\n"
     ]
    },
    {
     "name": "stderr",
     "output_type": "stream",
     "text": [
      "100%|██████████| 30000/30000 [01:46<00:00, 281.16it/s]\n"
     ]
    },
    {
     "name": "stdout",
     "output_type": "stream",
     "text": [
      "Training for activation fn: GELU\n"
     ]
    },
    {
     "name": "stderr",
     "output_type": "stream",
     "text": [
      "100%|██████████| 30000/30000 [01:46<00:00, 281.25it/s]\n"
     ]
    },
    {
     "name": "stdout",
     "output_type": "stream",
     "text": [
      "Training for activation fn: tanh(x)\n"
     ]
    },
    {
     "name": "stderr",
     "output_type": "stream",
     "text": [
      "100%|██████████| 30000/30000 [01:46<00:00, 281.06it/s]\n"
     ]
    },
    {
     "name": "stdout",
     "output_type": "stream",
     "text": [
      "Training for activation fn: sin(x)\n"
     ]
    },
    {
     "name": "stderr",
     "output_type": "stream",
     "text": [
      "100%|██████████| 30000/30000 [01:52<00:00, 267.48it/s]\n"
     ]
    },
    {
     "name": "stdout",
     "output_type": "stream",
     "text": [
      "Training for activation fn: sech(x)\n"
     ]
    },
    {
     "name": "stderr",
     "output_type": "stream",
     "text": [
      "100%|██████████| 30000/30000 [02:46<00:00, 180.64it/s]\n"
     ]
    },
    {
     "name": "stdout",
     "output_type": "stream",
     "text": [
      "Training for activation fn: (ax + b)tanh(cx + d)\n"
     ]
    },
    {
     "name": "stderr",
     "output_type": "stream",
     "text": [
      "100%|██████████| 30000/30000 [03:38<00:00, 137.56it/s]\n"
     ]
    },
    {
     "name": "stdout",
     "output_type": "stream",
     "text": [
      "Training for activation fn: sin(ax + b)tanh(cx + d)\n"
     ]
    },
    {
     "name": "stderr",
     "output_type": "stream",
     "text": [
      "100%|██████████| 30000/30000 [03:58<00:00, 125.69it/s]\n"
     ]
    },
    {
     "name": "stdout",
     "output_type": "stream",
     "text": [
      "Training for activation fn: STan-LAAF\n"
     ]
    },
    {
     "name": "stderr",
     "output_type": "stream",
     "text": [
      "100%|██████████| 30000/30000 [02:42<00:00, 184.23it/s]\n"
     ]
    },
    {
     "name": "stdout",
     "output_type": "stream",
     "text": [
      "Training for activation fn: STan-NLAAF\n"
     ]
    },
    {
     "name": "stderr",
     "output_type": "stream",
     "text": [
      "100%|██████████| 30000/30000 [02:44<00:00, 182.58it/s]\n"
     ]
    },
    {
     "name": "stdout",
     "output_type": "stream",
     "text": [
      "Training for activation fn: REAct-LAAF\n"
     ]
    },
    {
     "name": "stderr",
     "output_type": "stream",
     "text": [
      "100%|██████████| 30000/30000 [03:48<00:00, 131.45it/s]\n"
     ]
    },
    {
     "name": "stdout",
     "output_type": "stream",
     "text": [
      "Training for activation fn: REAct-NLAAF\n"
     ]
    },
    {
     "name": "stderr",
     "output_type": "stream",
     "text": [
      "100%|██████████| 30000/30000 [03:55<00:00, 127.13it/s]\n"
     ]
    },
    {
     "name": "stdout",
     "output_type": "stream",
     "text": [
      "Training for activation fn: ABU\n"
     ]
    },
    {
     "name": "stderr",
     "output_type": "stream",
     "text": [
      "100%|██████████| 30000/30000 [03:49<00:00, 130.95it/s]\n"
     ]
    },
    {
     "name": "stdout",
     "output_type": "stream",
     "text": [
      "|                         |   l2_relative_error |   mean_squared_error |   mean_absolute_error |   explained_variance_score |\n",
      "|:------------------------|--------------------:|---------------------:|----------------------:|---------------------------:|\n",
      "| ReLU                    |          0.136271   |          0.0280617   |            0.067392   |                   0.981182 |\n",
      "| Sigmoid                 |          0.739206   |          0.825732    |            0.601367   |                   0.441806 |\n",
      "| Softplus                |          0.0124586  |          0.000234556 |            0.0117553  |                   0.999841 |\n",
      "| GELU                    |          0.00941854 |          0.000134053 |            0.00910414 |                   0.999948 |\n",
      "| tanh(x)                 |          0.00751833 |          8.54183e-05 |            0.00716216 |                   0.999943 |\n",
      "| sin(x)                  |          0.0064691  |          6.32406e-05 |            0.00582911 |                   0.999958 |\n",
      "| sech(x)                 |          0.00193518 |          5.65914e-06 |            0.00164389 |                   0.999996 |\n",
      "| (ax + b)tanh(cx + d)    |          0.00411586 |          2.55994e-05 |            0.00364684 |                   0.999983 |\n",
      "| sin(ax + b)tanh(cx + d) |          0.00202338 |          6.18679e-06 |            0.00176154 |                   0.999996 |\n",
      "| STan-LAAF               |          0.0106698  |          0.000172035 |            0.0105926  |                   0.999884 |\n",
      "| STan-NLAAF              |          0.014038   |          0.000297795 |            0.0142279  |                   0.999892 |\n",
      "| REAct-LAAF              |          0.00292139 |          1.28969e-05 |            0.00259919 |                   0.999992 |\n",
      "| REAct-NLAAF             |        nan          |        nan           |          nan          |                 nan        |\n",
      "| ABU                     |          0.00695737 |          7.31474e-05 |            0.00615507 |                   0.999951 |\n"
     ]
    }
   ],
   "source": [
    "hparams.set_lr(1e-3)\n",
    "additional_str = '_Adam'\n",
    "expt = ForwardExperiement(PolynomialSinusoid(), hparams, optim.Adam, additional_str, ntk=False)\n",
    "expt.train_and_test_on_all_activations()"
   ]
  },
  {
   "cell_type": "code",
   "execution_count": 4,
   "metadata": {},
   "outputs": [
    {
     "name": "stdout",
     "output_type": "stream",
     "text": [
      "Computing and Saving Analytical Solution\n",
      "Training for activation fn: STan-LAAF\n"
     ]
    },
    {
     "name": "stderr",
     "output_type": "stream",
     "text": [
      "100%|██████████| 30000/30000 [03:02<00:00, 164.55it/s]\n"
     ]
    },
    {
     "name": "stdout",
     "output_type": "stream",
     "text": [
      "Training for activation fn: STan-NLAAF\n"
     ]
    },
    {
     "name": "stderr",
     "output_type": "stream",
     "text": [
      "100%|██████████| 30000/30000 [03:23<00:00, 147.15it/s]\n"
     ]
    },
    {
     "name": "stdout",
     "output_type": "stream",
     "text": [
      "Training for activation fn: REAct-LAAF\n"
     ]
    },
    {
     "name": "stderr",
     "output_type": "stream",
     "text": [
      "100%|██████████| 30000/30000 [05:00<00:00, 99.97it/s] \n"
     ]
    },
    {
     "name": "stdout",
     "output_type": "stream",
     "text": [
      "Training for activation fn: REAct-NLAAF\n"
     ]
    },
    {
     "name": "stderr",
     "output_type": "stream",
     "text": [
      "100%|██████████| 30000/30000 [06:21<00:00, 78.69it/s]\n"
     ]
    },
    {
     "name": "stdout",
     "output_type": "stream",
     "text": [
      "|             |   l2_relative_error |   mean_squared_error |   mean_absolute_error |   explained_variance_score |\n",
      "|:------------|--------------------:|---------------------:|----------------------:|---------------------------:|\n",
      "| STan-LAAF   |           0.0337396 |           0.00172024 |             0.0265608 |                   0.998847 |\n",
      "| STan-NLAAF  |           0.0739393 |           0.0082615  |             0.0607847 |                   0.994486 |\n",
      "| REAct-LAAF  |           0.587215  |           0.521078   |             0.592449  |                   0.656502 |\n",
      "| REAct-NLAAF |         nan         |         nan          |           nan         |                 nan        |\n"
     ]
    }
   ],
   "source": [
    "hparams.set_lr(1e-4)\n",
    "additional_str = '_RMSprop'\n",
    "expt = ForwardExperiementwithSlopeRecovery(PolynomialSinusoid(), hparams, optim.RMSprop, additional_str, ntk=False)\n",
    "expt.train_and_test_on_all_activations()"
   ]
  },
  {
   "cell_type": "code",
   "execution_count": 5,
   "metadata": {},
   "outputs": [
    {
     "name": "stdout",
     "output_type": "stream",
     "text": [
      "Computing and Saving Analytical Solution\n",
      "Training for activation fn: STan-LAAF\n"
     ]
    },
    {
     "name": "stderr",
     "output_type": "stream",
     "text": [
      "100%|██████████| 30000/30000 [03:07<00:00, 159.69it/s]\n"
     ]
    },
    {
     "name": "stdout",
     "output_type": "stream",
     "text": [
      "Training for activation fn: STan-NLAAF\n"
     ]
    },
    {
     "name": "stderr",
     "output_type": "stream",
     "text": [
      "100%|██████████| 30000/30000 [03:34<00:00, 140.05it/s]\n"
     ]
    },
    {
     "name": "stdout",
     "output_type": "stream",
     "text": [
      "Training for activation fn: REAct-LAAF\n"
     ]
    },
    {
     "name": "stderr",
     "output_type": "stream",
     "text": [
      "100%|██████████| 30000/30000 [05:07<00:00, 97.53it/s] \n"
     ]
    },
    {
     "name": "stdout",
     "output_type": "stream",
     "text": [
      "Training for activation fn: REAct-NLAAF\n"
     ]
    },
    {
     "name": "stderr",
     "output_type": "stream",
     "text": [
      "100%|██████████| 30000/30000 [06:18<00:00, 79.25it/s] \n"
     ]
    },
    {
     "name": "stdout",
     "output_type": "stream",
     "text": [
      "|             |   l2_relative_error |   mean_squared_error |   mean_absolute_error |   explained_variance_score |\n",
      "|:------------|--------------------:|---------------------:|----------------------:|---------------------------:|\n",
      "| STan-LAAF   |           0.0199684 |          0.000602551 |             0.0141416 |                   0.999596 |\n",
      "| STan-NLAAF  |           0.0225836 |          0.000770719 |             0.020869  |                   0.999651 |\n",
      "| REAct-LAAF  |         nan         |        nan           |           nan         |                 nan        |\n",
      "| REAct-NLAAF |         nan         |        nan           |           nan         |                 nan        |\n"
     ]
    }
   ],
   "source": [
    "hparams.set_lr(1e-3)\n",
    "additional_str = '_Adam'\n",
    "expt = ForwardExperiementwithSlopeRecovery(PolynomialSinusoid(), hparams, optim.Adam, additional_str, ntk=False)\n",
    "expt.train_and_test_on_all_activations()"
   ]
  }
 ],
 "metadata": {
  "kernelspec": {
   "display_name": "PhysicsModels",
   "language": "python",
   "name": "physicsmodels"
  },
  "language_info": {
   "codemirror_mode": {
    "name": "ipython",
    "version": 3
   },
   "file_extension": ".py",
   "mimetype": "text/x-python",
   "name": "python",
   "nbconvert_exporter": "python",
   "pygments_lexer": "ipython3",
   "version": "3.9.19"
  }
 },
 "nbformat": 4,
 "nbformat_minor": 2
}
