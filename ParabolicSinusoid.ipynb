{
 "cells": [
  {
   "cell_type": "code",
   "execution_count": 1,
   "metadata": {},
   "outputs": [],
   "source": [
    "from Experiments import *\n",
    "from utils.visualization import *\n",
    "import torch\n",
    "import torch.optim as optim"
   ]
  },
  {
   "cell_type": "code",
   "execution_count": 2,
   "metadata": {},
   "outputs": [],
   "source": [
    "torch.cuda.manual_seed(0)\n",
    "torch.manual_seed(0)\n",
    "device = torch.device('cuda:1')"
   ]
  },
  {
   "cell_type": "code",
   "execution_count": 3,
   "metadata": {},
   "outputs": [],
   "source": [
    "hparams = Hyperparameters()\n",
    "hparams.set_model_size([1, 32, 32, 32, 32, 1])\n",
    "hparams.set_epochs(30000) \n",
    "hparams.set_device(device)"
   ]
  },
  {
   "cell_type": "code",
   "execution_count": 4,
   "metadata": {},
   "outputs": [
    {
     "name": "stdout",
     "output_type": "stream",
     "text": [
      "Computing and Saving Analytical Solution\n",
      "Training for activation fn: ReLU\n"
     ]
    },
    {
     "name": "stderr",
     "output_type": "stream",
     "text": [
      "100%|██████████| 30000/30000 [01:45<00:00, 283.32it/s]\n"
     ]
    },
    {
     "name": "stdout",
     "output_type": "stream",
     "text": [
      "Training for activation fn: Sigmoid\n"
     ]
    },
    {
     "name": "stderr",
     "output_type": "stream",
     "text": [
      "100%|██████████| 30000/30000 [01:44<00:00, 285.85it/s]\n"
     ]
    },
    {
     "name": "stdout",
     "output_type": "stream",
     "text": [
      "Training for activation fn: Softplus\n"
     ]
    },
    {
     "name": "stderr",
     "output_type": "stream",
     "text": [
      "100%|██████████| 30000/30000 [01:44<00:00, 286.15it/s]\n"
     ]
    },
    {
     "name": "stdout",
     "output_type": "stream",
     "text": [
      "Training for activation fn: GELU\n"
     ]
    },
    {
     "name": "stderr",
     "output_type": "stream",
     "text": [
      "100%|██████████| 30000/30000 [01:45<00:00, 284.31it/s]\n"
     ]
    },
    {
     "name": "stdout",
     "output_type": "stream",
     "text": [
      "Training for activation fn: tanh(x)\n"
     ]
    },
    {
     "name": "stderr",
     "output_type": "stream",
     "text": [
      "100%|██████████| 30000/30000 [01:44<00:00, 286.12it/s]\n"
     ]
    },
    {
     "name": "stdout",
     "output_type": "stream",
     "text": [
      "Training for activation fn: sin(x)\n"
     ]
    },
    {
     "name": "stderr",
     "output_type": "stream",
     "text": [
      "100%|██████████| 30000/30000 [01:53<00:00, 264.23it/s]\n"
     ]
    },
    {
     "name": "stdout",
     "output_type": "stream",
     "text": [
      "Training for activation fn: sech(x)\n"
     ]
    },
    {
     "name": "stderr",
     "output_type": "stream",
     "text": [
      "100%|██████████| 30000/30000 [02:42<00:00, 184.66it/s]\n"
     ]
    },
    {
     "name": "stdout",
     "output_type": "stream",
     "text": [
      "Training for activation fn: (ax + b)tanh(cx + d)\n"
     ]
    },
    {
     "name": "stderr",
     "output_type": "stream",
     "text": [
      "100%|██████████| 30000/30000 [03:07<00:00, 159.87it/s]\n"
     ]
    },
    {
     "name": "stdout",
     "output_type": "stream",
     "text": [
      "Training for activation fn: sin(ax + b)tanh(cx + d)\n"
     ]
    },
    {
     "name": "stderr",
     "output_type": "stream",
     "text": [
      "100%|██████████| 30000/30000 [03:16<00:00, 152.30it/s]\n"
     ]
    },
    {
     "name": "stdout",
     "output_type": "stream",
     "text": [
      "Training for activation fn: STan-LAAF\n"
     ]
    },
    {
     "name": "stderr",
     "output_type": "stream",
     "text": [
      "100%|██████████| 30000/30000 [02:35<00:00, 192.32it/s]\n"
     ]
    },
    {
     "name": "stdout",
     "output_type": "stream",
     "text": [
      "Training for activation fn: STan-NLAAF\n"
     ]
    },
    {
     "name": "stderr",
     "output_type": "stream",
     "text": [
      "100%|██████████| 30000/30000 [02:36<00:00, 191.49it/s]\n"
     ]
    },
    {
     "name": "stdout",
     "output_type": "stream",
     "text": [
      "Training for activation fn: REAct-LAAF\n"
     ]
    },
    {
     "name": "stderr",
     "output_type": "stream",
     "text": [
      "100%|██████████| 30000/30000 [03:39<00:00, 136.84it/s]\n"
     ]
    },
    {
     "name": "stdout",
     "output_type": "stream",
     "text": [
      "Training for activation fn: REAct-NLAAF\n"
     ]
    },
    {
     "name": "stderr",
     "output_type": "stream",
     "text": [
      "100%|██████████| 30000/30000 [03:48<00:00, 131.48it/s]\n"
     ]
    },
    {
     "name": "stdout",
     "output_type": "stream",
     "text": [
      "Training for activation fn: ABU\n"
     ]
    },
    {
     "name": "stderr",
     "output_type": "stream",
     "text": [
      "100%|██████████| 30000/30000 [03:39<00:00, 136.86it/s]\n"
     ]
    },
    {
     "name": "stdout",
     "output_type": "stream",
     "text": [
      "|                         |   l2_relative_error |   mean_squared_error |   mean_absolute_error |   explained_variance_score |\n",
      "|:------------------------|--------------------:|---------------------:|----------------------:|---------------------------:|\n",
      "| ReLU                    |          0.0137     |          0.00160535  |             0.0372432 |                   0.999961 |\n",
      "| Sigmoid                 |          0.00665417 |          0.000378719 |             0.012486  |                   0.999956 |\n",
      "| Softplus                |          0.0561119  |          0.0269303   |             0.144202  |                   0.998699 |\n",
      "| GELU                    |          0.0181826  |          0.00282774  |             0.0343323 |                   0.999778 |\n",
      "| tanh(x)                 |          0.0223935  |          0.00428916  |             0.0293346 |                   0.999499 |\n",
      "| sin(x)                  |          0.0116337  |          0.00115762  |             0.0273862 |                   0.99987  |\n",
      "| sech(x)                 |          0.0134402  |          0.00154505  |             0.023988  |                   0.999841 |\n",
      "| (ax + b)tanh(cx + d)    |          0.0135229  |          0.00156412  |             0.0223897 |                   0.999846 |\n",
      "| sin(ax + b)tanh(cx + d) |          0.00766287 |          0.000502241 |             0.0210568 |                   0.999993 |\n",
      "| STan-LAAF               |          0.00656951 |          0.000369144 |             0.0143184 |                   0.999957 |\n",
      "| STan-NLAAF              |          0.012242   |          0.00128184  |             0.0180127 |                   0.999863 |\n",
      "| REAct-LAAF              |          0.005141   |          0.000226061 |             0.0108662 |                   0.999977 |\n",
      "| REAct-NLAAF             |        nan          |        nan           |           nan         |                 nan        |\n",
      "| ABU                     |          0.00864874 |          0.000639787 |             0.0157013 |                   0.999943 |\n"
     ]
    }
   ],
   "source": [
    "hparams.set_lr(1e-4)\n",
    "additional_str = '_RMSprop'\n",
    "expt = ForwardExperiement(ParabolicSinusoid(), hparams, optim.RMSprop, additional_str, ntk=False)\n",
    "expt.train_and_test_on_all_activations()"
   ]
  },
  {
   "cell_type": "code",
   "execution_count": 5,
   "metadata": {},
   "outputs": [
    {
     "name": "stdout",
     "output_type": "stream",
     "text": [
      "Computing and Saving Analytical Solution\n",
      "Training for activation fn: ReLU\n"
     ]
    },
    {
     "name": "stderr",
     "output_type": "stream",
     "text": [
      "100%|██████████| 30000/30000 [01:47<00:00, 279.38it/s]\n"
     ]
    },
    {
     "name": "stdout",
     "output_type": "stream",
     "text": [
      "Training for activation fn: Sigmoid\n"
     ]
    },
    {
     "name": "stderr",
     "output_type": "stream",
     "text": [
      "100%|██████████| 30000/30000 [01:45<00:00, 283.69it/s]\n"
     ]
    },
    {
     "name": "stdout",
     "output_type": "stream",
     "text": [
      "Training for activation fn: Softplus\n"
     ]
    },
    {
     "name": "stderr",
     "output_type": "stream",
     "text": [
      "100%|██████████| 30000/30000 [01:59<00:00, 250.71it/s]\n"
     ]
    },
    {
     "name": "stdout",
     "output_type": "stream",
     "text": [
      "Training for activation fn: GELU\n"
     ]
    },
    {
     "name": "stderr",
     "output_type": "stream",
     "text": [
      "100%|██████████| 30000/30000 [02:17<00:00, 218.31it/s]\n"
     ]
    },
    {
     "name": "stdout",
     "output_type": "stream",
     "text": [
      "Training for activation fn: tanh(x)\n"
     ]
    },
    {
     "name": "stderr",
     "output_type": "stream",
     "text": [
      "100%|██████████| 30000/30000 [01:55<00:00, 258.87it/s]\n"
     ]
    },
    {
     "name": "stdout",
     "output_type": "stream",
     "text": [
      "Training for activation fn: sin(x)\n"
     ]
    },
    {
     "name": "stderr",
     "output_type": "stream",
     "text": [
      "100%|██████████| 30000/30000 [01:50<00:00, 271.53it/s]\n"
     ]
    },
    {
     "name": "stdout",
     "output_type": "stream",
     "text": [
      "Training for activation fn: sech(x)\n"
     ]
    },
    {
     "name": "stderr",
     "output_type": "stream",
     "text": [
      "100%|██████████| 30000/30000 [02:45<00:00, 180.79it/s]\n"
     ]
    },
    {
     "name": "stdout",
     "output_type": "stream",
     "text": [
      "Training for activation fn: (ax + b)tanh(cx + d)\n"
     ]
    },
    {
     "name": "stderr",
     "output_type": "stream",
     "text": [
      "100%|██████████| 30000/30000 [03:18<00:00, 151.36it/s]\n"
     ]
    },
    {
     "name": "stdout",
     "output_type": "stream",
     "text": [
      "Training for activation fn: sin(ax + b)tanh(cx + d)\n"
     ]
    },
    {
     "name": "stderr",
     "output_type": "stream",
     "text": [
      "100%|██████████| 30000/30000 [03:28<00:00, 143.94it/s]\n"
     ]
    },
    {
     "name": "stdout",
     "output_type": "stream",
     "text": [
      "Training for activation fn: STan-LAAF\n"
     ]
    },
    {
     "name": "stderr",
     "output_type": "stream",
     "text": [
      "100%|██████████| 30000/30000 [02:41<00:00, 185.60it/s]\n"
     ]
    },
    {
     "name": "stdout",
     "output_type": "stream",
     "text": [
      "Training for activation fn: STan-NLAAF\n"
     ]
    },
    {
     "name": "stderr",
     "output_type": "stream",
     "text": [
      "100%|██████████| 30000/30000 [02:46<00:00, 180.68it/s]\n"
     ]
    },
    {
     "name": "stdout",
     "output_type": "stream",
     "text": [
      "Training for activation fn: REAct-LAAF\n"
     ]
    },
    {
     "name": "stderr",
     "output_type": "stream",
     "text": [
      "100%|██████████| 30000/30000 [03:56<00:00, 126.65it/s]\n"
     ]
    },
    {
     "name": "stdout",
     "output_type": "stream",
     "text": [
      "Training for activation fn: REAct-NLAAF\n"
     ]
    },
    {
     "name": "stderr",
     "output_type": "stream",
     "text": [
      "100%|██████████| 30000/30000 [03:55<00:00, 127.47it/s]\n"
     ]
    },
    {
     "name": "stdout",
     "output_type": "stream",
     "text": [
      "Training for activation fn: ABU\n"
     ]
    },
    {
     "name": "stderr",
     "output_type": "stream",
     "text": [
      "100%|██████████| 30000/30000 [03:48<00:00, 131.46it/s]\n"
     ]
    },
    {
     "name": "stdout",
     "output_type": "stream",
     "text": [
      "|                         |   l2_relative_error |   mean_squared_error |   mean_absolute_error |   explained_variance_score |\n",
      "|:------------------------|--------------------:|---------------------:|----------------------:|---------------------------:|\n",
      "| ReLU                    |         0.00242942  |          5.04817e-05 |            0.00524391 |                   0.999994 |\n",
      "| Sigmoid                 |         0.00112004  |          1.073e-05   |            0.00245943 |                   0.999999 |\n",
      "| Softplus                |         0.0367059   |          0.011524    |            0.0897852  |                   0.999595 |\n",
      "| GELU                    |         0.0103448   |          0.000915322 |            0.0212416  |                   0.999939 |\n",
      "| tanh(x)                 |         0.000601073 |          3.09018e-06 |            0.0012006  |                   1        |\n",
      "| sin(x)                  |         0.00168065  |          2.41594e-05 |            0.0038413  |                   0.999997 |\n",
      "| sech(x)                 |         0.00116498  |          1.16082e-05 |            0.00276542 |                   0.999999 |\n",
      "| (ax + b)tanh(cx + d)    |         0.000499039 |          2.13009e-06 |            0.00100122 |                   1        |\n",
      "| sin(ax + b)tanh(cx + d) |         0.00165507  |          2.34296e-05 |            0.00387236 |                   0.999997 |\n",
      "| STan-LAAF               |         0.00052856  |          2.38956e-06 |            0.00108765 |                   1        |\n",
      "| STan-NLAAF              |         0.00291645  |          7.27508e-05 |            0.00460815 |                   0.999992 |\n",
      "| REAct-LAAF              |         0.00116531  |          1.16148e-05 |            0.0023903  |                   0.999999 |\n",
      "| REAct-NLAAF             |       nan           |        nan           |          nan          |                 nan        |\n",
      "| ABU                     |         0.00716902  |          0.000439592 |            0.0133848  |                   0.99995  |\n"
     ]
    }
   ],
   "source": [
    "hparams.set_lr(1e-3)\n",
    "additional_str = '_Adam'\n",
    "expt = ForwardExperiement(ParabolicSinusoid(), hparams, optim.Adam, additional_str, ntk=False)\n",
    "expt.train_and_test_on_all_activations()"
   ]
  },
  {
   "cell_type": "code",
   "execution_count": 4,
   "metadata": {},
   "outputs": [
    {
     "name": "stdout",
     "output_type": "stream",
     "text": [
      "Computing and Saving Analytical Solution\n",
      "Training for activation fn: STan-LAAF\n"
     ]
    },
    {
     "name": "stderr",
     "output_type": "stream",
     "text": [
      "100%|██████████| 30000/30000 [03:00<00:00, 166.46it/s]\n"
     ]
    },
    {
     "name": "stdout",
     "output_type": "stream",
     "text": [
      "Training for activation fn: STan-NLAAF\n"
     ]
    },
    {
     "name": "stderr",
     "output_type": "stream",
     "text": [
      "100%|██████████| 30000/30000 [03:24<00:00, 146.78it/s]\n"
     ]
    },
    {
     "name": "stdout",
     "output_type": "stream",
     "text": [
      "Training for activation fn: REAct-LAAF\n"
     ]
    },
    {
     "name": "stderr",
     "output_type": "stream",
     "text": [
      "100%|██████████| 30000/30000 [04:57<00:00, 100.95it/s]\n"
     ]
    },
    {
     "name": "stdout",
     "output_type": "stream",
     "text": [
      "Training for activation fn: REAct-NLAAF\n"
     ]
    },
    {
     "name": "stderr",
     "output_type": "stream",
     "text": [
      "100%|██████████| 30000/30000 [06:17<00:00, 79.43it/s]"
     ]
    },
    {
     "name": "stdout",
     "output_type": "stream",
     "text": [
      "|             |   l2_relative_error |   mean_squared_error |   mean_absolute_error |   explained_variance_score |\n",
      "|:------------|--------------------:|---------------------:|----------------------:|---------------------------:|\n",
      "| STan-LAAF   |           0.0127492 |           0.00139026 |             0.022247  |                   0.999838 |\n",
      "| STan-NLAAF  |           0.0241587 |           0.00499204 |             0.0436345 |                   0.999484 |\n",
      "| REAct-LAAF  |           0.124591  |           0.13277    |             0.186528  |                   0.984498 |\n",
      "| REAct-NLAAF |         nan         |         nan          |           nan         |                 nan        |\n"
     ]
    },
    {
     "name": "stderr",
     "output_type": "stream",
     "text": [
      "\n"
     ]
    }
   ],
   "source": [
    "hparams.set_lr(1e-4)\n",
    "additional_str = '_RMSprop'\n",
    "expt = ForwardExperiementwithSlopeRecovery(ParabolicSinusoid(), hparams, optim.RMSprop, additional_str, ntk=False)\n",
    "expt.train_and_test_on_all_activations()"
   ]
  },
  {
   "cell_type": "code",
   "execution_count": 5,
   "metadata": {},
   "outputs": [
    {
     "name": "stdout",
     "output_type": "stream",
     "text": [
      "Computing and Saving Analytical Solution\n",
      "Training for activation fn: STan-LAAF\n"
     ]
    },
    {
     "name": "stderr",
     "output_type": "stream",
     "text": [
      "100%|██████████| 30000/30000 [03:05<00:00, 161.96it/s]\n"
     ]
    },
    {
     "name": "stdout",
     "output_type": "stream",
     "text": [
      "Training for activation fn: STan-NLAAF\n"
     ]
    },
    {
     "name": "stderr",
     "output_type": "stream",
     "text": [
      "100%|██████████| 30000/30000 [03:16<00:00, 152.83it/s]\n"
     ]
    },
    {
     "name": "stdout",
     "output_type": "stream",
     "text": [
      "Training for activation fn: REAct-LAAF\n"
     ]
    },
    {
     "name": "stderr",
     "output_type": "stream",
     "text": [
      "100%|██████████| 30000/30000 [04:57<00:00, 100.90it/s]\n"
     ]
    },
    {
     "name": "stdout",
     "output_type": "stream",
     "text": [
      "Training for activation fn: REAct-NLAAF\n"
     ]
    },
    {
     "name": "stderr",
     "output_type": "stream",
     "text": [
      "100%|██████████| 30000/30000 [06:41<00:00, 74.74it/s]"
     ]
    },
    {
     "name": "stdout",
     "output_type": "stream",
     "text": [
      "|             |   l2_relative_error |   mean_squared_error |   mean_absolute_error |   explained_variance_score |\n",
      "|:------------|--------------------:|---------------------:|----------------------:|---------------------------:|\n",
      "| STan-LAAF   |         0.00149308  |          1.90675e-05 |           0.00248184  |                   0.999998 |\n",
      "| STan-NLAAF  |         0.000484014 |          2.00376e-06 |           0.000873139 |                   1        |\n",
      "| REAct-LAAF  |         0.00490287  |          0.000205604 |           0.0099401   |                   0.999978 |\n",
      "| REAct-NLAAF |       nan           |        nan           |         nan           |                 nan        |\n"
     ]
    },
    {
     "name": "stderr",
     "output_type": "stream",
     "text": [
      "\n"
     ]
    }
   ],
   "source": [
    "hparams.set_lr(1e-3)\n",
    "additional_str = '_Adam'\n",
    "expt = ForwardExperiementwithSlopeRecovery(ParabolicSinusoid(), hparams, optim.Adam, additional_str, ntk=False)\n",
    "expt.train_and_test_on_all_activations()"
   ]
  }
 ],
 "metadata": {
  "kernelspec": {
   "display_name": "PhysicsModels",
   "language": "python",
   "name": "physicsmodels"
  },
  "language_info": {
   "codemirror_mode": {
    "name": "ipython",
    "version": 3
   },
   "file_extension": ".py",
   "mimetype": "text/x-python",
   "name": "python",
   "nbconvert_exporter": "python",
   "pygments_lexer": "ipython3",
   "version": "3.9.19"
  }
 },
 "nbformat": 4,
 "nbformat_minor": 2
}
