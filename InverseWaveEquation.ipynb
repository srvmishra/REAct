{
 "cells": [
  {
   "cell_type": "code",
   "execution_count": 1,
   "metadata": {},
   "outputs": [],
   "source": [
    "from Experiments import *\n",
    "from utils.visualization import *\n",
    "import torch\n",
    "import torch.optim as optim"
   ]
  },
  {
   "cell_type": "code",
   "execution_count": 2,
   "metadata": {},
   "outputs": [],
   "source": [
    "torch.cuda.manual_seed(0)\n",
    "torch.manual_seed(0)\n",
    "device = torch.device('cuda:1')"
   ]
  },
  {
   "cell_type": "code",
   "execution_count": 3,
   "metadata": {},
   "outputs": [],
   "source": [
    "hparams = Hyperparameters()\n",
    "hparams.set_model_size([2, 60, 60, 60, 1])\n",
    "hparams.set_epochs(75000) # 75000\n",
    "hparams.set_device(device)"
   ]
  },
  {
   "cell_type": "code",
   "execution_count": 4,
   "metadata": {},
   "outputs": [
    {
     "name": "stdout",
     "output_type": "stream",
     "text": [
      "Computing and Saving Analytical Solution\n",
      "Training for activation fn: ReLU\n",
      "init\n",
      "Parameter containing:\n",
      "tensor([1.4623], requires_grad=True)\n"
     ]
    },
    {
     "name": "stderr",
     "output_type": "stream",
     "text": [
      "100%|██████████| 75000/75000 [25:32<00:00, 48.93it/s]\n"
     ]
    },
    {
     "name": "stdout",
     "output_type": "stream",
     "text": [
      "final\n",
      "Parameter containing:\n",
      "tensor([1.4623], requires_grad=True)\n",
      "Training for activation fn: Sigmoid\n",
      "init\n",
      "Parameter containing:\n",
      "tensor([1.4623], requires_grad=True)\n"
     ]
    },
    {
     "name": "stderr",
     "output_type": "stream",
     "text": [
      "100%|██████████| 75000/75000 [29:55<00:00, 41.78it/s] \n"
     ]
    },
    {
     "name": "stdout",
     "output_type": "stream",
     "text": [
      "final\n",
      "Parameter containing:\n",
      "tensor([1.9871], requires_grad=True)\n",
      "Training for activation fn: Softplus\n",
      "init\n",
      "Parameter containing:\n",
      "tensor([1.4623], requires_grad=True)\n"
     ]
    },
    {
     "name": "stderr",
     "output_type": "stream",
     "text": [
      "100%|██████████| 75000/75000 [32:03<00:00, 39.00it/s]\n"
     ]
    },
    {
     "name": "stdout",
     "output_type": "stream",
     "text": [
      "final\n",
      "Parameter containing:\n",
      "tensor([1.9814], requires_grad=True)\n",
      "Training for activation fn: GELU\n",
      "init\n",
      "Parameter containing:\n",
      "tensor([1.4623], requires_grad=True)\n"
     ]
    },
    {
     "name": "stderr",
     "output_type": "stream",
     "text": [
      "100%|██████████| 75000/75000 [31:26<00:00, 39.76it/s] \n"
     ]
    },
    {
     "name": "stdout",
     "output_type": "stream",
     "text": [
      "final\n",
      "Parameter containing:\n",
      "tensor([1.9962], requires_grad=True)\n",
      "Training for activation fn: tanh(x)\n",
      "init\n",
      "Parameter containing:\n",
      "tensor([1.4623], requires_grad=True)\n"
     ]
    },
    {
     "name": "stderr",
     "output_type": "stream",
     "text": [
      "100%|██████████| 75000/75000 [30:22<00:00, 41.15it/s]\n"
     ]
    },
    {
     "name": "stdout",
     "output_type": "stream",
     "text": [
      "final\n",
      "Parameter containing:\n",
      "tensor([1.9962], requires_grad=True)\n",
      "Training for activation fn: sin(x)\n",
      "init\n",
      "Parameter containing:\n",
      "tensor([1.4623], requires_grad=True)\n"
     ]
    },
    {
     "name": "stderr",
     "output_type": "stream",
     "text": [
      "100%|██████████| 75000/75000 [30:12<00:00, 41.39it/s]\n"
     ]
    },
    {
     "name": "stdout",
     "output_type": "stream",
     "text": [
      "final\n",
      "Parameter containing:\n",
      "tensor([1.9951], requires_grad=True)\n",
      "Training for activation fn: sech(x)\n",
      "init\n",
      "Parameter containing:\n",
      "tensor([1.4623], requires_grad=True)\n"
     ]
    },
    {
     "name": "stderr",
     "output_type": "stream",
     "text": [
      "100%|██████████| 75000/75000 [42:22<00:00, 29.50it/s]\n"
     ]
    },
    {
     "name": "stdout",
     "output_type": "stream",
     "text": [
      "final\n",
      "Parameter containing:\n",
      "tensor([1.9967], requires_grad=True)\n",
      "Training for activation fn: (ax + b)tanh(cx + d)\n",
      "init\n",
      "Parameter containing:\n",
      "tensor([1.4623], requires_grad=True)\n"
     ]
    },
    {
     "name": "stderr",
     "output_type": "stream",
     "text": [
      "100%|██████████| 75000/75000 [40:18<00:00, 31.02it/s]\n"
     ]
    },
    {
     "name": "stdout",
     "output_type": "stream",
     "text": [
      "final\n",
      "Parameter containing:\n",
      "tensor([1.9865], requires_grad=True)\n",
      "Training for activation fn: sin(ax + b)tanh(cx + d)\n",
      "init\n",
      "Parameter containing:\n",
      "tensor([1.4623], requires_grad=True)\n"
     ]
    },
    {
     "name": "stderr",
     "output_type": "stream",
     "text": [
      "100%|██████████| 75000/75000 [44:45<00:00, 27.93it/s]\n"
     ]
    },
    {
     "name": "stdout",
     "output_type": "stream",
     "text": [
      "final\n",
      "Parameter containing:\n",
      "tensor([1.9912], requires_grad=True)\n",
      "Training for activation fn: STan-LAAF\n",
      "init\n",
      "Parameter containing:\n",
      "tensor([1.4623], requires_grad=True)\n"
     ]
    },
    {
     "name": "stderr",
     "output_type": "stream",
     "text": [
      "100%|██████████| 75000/75000 [38:13<00:00, 32.70it/s]\n"
     ]
    },
    {
     "name": "stdout",
     "output_type": "stream",
     "text": [
      "final\n",
      "Parameter containing:\n",
      "tensor([1.9942], requires_grad=True)\n",
      "Training for activation fn: STan-NLAAF\n",
      "init\n",
      "Parameter containing:\n",
      "tensor([1.4623], requires_grad=True)\n"
     ]
    },
    {
     "name": "stderr",
     "output_type": "stream",
     "text": [
      "100%|██████████| 75000/75000 [37:12<00:00, 33.59it/s]\n"
     ]
    },
    {
     "name": "stdout",
     "output_type": "stream",
     "text": [
      "final\n",
      "Parameter containing:\n",
      "tensor([1.9916], requires_grad=True)\n",
      "Training for activation fn: REAct-LAAF\n",
      "init\n",
      "Parameter containing:\n",
      "tensor([1.4623], requires_grad=True)\n"
     ]
    },
    {
     "name": "stderr",
     "output_type": "stream",
     "text": [
      "100%|██████████| 75000/75000 [50:14<00:00, 24.88it/s]\n"
     ]
    },
    {
     "name": "stdout",
     "output_type": "stream",
     "text": [
      "final\n",
      "Parameter containing:\n",
      "tensor([1.9968], requires_grad=True)\n",
      "Training for activation fn: REAct-NLAAF\n",
      "init\n",
      "Parameter containing:\n",
      "tensor([1.4623], requires_grad=True)\n"
     ]
    },
    {
     "name": "stderr",
     "output_type": "stream",
     "text": [
      "100%|██████████| 75000/75000 [53:38<00:00, 23.30it/s]\n"
     ]
    },
    {
     "name": "stdout",
     "output_type": "stream",
     "text": [
      "final\n",
      "Parameter containing:\n",
      "tensor([1.9881], requires_grad=True)\n",
      "Training for activation fn: ABU\n",
      "init\n",
      "Parameter containing:\n",
      "tensor([1.4623], requires_grad=True)\n"
     ]
    },
    {
     "name": "stderr",
     "output_type": "stream",
     "text": [
      "100%|██████████| 75000/75000 [51:25<00:00, 24.31it/s]\n"
     ]
    },
    {
     "name": "stdout",
     "output_type": "stream",
     "text": [
      "final\n",
      "Parameter containing:\n",
      "tensor([1.7735], requires_grad=True)\n",
      "|                         |   l2_relative_error |   mean_squared_error |   mean_absolute_error |   explained_variance_score |   est. param value |   pc. error in param value |\n",
      "|:------------------------|--------------------:|---------------------:|----------------------:|---------------------------:|-------------------:|---------------------------:|\n",
      "| ReLU                    |          0.0300901  |          0.000226353 |            0.0131022  |                   0.999708 |            1.77346 |                    11.3269 |\n",
      "| Sigmoid                 |          0.0348436  |          0.000303519 |            0.0150911  |                   0.99965  |            1.77346 |                    11.3269 |\n",
      "| Softplus                |          0.0595556  |          0.000886717 |            0.0256494  |                   0.999032 |            1.77346 |                    11.3269 |\n",
      "| GELU                    |          0.00515907 |          6.654e-06   |            0.00198134 |                   0.999974 |            1.77346 |                    11.3269 |\n",
      "| tanh(x)                 |          0.0284615  |          0.000202514 |            0.0139821  |                   0.999972 |            1.77346 |                    11.3269 |\n",
      "| sin(x)                  |          0.00767804 |          1.47381e-05 |            0.00326202 |                   0.999953 |            1.77346 |                    11.3269 |\n",
      "| sech(x)                 |          0.015827   |          6.26231e-05 |            0.00744719 |                   0.999971 |            1.77346 |                    11.3269 |\n",
      "| (ax + b)tanh(cx + d)    |          0.011414   |          3.25697e-05 |            0.00468957 |                   0.999924 |            1.77346 |                    11.3269 |\n",
      "| sin(ax + b)tanh(cx + d) |          0.0137357  |          4.71673e-05 |            0.00607676 |                   0.999959 |            1.77346 |                    11.3269 |\n",
      "| STan-LAAF               |          0.0212705  |          0.000113109 |            0.00928142 |                   0.999887 |            1.77346 |                    11.3269 |\n",
      "| STan-NLAAF              |          0.0130398  |          4.25088e-05 |            0.00603568 |                   0.999976 |            1.77346 |                    11.3269 |\n",
      "| REAct-LAAF              |          0.00779924 |          1.5207e-05  |            0.00346894 |                   0.999982 |            1.77346 |                    11.3269 |\n",
      "| REAct-NLAAF             |          0.0149611  |          5.59584e-05 |            0.00592791 |                   0.99991  |            1.77346 |                    11.3269 |\n",
      "| ABU                     |          0.0757124  |          0.00143309  |            0.0350008  |                   0.999061 |            1.77346 |                    11.3269 |\n"
     ]
    }
   ],
   "source": [
    "hparams.set_lr(1e-4)\n",
    "additional_str = '_RMSprop_train_1_Inverse'\n",
    "expt = InverseExperiement(InverseWaveEquation(), hparams, optim.RMSprop, additional_str)\n",
    "expt.train_and_test_on_all_activations()"
   ]
  },
  {
   "cell_type": "code",
   "execution_count": 5,
   "metadata": {},
   "outputs": [
    {
     "name": "stdout",
     "output_type": "stream",
     "text": [
      "Computing and Saving Analytical Solution\n",
      "Training for activation fn: ReLU\n",
      "init\n",
      "Parameter containing:\n",
      "tensor([1.4968], requires_grad=True)\n"
     ]
    },
    {
     "name": "stderr",
     "output_type": "stream",
     "text": [
      "100%|██████████| 75000/75000 [26:48<00:00, 46.63it/s]\n"
     ]
    },
    {
     "name": "stdout",
     "output_type": "stream",
     "text": [
      "final\n",
      "Parameter containing:\n",
      "tensor([1.4968], requires_grad=True)\n",
      "Training for activation fn: Sigmoid\n",
      "init\n",
      "Parameter containing:\n",
      "tensor([1.4968], requires_grad=True)\n"
     ]
    },
    {
     "name": "stderr",
     "output_type": "stream",
     "text": [
      "100%|██████████| 75000/75000 [31:40<00:00, 39.47it/s]\n"
     ]
    },
    {
     "name": "stdout",
     "output_type": "stream",
     "text": [
      "final\n",
      "Parameter containing:\n",
      "tensor([1.9995], requires_grad=True)\n",
      "Training for activation fn: Softplus\n",
      "init\n",
      "Parameter containing:\n",
      "tensor([1.4968], requires_grad=True)\n"
     ]
    },
    {
     "name": "stderr",
     "output_type": "stream",
     "text": [
      "100%|██████████| 75000/75000 [33:27<00:00, 37.36it/s]\n"
     ]
    },
    {
     "name": "stdout",
     "output_type": "stream",
     "text": [
      "final\n",
      "Parameter containing:\n",
      "tensor([1.9996], requires_grad=True)\n",
      "Training for activation fn: GELU\n",
      "init\n",
      "Parameter containing:\n",
      "tensor([1.4968], requires_grad=True)\n"
     ]
    },
    {
     "name": "stderr",
     "output_type": "stream",
     "text": [
      "100%|██████████| 75000/75000 [33:49<00:00, 36.95it/s]\n"
     ]
    },
    {
     "name": "stdout",
     "output_type": "stream",
     "text": [
      "final\n",
      "Parameter containing:\n",
      "tensor([1.9996], requires_grad=True)\n",
      "Training for activation fn: tanh(x)\n",
      "init\n",
      "Parameter containing:\n",
      "tensor([1.4968], requires_grad=True)\n"
     ]
    },
    {
     "name": "stderr",
     "output_type": "stream",
     "text": [
      "100%|██████████| 75000/75000 [31:09<00:00, 40.12it/s]\n"
     ]
    },
    {
     "name": "stdout",
     "output_type": "stream",
     "text": [
      "final\n",
      "Parameter containing:\n",
      "tensor([1.9999], requires_grad=True)\n",
      "Training for activation fn: sin(x)\n",
      "init\n",
      "Parameter containing:\n",
      "tensor([1.4968], requires_grad=True)\n"
     ]
    },
    {
     "name": "stderr",
     "output_type": "stream",
     "text": [
      "100%|██████████| 75000/75000 [31:57<00:00, 39.12it/s]\n"
     ]
    },
    {
     "name": "stdout",
     "output_type": "stream",
     "text": [
      "final\n",
      "Parameter containing:\n",
      "tensor([1.9992], requires_grad=True)\n",
      "Training for activation fn: sech(x)\n",
      "init\n",
      "Parameter containing:\n",
      "tensor([1.4968], requires_grad=True)\n"
     ]
    },
    {
     "name": "stderr",
     "output_type": "stream",
     "text": [
      "100%|██████████| 75000/75000 [43:50<00:00, 28.52it/s]\n"
     ]
    },
    {
     "name": "stdout",
     "output_type": "stream",
     "text": [
      "final\n",
      "Parameter containing:\n",
      "tensor([2.0001], requires_grad=True)\n",
      "Training for activation fn: (ax + b)tanh(cx + d)\n",
      "init\n",
      "Parameter containing:\n",
      "tensor([1.4968], requires_grad=True)\n"
     ]
    },
    {
     "name": "stderr",
     "output_type": "stream",
     "text": [
      "100%|██████████| 75000/75000 [45:16<00:00, 27.61it/s]\n"
     ]
    },
    {
     "name": "stdout",
     "output_type": "stream",
     "text": [
      "final\n",
      "Parameter containing:\n",
      "tensor([2.0000], requires_grad=True)\n",
      "Training for activation fn: sin(ax + b)tanh(cx + d)\n",
      "init\n",
      "Parameter containing:\n",
      "tensor([1.4968], requires_grad=True)\n"
     ]
    },
    {
     "name": "stderr",
     "output_type": "stream",
     "text": [
      "100%|██████████| 75000/75000 [47:53<00:00, 26.10it/s]\n"
     ]
    },
    {
     "name": "stdout",
     "output_type": "stream",
     "text": [
      "final\n",
      "Parameter containing:\n",
      "tensor([1.9997], requires_grad=True)\n",
      "Training for activation fn: STan-LAAF\n",
      "init\n",
      "Parameter containing:\n",
      "tensor([1.4968], requires_grad=True)\n"
     ]
    },
    {
     "name": "stderr",
     "output_type": "stream",
     "text": [
      "100%|██████████| 75000/75000 [39:15<00:00, 31.84it/s]\n"
     ]
    },
    {
     "name": "stdout",
     "output_type": "stream",
     "text": [
      "final\n",
      "Parameter containing:\n",
      "tensor([1.9995], requires_grad=True)\n",
      "Training for activation fn: STan-NLAAF\n",
      "init\n",
      "Parameter containing:\n",
      "tensor([1.4968], requires_grad=True)\n"
     ]
    },
    {
     "name": "stderr",
     "output_type": "stream",
     "text": [
      "100%|██████████| 75000/75000 [40:36<00:00, 30.79it/s]\n"
     ]
    },
    {
     "name": "stdout",
     "output_type": "stream",
     "text": [
      "final\n",
      "Parameter containing:\n",
      "tensor([1.9995], requires_grad=True)\n",
      "Training for activation fn: REAct-LAAF\n",
      "init\n",
      "Parameter containing:\n",
      "tensor([1.4968], requires_grad=True)\n"
     ]
    },
    {
     "name": "stderr",
     "output_type": "stream",
     "text": [
      "100%|██████████| 75000/75000 [52:12<00:00, 23.94it/s]\n"
     ]
    },
    {
     "name": "stdout",
     "output_type": "stream",
     "text": [
      "final\n",
      "Parameter containing:\n",
      "tensor([1.9993], requires_grad=True)\n",
      "Training for activation fn: REAct-NLAAF\n",
      "init\n",
      "Parameter containing:\n",
      "tensor([1.4968], requires_grad=True)\n"
     ]
    },
    {
     "name": "stderr",
     "output_type": "stream",
     "text": [
      "100%|██████████| 75000/75000 [55:31<00:00, 22.51it/s] \n"
     ]
    },
    {
     "name": "stdout",
     "output_type": "stream",
     "text": [
      "final\n",
      "Parameter containing:\n",
      "tensor([1.9990], requires_grad=True)\n",
      "Training for activation fn: ABU\n",
      "init\n",
      "Parameter containing:\n",
      "tensor([1.4968], requires_grad=True)\n"
     ]
    },
    {
     "name": "stderr",
     "output_type": "stream",
     "text": [
      "100%|██████████| 75000/75000 [55:25<00:00, 22.55it/s] \n"
     ]
    },
    {
     "name": "stdout",
     "output_type": "stream",
     "text": [
      "final\n",
      "Parameter containing:\n",
      "tensor([1.9933], requires_grad=True)\n",
      "|                         |   l2_relative_error |   mean_squared_error |   mean_absolute_error |   explained_variance_score |   est. param value |   pc. error in param value |\n",
      "|:------------------------|--------------------:|---------------------:|----------------------:|---------------------------:|-------------------:|---------------------------:|\n",
      "| ReLU                    |          1.01427    |          0.257187    |           0.385012    |                   0.23596  |            1.99325 |                   0.337374 |\n",
      "| Sigmoid                 |          0.00946845 |          2.24129e-05 |           0.00463844  |                   0.999996 |            1.99325 |                   0.337374 |\n",
      "| Softplus                |          0.00436213 |          4.75704e-06 |           0.0017725   |                   0.999983 |            1.99325 |                   0.337374 |\n",
      "| GELU                    |          0.00115891 |          3.35769e-07 |           0.000497747 |                   0.999999 |            1.99325 |                   0.337374 |\n",
      "| tanh(x)                 |          0.00156091 |          6.09108e-07 |           0.000620247 |                   0.999998 |            1.99325 |                   0.337374 |\n",
      "| sin(x)                  |          0.00416922 |          4.3456e-06  |           0.0018847   |                   0.999985 |            1.99325 |                   0.337374 |\n",
      "| sech(x)                 |          0.00590935 |          8.73008e-06 |           0.00274981  |                   0.999995 |            1.99325 |                   0.337374 |\n",
      "| (ax + b)tanh(cx + d)    |          0.00790109 |          1.56068e-05 |           0.00387852  |                   0.999998 |            1.99325 |                   0.337374 |\n",
      "| sin(ax + b)tanh(cx + d) |          0.00649015 |          1.05305e-05 |           0.00283151  |                   0.999987 |            1.99325 |                   0.337374 |\n",
      "| STan-LAAF               |          0.00337012 |          2.83942e-06 |           0.0016155   |                   0.999999 |            1.99325 |                   0.337374 |\n",
      "| STan-NLAAF              |          0.00289935 |          2.10155e-06 |           0.00121867  |                   0.999996 |            1.99325 |                   0.337374 |\n",
      "| REAct-LAAF              |          0.00726442 |          1.31929e-05 |           0.0034095   |                   0.999994 |            1.99325 |                   0.337374 |\n",
      "| REAct-NLAAF             |          0.00740768 |          1.37184e-05 |           0.00346134  |                   0.999993 |            1.99325 |                   0.337374 |\n",
      "| ABU                     |          0.0060045  |          9.01351e-06 |           0.00264225  |                   0.999988 |            1.99325 |                   0.337374 |\n"
     ]
    }
   ],
   "source": [
    "hparams.set_lr(1e-3)\n",
    "additional_str = '_Adam_train_1_Inverse'\n",
    "expt = InverseExperiement(InverseWaveEquation(), hparams, optim.Adam, additional_str)\n",
    "expt.train_and_test_on_all_activations()"
   ]
  }
 ],
 "metadata": {
  "kernelspec": {
   "display_name": "PhysicsModels",
   "language": "python",
   "name": "physicsmodels"
  },
  "language_info": {
   "codemirror_mode": {
    "name": "ipython",
    "version": 3
   },
   "file_extension": ".py",
   "mimetype": "text/x-python",
   "name": "python",
   "nbconvert_exporter": "python",
   "pygments_lexer": "ipython3",
   "version": "3.9.19"
  }
 },
 "nbformat": 4,
 "nbformat_minor": 2
}
