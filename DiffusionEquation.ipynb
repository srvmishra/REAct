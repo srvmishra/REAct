{
 "cells": [
  {
   "cell_type": "code",
   "execution_count": 1,
   "metadata": {},
   "outputs": [],
   "source": [
    "from Experiments import *\n",
    "from utils.visualization import *\n",
    "import torch\n",
    "import torch.optim as optim"
   ]
  },
  {
   "cell_type": "code",
   "execution_count": 2,
   "metadata": {},
   "outputs": [],
   "source": [
    "torch.cuda.manual_seed(0)\n",
    "torch.manual_seed(0)\n",
    "device = torch.device('cuda:0')"
   ]
  },
  {
   "cell_type": "code",
   "execution_count": 3,
   "metadata": {},
   "outputs": [],
   "source": [
    "hparams = Hyperparameters()\n",
    "hparams.set_model_size([2] + [30]*6 + [1])\n",
    "hparams.set_epochs(30000) # 30000\n",
    "hparams.set_device(device)"
   ]
  },
  {
   "cell_type": "code",
   "execution_count": 4,
   "metadata": {},
   "outputs": [
    {
     "name": "stdout",
     "output_type": "stream",
     "text": [
      "Computing and Saving Analytical Solution\n",
      "Training for activation fn: ReLU\n"
     ]
    },
    {
     "name": "stderr",
     "output_type": "stream",
     "text": [
      "  0%|          | 0/30000 [00:00<?, ?it/s]/home/airl-gpu4/anaconda3/envs/PhysicsModels/lib/python3.9/site-packages/torch/autograd/graph.py:744: UserWarning: Attempting to run cuBLAS, but there was no current CUDA context! Attempting to set the primary context... (Triggered internally at ../aten/src/ATen/cuda/CublasHandlePool.cpp:135.)\n",
      "  return Variable._execution_engine.run_backward(  # Calls into the C++ engine to run the backward pass\n",
      "100%|██████████| 30000/30000 [07:21<00:00, 67.93it/s]\n"
     ]
    },
    {
     "name": "stdout",
     "output_type": "stream",
     "text": [
      "Training for activation fn: Sigmoid\n"
     ]
    },
    {
     "name": "stderr",
     "output_type": "stream",
     "text": [
      "100%|██████████| 30000/30000 [09:23<00:00, 53.23it/s]\n"
     ]
    },
    {
     "name": "stdout",
     "output_type": "stream",
     "text": [
      "Training for activation fn: Softplus\n"
     ]
    },
    {
     "name": "stderr",
     "output_type": "stream",
     "text": [
      "100%|██████████| 30000/30000 [10:10<00:00, 49.15it/s]\n"
     ]
    },
    {
     "name": "stdout",
     "output_type": "stream",
     "text": [
      "Training for activation fn: GELU\n"
     ]
    },
    {
     "name": "stderr",
     "output_type": "stream",
     "text": [
      "100%|██████████| 30000/30000 [10:36<00:00, 47.13it/s]\n"
     ]
    },
    {
     "name": "stdout",
     "output_type": "stream",
     "text": [
      "Training for activation fn: tanh(x)\n"
     ]
    },
    {
     "name": "stderr",
     "output_type": "stream",
     "text": [
      "100%|██████████| 30000/30000 [09:00<00:00, 55.48it/s]\n"
     ]
    },
    {
     "name": "stdout",
     "output_type": "stream",
     "text": [
      "Training for activation fn: sin(x)\n"
     ]
    },
    {
     "name": "stderr",
     "output_type": "stream",
     "text": [
      "100%|██████████| 30000/30000 [09:06<00:00, 54.94it/s]\n"
     ]
    },
    {
     "name": "stdout",
     "output_type": "stream",
     "text": [
      "Training for activation fn: sech(x)\n"
     ]
    },
    {
     "name": "stderr",
     "output_type": "stream",
     "text": [
      "100%|██████████| 30000/30000 [16:34<00:00, 30.16it/s]\n"
     ]
    },
    {
     "name": "stdout",
     "output_type": "stream",
     "text": [
      "Training for activation fn: (ax + b)tanh(cx + d)\n"
     ]
    },
    {
     "name": "stderr",
     "output_type": "stream",
     "text": [
      "100%|██████████| 30000/30000 [18:35<00:00, 26.89it/s]\n"
     ]
    },
    {
     "name": "stdout",
     "output_type": "stream",
     "text": [
      "Training for activation fn: sin(ax + b)tanh(cx + d)\n"
     ]
    },
    {
     "name": "stderr",
     "output_type": "stream",
     "text": [
      "100%|██████████| 30000/30000 [21:02<00:00, 23.77it/s]\n"
     ]
    },
    {
     "name": "stdout",
     "output_type": "stream",
     "text": [
      "Training for activation fn: STan-LAAF\n"
     ]
    },
    {
     "name": "stderr",
     "output_type": "stream",
     "text": [
      "100%|██████████| 30000/30000 [14:28<00:00, 34.53it/s]\n"
     ]
    },
    {
     "name": "stdout",
     "output_type": "stream",
     "text": [
      "Training for activation fn: STan-NLAAF\n"
     ]
    },
    {
     "name": "stderr",
     "output_type": "stream",
     "text": [
      "100%|██████████| 30000/30000 [14:35<00:00, 34.26it/s]\n"
     ]
    },
    {
     "name": "stdout",
     "output_type": "stream",
     "text": [
      "Training for activation fn: REAct-LAAF\n"
     ]
    },
    {
     "name": "stderr",
     "output_type": "stream",
     "text": [
      "100%|██████████| 30000/30000 [26:51<00:00, 18.62it/s]\n"
     ]
    },
    {
     "name": "stdout",
     "output_type": "stream",
     "text": [
      "Training for activation fn: REAct-NLAAF\n"
     ]
    },
    {
     "name": "stderr",
     "output_type": "stream",
     "text": [
      "100%|██████████| 30000/30000 [28:08<00:00, 17.77it/s]\n"
     ]
    },
    {
     "name": "stdout",
     "output_type": "stream",
     "text": [
      "Training for activation fn: ABU\n"
     ]
    },
    {
     "name": "stderr",
     "output_type": "stream",
     "text": [
      "100%|██████████| 30000/30000 [29:52<00:00, 16.74it/s]\n"
     ]
    },
    {
     "name": "stdout",
     "output_type": "stream",
     "text": [
      "|                         |   l2_relative_error |   mean_squared_error |   mean_absolute_error |   explained_variance_score |\n",
      "|:------------------------|--------------------:|---------------------:|----------------------:|---------------------------:|\n",
      "| ReLU                    |           0.889421  |          0.0652057   |            0.213089   |                   0.247227 |\n",
      "| Sigmoid                 |           0.910266  |          0.0682979   |            0.231102   |                   0.171421 |\n",
      "| Softplus                |           0.246888  |          0.00502426  |            0.0587438  |                   0.960185 |\n",
      "| GELU                    |           0.0225456 |          4.18982e-05 |            0.00602707 |                   0.999932 |\n",
      "| tanh(x)                 |           0.0797749 |          0.000524569 |            0.0182086  |                   0.994019 |\n",
      "| sin(x)                  |           0.104368  |          0.000897856 |            0.0232299  |                   0.98923  |\n",
      "| sech(x)                 |           0.0730356 |          0.000439682 |            0.0157906  |                   0.997315 |\n",
      "| (ax + b)tanh(cx + d)    |           0.0475534 |          0.000186395 |            0.0116933  |                   0.999398 |\n",
      "| sin(ax + b)tanh(cx + d) |           0.0428601 |          0.000151417 |            0.0112798  |                   0.998956 |\n",
      "| STan-LAAF               |           0.105428  |          0.000916177 |            0.0242776  |                   0.989097 |\n",
      "| STan-NLAAF              |           0.0278178 |          6.37848e-05 |            0.00613941 |                   0.999226 |\n",
      "| REAct-LAAF              |           0.0999331 |          0.000823169 |            0.0218172  |                   0.990647 |\n",
      "| REAct-NLAAF             |           0.048952  |          0.00019752  |            0.0099003  |                   0.998373 |\n",
      "| ABU                     |           0.71293   |          0.0418952   |            0.154299   |                   0.779837 |\n"
     ]
    }
   ],
   "source": [
    "hparams.set_lr(1e-4)\n",
    "additional_str = '_RMSprop_train_2'\n",
    "expt = ForwardExperiement(Diffusion(train_proto=2), hparams, optim.RMSprop, additional_str, ntk=False)\n",
    "expt.train_and_test_on_all_activations()"
   ]
  },
  {
   "cell_type": "code",
   "execution_count": 5,
   "metadata": {},
   "outputs": [
    {
     "name": "stdout",
     "output_type": "stream",
     "text": [
      "Computing and Saving Analytical Solution\n",
      "Training for activation fn: ReLU\n"
     ]
    },
    {
     "name": "stderr",
     "output_type": "stream",
     "text": [
      "100%|██████████| 30000/30000 [07:20<00:00, 68.10it/s]\n"
     ]
    },
    {
     "name": "stdout",
     "output_type": "stream",
     "text": [
      "Training for activation fn: Sigmoid\n"
     ]
    },
    {
     "name": "stderr",
     "output_type": "stream",
     "text": [
      "100%|██████████| 30000/30000 [09:47<00:00, 51.04it/s]\n"
     ]
    },
    {
     "name": "stdout",
     "output_type": "stream",
     "text": [
      "Training for activation fn: Softplus\n"
     ]
    },
    {
     "name": "stderr",
     "output_type": "stream",
     "text": [
      "100%|██████████| 30000/30000 [10:45<00:00, 46.49it/s]\n"
     ]
    },
    {
     "name": "stdout",
     "output_type": "stream",
     "text": [
      "Training for activation fn: GELU\n"
     ]
    },
    {
     "name": "stderr",
     "output_type": "stream",
     "text": [
      "100%|██████████| 30000/30000 [11:09<00:00, 44.78it/s]\n"
     ]
    },
    {
     "name": "stdout",
     "output_type": "stream",
     "text": [
      "Training for activation fn: tanh(x)\n"
     ]
    },
    {
     "name": "stderr",
     "output_type": "stream",
     "text": [
      "100%|██████████| 30000/30000 [09:06<00:00, 54.87it/s]\n"
     ]
    },
    {
     "name": "stdout",
     "output_type": "stream",
     "text": [
      "Training for activation fn: sin(x)\n"
     ]
    },
    {
     "name": "stderr",
     "output_type": "stream",
     "text": [
      "100%|██████████| 30000/30000 [09:29<00:00, 52.64it/s]\n"
     ]
    },
    {
     "name": "stdout",
     "output_type": "stream",
     "text": [
      "Training for activation fn: sech(x)\n"
     ]
    },
    {
     "name": "stderr",
     "output_type": "stream",
     "text": [
      "100%|██████████| 30000/30000 [16:57<00:00, 29.48it/s]\n"
     ]
    },
    {
     "name": "stdout",
     "output_type": "stream",
     "text": [
      "Training for activation fn: (ax + b)tanh(cx + d)\n"
     ]
    },
    {
     "name": "stderr",
     "output_type": "stream",
     "text": [
      "100%|██████████| 30000/30000 [17:51<00:00, 27.99it/s]\n"
     ]
    },
    {
     "name": "stdout",
     "output_type": "stream",
     "text": [
      "Training for activation fn: sin(ax + b)tanh(cx + d)\n"
     ]
    },
    {
     "name": "stderr",
     "output_type": "stream",
     "text": [
      "100%|██████████| 30000/30000 [20:20<00:00, 24.57it/s]\n"
     ]
    },
    {
     "name": "stdout",
     "output_type": "stream",
     "text": [
      "Training for activation fn: STan-LAAF\n"
     ]
    },
    {
     "name": "stderr",
     "output_type": "stream",
     "text": [
      "100%|██████████| 30000/30000 [14:40<00:00, 34.07it/s]\n"
     ]
    },
    {
     "name": "stdout",
     "output_type": "stream",
     "text": [
      "Training for activation fn: STan-NLAAF\n"
     ]
    },
    {
     "name": "stderr",
     "output_type": "stream",
     "text": [
      "100%|██████████| 30000/30000 [14:51<00:00, 33.67it/s]\n"
     ]
    },
    {
     "name": "stdout",
     "output_type": "stream",
     "text": [
      "Training for activation fn: REAct-LAAF\n"
     ]
    },
    {
     "name": "stderr",
     "output_type": "stream",
     "text": [
      "100%|██████████| 30000/30000 [27:29<00:00, 18.18it/s]\n"
     ]
    },
    {
     "name": "stdout",
     "output_type": "stream",
     "text": [
      "Training for activation fn: REAct-NLAAF\n"
     ]
    },
    {
     "name": "stderr",
     "output_type": "stream",
     "text": [
      "100%|██████████| 30000/30000 [27:53<00:00, 17.93it/s]\n"
     ]
    },
    {
     "name": "stdout",
     "output_type": "stream",
     "text": [
      "Training for activation fn: ABU\n"
     ]
    },
    {
     "name": "stderr",
     "output_type": "stream",
     "text": [
      "100%|██████████| 30000/30000 [30:35<00:00, 16.34it/s]\n"
     ]
    },
    {
     "name": "stdout",
     "output_type": "stream",
     "text": [
      "|                         |   l2_relative_error |   mean_squared_error |   mean_absolute_error |   explained_variance_score |\n",
      "|:------------------------|--------------------:|---------------------:|----------------------:|---------------------------:|\n",
      "| ReLU                    |          0.953401   |          0.0749242   |           0.241867    |                  0.0911375 |\n",
      "| Sigmoid                 |          0.014153   |          1.65108e-05 |           0.0030028   |                  0.9998    |\n",
      "| Softplus                |          0.00491855 |          1.99409e-06 |           0.000974467 |                  0.999978  |\n",
      "| GELU                    |          0.00324084 |          8.65739e-07 |           0.000608248 |                  0.99999   |\n",
      "| tanh(x)                 |          0.0204388  |          3.44335e-05 |           0.00432639  |                  0.999623  |\n",
      "| sin(x)                  |          0.0196313  |          3.17665e-05 |           0.00374247  |                  0.999638  |\n",
      "| sech(x)                 |          0.0324744  |          8.69264e-05 |           0.00841358  |                  0.99919   |\n",
      "| (ax + b)tanh(cx + d)    |          0.0345316  |          9.82885e-05 |           0.00749119  |                  0.998808  |\n",
      "| sin(ax + b)tanh(cx + d) |          0.0118085  |          1.14937e-05 |           0.00216528  |                  0.999893  |\n",
      "| STan-LAAF               |          0.00664116 |          3.63545e-06 |           0.0013917   |                  0.999963  |\n",
      "| STan-NLAAF              |          0.0151262  |          1.88596e-05 |           0.00337884  |                  0.99991   |\n",
      "| REAct-LAAF              |          0.00399612 |          1.31628e-06 |           0.000778184 |                  0.999984  |\n",
      "| REAct-NLAAF             |        nan          |        nan           |         nan           |                nan         |\n",
      "| ABU                     |          0.198229   |          0.00323896  |           0.0473468   |                  0.987896  |\n"
     ]
    }
   ],
   "source": [
    "hparams.set_lr(1e-3)\n",
    "additional_str = '_Adam_train_2'\n",
    "expt = ForwardExperiement(Diffusion(train_proto=2), hparams, optim.Adam, additional_str, ntk=False)\n",
    "expt.train_and_test_on_all_activations()"
   ]
  },
  {
   "cell_type": "code",
   "execution_count": 4,
   "metadata": {},
   "outputs": [
    {
     "name": "stdout",
     "output_type": "stream",
     "text": [
      "Computing and Saving Analytical Solution\n",
      "Training for activation fn: ReLU\n"
     ]
    },
    {
     "name": "stderr",
     "output_type": "stream",
     "text": [
      "  0%|          | 0/30000 [00:00<?, ?it/s]/home/airl-gpu4/anaconda3/envs/PhysicsModels/lib/python3.9/site-packages/torch/autograd/graph.py:744: UserWarning: Attempting to run cuBLAS, but there was no current CUDA context! Attempting to set the primary context... (Triggered internally at ../aten/src/ATen/cuda/CublasHandlePool.cpp:135.)\n",
      "  return Variable._execution_engine.run_backward(  # Calls into the C++ engine to run the backward pass\n",
      "100%|██████████| 30000/30000 [08:23<00:00, 59.54it/s]\n"
     ]
    },
    {
     "name": "stdout",
     "output_type": "stream",
     "text": [
      "Training for activation fn: Sigmoid\n"
     ]
    },
    {
     "name": "stderr",
     "output_type": "stream",
     "text": [
      "100%|██████████| 30000/30000 [10:35<00:00, 47.22it/s]\n"
     ]
    },
    {
     "name": "stdout",
     "output_type": "stream",
     "text": [
      "Training for activation fn: Softplus\n"
     ]
    },
    {
     "name": "stderr",
     "output_type": "stream",
     "text": [
      "100%|██████████| 30000/30000 [11:39<00:00, 42.87it/s]\n"
     ]
    },
    {
     "name": "stdout",
     "output_type": "stream",
     "text": [
      "Training for activation fn: GELU\n"
     ]
    },
    {
     "name": "stderr",
     "output_type": "stream",
     "text": [
      "100%|██████████| 30000/30000 [10:42<00:00, 46.71it/s]\n"
     ]
    },
    {
     "name": "stdout",
     "output_type": "stream",
     "text": [
      "Training for activation fn: tanh(x)\n"
     ]
    },
    {
     "name": "stderr",
     "output_type": "stream",
     "text": [
      "100%|██████████| 30000/30000 [09:01<00:00, 55.44it/s]\n"
     ]
    },
    {
     "name": "stdout",
     "output_type": "stream",
     "text": [
      "Training for activation fn: sin(x)\n"
     ]
    },
    {
     "name": "stderr",
     "output_type": "stream",
     "text": [
      "100%|██████████| 30000/30000 [09:28<00:00, 52.74it/s]\n"
     ]
    },
    {
     "name": "stdout",
     "output_type": "stream",
     "text": [
      "Training for activation fn: sech(x)\n"
     ]
    },
    {
     "name": "stderr",
     "output_type": "stream",
     "text": [
      "100%|██████████| 30000/30000 [16:27<00:00, 30.39it/s]\n"
     ]
    },
    {
     "name": "stdout",
     "output_type": "stream",
     "text": [
      "Training for activation fn: (ax + b)tanh(cx + d)\n"
     ]
    },
    {
     "name": "stderr",
     "output_type": "stream",
     "text": [
      "100%|██████████| 30000/30000 [18:22<00:00, 27.21it/s]\n"
     ]
    },
    {
     "name": "stdout",
     "output_type": "stream",
     "text": [
      "Training for activation fn: sin(ax + b)tanh(cx + d)\n"
     ]
    },
    {
     "name": "stderr",
     "output_type": "stream",
     "text": [
      "100%|██████████| 30000/30000 [20:25<00:00, 24.47it/s]\n"
     ]
    },
    {
     "name": "stdout",
     "output_type": "stream",
     "text": [
      "Training for activation fn: STan-LAAF\n"
     ]
    },
    {
     "name": "stderr",
     "output_type": "stream",
     "text": [
      "100%|██████████| 30000/30000 [14:29<00:00, 34.49it/s]\n"
     ]
    },
    {
     "name": "stdout",
     "output_type": "stream",
     "text": [
      "Training for activation fn: STan-NLAAF\n"
     ]
    },
    {
     "name": "stderr",
     "output_type": "stream",
     "text": [
      "100%|██████████| 30000/30000 [14:35<00:00, 34.27it/s]\n"
     ]
    },
    {
     "name": "stdout",
     "output_type": "stream",
     "text": [
      "Training for activation fn: REAct-LAAF\n"
     ]
    },
    {
     "name": "stderr",
     "output_type": "stream",
     "text": [
      "100%|██████████| 30000/30000 [26:15<00:00, 19.04it/s]\n"
     ]
    },
    {
     "name": "stdout",
     "output_type": "stream",
     "text": [
      "Training for activation fn: REAct-NLAAF\n"
     ]
    },
    {
     "name": "stderr",
     "output_type": "stream",
     "text": [
      "100%|██████████| 30000/30000 [27:02<00:00, 18.49it/s]\n"
     ]
    },
    {
     "name": "stdout",
     "output_type": "stream",
     "text": [
      "Training for activation fn: ABU\n"
     ]
    },
    {
     "name": "stderr",
     "output_type": "stream",
     "text": [
      "100%|██████████| 30000/30000 [30:17<00:00, 16.50it/s]\n"
     ]
    },
    {
     "name": "stdout",
     "output_type": "stream",
     "text": [
      "|                         |   l2_relative_error |   mean_squared_error |   mean_absolute_error |   explained_variance_score |\n",
      "|:------------------------|--------------------:|---------------------:|----------------------:|---------------------------:|\n",
      "| ReLU                    |           3.62002   |          2.83081     |            0.986665   |                  -8.38497  |\n",
      "| Sigmoid                 |           0.383178  |          0.0317169   |            0.139262   |                   0.853175 |\n",
      "| Softplus                |           0.0854492 |          0.00157727  |            0.0286139  |                   0.995874 |\n",
      "| GELU                    |           0.011962  |          3.09099e-05 |            0.00494786 |                   0.999865 |\n",
      "| tanh(x)                 |           0.0436655 |          0.000411876 |            0.0196203  |                   0.999875 |\n",
      "| sin(x)                  |           0.0144622 |          4.51811e-05 |            0.00562601 |                   0.999794 |\n",
      "| sech(x)                 |           0.0437395 |          0.000413272 |            0.0172222  |                   0.998311 |\n",
      "| (ax + b)tanh(cx + d)    |           0.0229131 |          0.000113411 |            0.00976181 |                   0.999497 |\n",
      "| sin(ax + b)tanh(cx + d) |           0.0275993 |          0.000164545 |            0.0124226  |                   0.999953 |\n",
      "| STan-LAAF               |           0.0222718 |          0.000107152 |            0.00866371 |                   0.999541 |\n",
      "| STan-NLAAF              |           0.0172594 |          6.43487e-05 |            0.00669834 |                   0.999801 |\n",
      "| REAct-LAAF              |           0.0443856 |          0.000425571 |            0.0178038  |                   0.998711 |\n",
      "| REAct-NLAAF             |           0.0328772 |          0.000233496 |            0.0136899  |                   0.998921 |\n",
      "| ABU                     |           0.414709  |          0.0371514   |            0.14931    |                   0.921761 |\n"
     ]
    }
   ],
   "source": [
    "hparams.set_lr(1e-4)\n",
    "additional_str = '_RMSprop_train_1'\n",
    "expt = ForwardExperiement(Diffusion(train_proto=1), hparams, optim.RMSprop, additional_str, ntk=False)\n",
    "expt.train_and_test_on_all_activations()"
   ]
  },
  {
   "cell_type": "code",
   "execution_count": 5,
   "metadata": {},
   "outputs": [
    {
     "name": "stdout",
     "output_type": "stream",
     "text": [
      "Computing and Saving Analytical Solution\n",
      "Training for activation fn: ReLU\n"
     ]
    },
    {
     "name": "stderr",
     "output_type": "stream",
     "text": [
      "100%|██████████| 30000/30000 [07:52<00:00, 63.50it/s]\n"
     ]
    },
    {
     "name": "stdout",
     "output_type": "stream",
     "text": [
      "Training for activation fn: Sigmoid\n"
     ]
    },
    {
     "name": "stderr",
     "output_type": "stream",
     "text": [
      "100%|██████████| 30000/30000 [09:25<00:00, 53.07it/s]\n"
     ]
    },
    {
     "name": "stdout",
     "output_type": "stream",
     "text": [
      "Training for activation fn: Softplus\n"
     ]
    },
    {
     "name": "stderr",
     "output_type": "stream",
     "text": [
      "100%|██████████| 30000/30000 [11:07<00:00, 44.92it/s]\n"
     ]
    },
    {
     "name": "stdout",
     "output_type": "stream",
     "text": [
      "Training for activation fn: GELU\n"
     ]
    },
    {
     "name": "stderr",
     "output_type": "stream",
     "text": [
      "100%|██████████| 30000/30000 [11:19<00:00, 44.16it/s]\n"
     ]
    },
    {
     "name": "stdout",
     "output_type": "stream",
     "text": [
      "Training for activation fn: tanh(x)\n"
     ]
    },
    {
     "name": "stderr",
     "output_type": "stream",
     "text": [
      "100%|██████████| 30000/30000 [09:23<00:00, 53.21it/s]\n"
     ]
    },
    {
     "name": "stdout",
     "output_type": "stream",
     "text": [
      "Training for activation fn: sin(x)\n"
     ]
    },
    {
     "name": "stderr",
     "output_type": "stream",
     "text": [
      "100%|██████████| 30000/30000 [09:43<00:00, 51.39it/s]\n"
     ]
    },
    {
     "name": "stdout",
     "output_type": "stream",
     "text": [
      "Training for activation fn: sech(x)\n"
     ]
    },
    {
     "name": "stderr",
     "output_type": "stream",
     "text": [
      "100%|██████████| 30000/30000 [16:04<00:00, 31.11it/s]\n"
     ]
    },
    {
     "name": "stdout",
     "output_type": "stream",
     "text": [
      "Training for activation fn: (ax + b)tanh(cx + d)\n"
     ]
    },
    {
     "name": "stderr",
     "output_type": "stream",
     "text": [
      "100%|██████████| 30000/30000 [17:59<00:00, 27.80it/s]\n"
     ]
    },
    {
     "name": "stdout",
     "output_type": "stream",
     "text": [
      "Training for activation fn: sin(ax + b)tanh(cx + d)\n"
     ]
    },
    {
     "name": "stderr",
     "output_type": "stream",
     "text": [
      "100%|██████████| 30000/30000 [20:18<00:00, 24.62it/s]\n"
     ]
    },
    {
     "name": "stdout",
     "output_type": "stream",
     "text": [
      "Training for activation fn: STan-LAAF\n"
     ]
    },
    {
     "name": "stderr",
     "output_type": "stream",
     "text": [
      "100%|██████████| 30000/30000 [14:52<00:00, 33.63it/s]\n"
     ]
    },
    {
     "name": "stdout",
     "output_type": "stream",
     "text": [
      "Training for activation fn: STan-NLAAF\n"
     ]
    },
    {
     "name": "stderr",
     "output_type": "stream",
     "text": [
      "100%|██████████| 30000/30000 [14:57<00:00, 33.41it/s]\n"
     ]
    },
    {
     "name": "stdout",
     "output_type": "stream",
     "text": [
      "Training for activation fn: REAct-LAAF\n"
     ]
    },
    {
     "name": "stderr",
     "output_type": "stream",
     "text": [
      "100%|██████████| 30000/30000 [27:00<00:00, 18.51it/s]\n"
     ]
    },
    {
     "name": "stdout",
     "output_type": "stream",
     "text": [
      "Training for activation fn: REAct-NLAAF\n"
     ]
    },
    {
     "name": "stderr",
     "output_type": "stream",
     "text": [
      "100%|██████████| 30000/30000 [26:57<00:00, 18.55it/s]\n"
     ]
    },
    {
     "name": "stdout",
     "output_type": "stream",
     "text": [
      "Training for activation fn: ABU\n"
     ]
    },
    {
     "name": "stderr",
     "output_type": "stream",
     "text": [
      "100%|██████████| 30000/30000 [30:10<00:00, 16.57it/s]\n"
     ]
    },
    {
     "name": "stdout",
     "output_type": "stream",
     "text": [
      "|                         |   l2_relative_error |   mean_squared_error |   mean_absolute_error |   explained_variance_score |\n",
      "|:------------------------|--------------------:|---------------------:|----------------------:|---------------------------:|\n",
      "| ReLU                    |         5.88805     |          7.48915     |           2.19801     |                 -33.644    |\n",
      "| Sigmoid                 |         0.00275303  |          1.63724e-06 |           0.000795649 |                   0.999992 |\n",
      "| Softplus                |         0.0013389   |          3.87242e-07 |           0.00045541  |                   0.999998 |\n",
      "| GELU                    |         0.000488884 |          5.16298e-08 |           0.00017075  |                   1        |\n",
      "| tanh(x)                 |         0.00235391  |          1.19693e-06 |           0.000780543 |                   0.999994 |\n",
      "| sin(x)                  |         0.00231116  |          1.15385e-06 |           0.000802087 |                   0.999995 |\n",
      "| sech(x)                 |         0.00138343  |          4.13434e-07 |           0.000472092 |                   0.999998 |\n",
      "| (ax + b)tanh(cx + d)    |         0.00375372  |          3.04378e-06 |           0.00132268  |                   0.999987 |\n",
      "| sin(ax + b)tanh(cx + d) |         0.00105505  |          2.40458e-07 |           0.000356408 |                   0.999999 |\n",
      "| STan-LAAF               |         0.000514965 |          5.72856e-08 |           0.000166427 |                   1        |\n",
      "| STan-NLAAF              |         0.000937939 |          1.90037e-07 |           0.000339933 |                   0.999999 |\n",
      "| REAct-LAAF              |         0.0180822   |          7.06306e-05 |           0.00677797  |                   0.99969  |\n",
      "| REAct-NLAAF             |       nan           |        nan           |         nan           |                 nan        |\n",
      "| ABU                     |         0.044772    |          0.000433015 |           0.0158614   |                   0.99855  |\n"
     ]
    }
   ],
   "source": [
    "hparams.set_lr(1e-3)\n",
    "additional_str = '_Adam_train_1'\n",
    "expt = ForwardExperiement(Diffusion(train_proto=1), hparams, optim.Adam, additional_str, ntk=False)\n",
    "expt.train_and_test_on_all_activations()"
   ]
  },
  {
   "cell_type": "code",
   "execution_count": 4,
   "metadata": {},
   "outputs": [
    {
     "name": "stdout",
     "output_type": "stream",
     "text": [
      "Computing and Saving Analytical Solution\n",
      "Training for activation fn: STan-LAAF\n"
     ]
    },
    {
     "name": "stderr",
     "output_type": "stream",
     "text": [
      "  0%|          | 0/30000 [00:00<?, ?it/s]/home/airl-gpu4/anaconda3/envs/PhysicsModels/lib/python3.9/site-packages/torch/autograd/graph.py:744: UserWarning: Attempting to run cuBLAS, but there was no current CUDA context! Attempting to set the primary context... (Triggered internally at ../aten/src/ATen/cuda/CublasHandlePool.cpp:135.)\n",
      "  return Variable._execution_engine.run_backward(  # Calls into the C++ engine to run the backward pass\n",
      "100%|██████████| 30000/30000 [16:22<00:00, 30.53it/s]\n"
     ]
    },
    {
     "name": "stdout",
     "output_type": "stream",
     "text": [
      "Training for activation fn: STan-NLAAF\n"
     ]
    },
    {
     "name": "stderr",
     "output_type": "stream",
     "text": [
      "100%|██████████| 30000/30000 [16:09<00:00, 30.95it/s]\n"
     ]
    },
    {
     "name": "stdout",
     "output_type": "stream",
     "text": [
      "Training for activation fn: REAct-LAAF\n"
     ]
    },
    {
     "name": "stderr",
     "output_type": "stream",
     "text": [
      "100%|██████████| 30000/30000 [28:58<00:00, 17.26it/s]\n"
     ]
    },
    {
     "name": "stdout",
     "output_type": "stream",
     "text": [
      "Training for activation fn: REAct-NLAAF\n"
     ]
    },
    {
     "name": "stderr",
     "output_type": "stream",
     "text": [
      "100%|██████████| 30000/30000 [28:20<00:00, 17.65it/s]"
     ]
    },
    {
     "name": "stdout",
     "output_type": "stream",
     "text": [
      "|             |   l2_relative_error |   mean_squared_error |   mean_absolute_error |   explained_variance_score |\n",
      "|:------------|--------------------:|---------------------:|----------------------:|---------------------------:|\n",
      "| STan-LAAF   |           0.0775128 |          0.000495241 |            0.0199644  |                   0.994109 |\n",
      "| STan-NLAAF  |           0.0321931 |          8.54271e-05 |            0.00900592 |                   0.999948 |\n",
      "| REAct-LAAF  |           0.164594  |          0.00223305  |            0.040765   |                   0.990766 |\n",
      "| REAct-NLAAF |         nan         |        nan           |          nan          |                 nan        |\n"
     ]
    },
    {
     "name": "stderr",
     "output_type": "stream",
     "text": [
      "\n"
     ]
    }
   ],
   "source": [
    "hparams.set_lr(1e-4)\n",
    "additional_str = '_RMSprop_train_2'\n",
    "expt = ForwardExperiementwithSlopeRecovery(Diffusion(train_proto=2), hparams, optim.RMSprop, additional_str, ntk=False)\n",
    "expt.train_and_test_on_all_activations()"
   ]
  },
  {
   "cell_type": "code",
   "execution_count": 4,
   "metadata": {},
   "outputs": [
    {
     "name": "stdout",
     "output_type": "stream",
     "text": [
      "Computing and Saving Analytical Solution\n",
      "Training for activation fn: STan-LAAF\n"
     ]
    },
    {
     "name": "stderr",
     "output_type": "stream",
     "text": [
      "  0%|          | 0/30000 [00:00<?, ?it/s]/home/airl-gpu4/anaconda3/envs/PhysicsModels/lib/python3.9/site-packages/torch/autograd/graph.py:744: UserWarning: Attempting to run cuBLAS, but there was no current CUDA context! Attempting to set the primary context... (Triggered internally at ../aten/src/ATen/cuda/CublasHandlePool.cpp:135.)\n",
      "  return Variable._execution_engine.run_backward(  # Calls into the C++ engine to run the backward pass\n",
      "100%|██████████| 30000/30000 [15:57<00:00, 31.34it/s]\n"
     ]
    },
    {
     "name": "stdout",
     "output_type": "stream",
     "text": [
      "Training for activation fn: STan-NLAAF\n"
     ]
    },
    {
     "name": "stderr",
     "output_type": "stream",
     "text": [
      "100%|██████████| 30000/30000 [14:55<00:00, 33.50it/s]\n"
     ]
    },
    {
     "name": "stdout",
     "output_type": "stream",
     "text": [
      "Training for activation fn: REAct-LAAF\n"
     ]
    },
    {
     "name": "stderr",
     "output_type": "stream",
     "text": [
      "100%|██████████| 30000/30000 [27:03<00:00, 18.48it/s]\n"
     ]
    },
    {
     "name": "stdout",
     "output_type": "stream",
     "text": [
      "Training for activation fn: REAct-NLAAF\n"
     ]
    },
    {
     "name": "stderr",
     "output_type": "stream",
     "text": [
      "100%|██████████| 30000/30000 [27:45<00:00, 18.02it/s]"
     ]
    },
    {
     "name": "stdout",
     "output_type": "stream",
     "text": [
      "|             |   l2_relative_error |   mean_squared_error |   mean_absolute_error |   explained_variance_score |\n",
      "|:------------|--------------------:|---------------------:|----------------------:|---------------------------:|\n",
      "| STan-LAAF   |           0.0143276 |          1.69206e-05 |            0.00282031 |                   0.999796 |\n",
      "| STan-NLAAF  |           0.0135109 |          1.50466e-05 |            0.00284532 |                   0.999824 |\n",
      "| REAct-LAAF  |           0.0534067 |          0.000235105 |            0.0138043  |                   0.99946  |\n",
      "| REAct-NLAAF |         nan         |        nan           |          nan          |                 nan        |\n"
     ]
    },
    {
     "name": "stderr",
     "output_type": "stream",
     "text": [
      "\n"
     ]
    }
   ],
   "source": [
    "hparams.set_lr(1e-3)\n",
    "additional_str = '_Adam_train_2'\n",
    "expt = ForwardExperiementwithSlopeRecovery(Diffusion(train_proto=2), hparams, optim.Adam, additional_str, ntk=False)\n",
    "expt.train_and_test_on_all_activations()"
   ]
  }
 ],
 "metadata": {
  "kernelspec": {
   "display_name": "PhysicsModels",
   "language": "python",
   "name": "physicsmodels"
  },
  "language_info": {
   "codemirror_mode": {
    "name": "ipython",
    "version": 3
   },
   "file_extension": ".py",
   "mimetype": "text/x-python",
   "name": "python",
   "nbconvert_exporter": "python",
   "pygments_lexer": "ipython3",
   "version": "3.9.19"
  }
 },
 "nbformat": 4,
 "nbformat_minor": 2
}
