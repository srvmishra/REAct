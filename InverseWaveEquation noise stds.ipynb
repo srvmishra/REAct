{
 "cells": [
  {
   "cell_type": "code",
   "execution_count": 1,
   "metadata": {},
   "outputs": [],
   "source": [
    "from Experiments import *\n",
    "from utils.visualization import *\n",
    "import torch\n",
    "import torch.optim as optim"
   ]
  },
  {
   "cell_type": "code",
   "execution_count": 2,
   "metadata": {},
   "outputs": [],
   "source": [
    "torch.cuda.manual_seed(0)\n",
    "torch.manual_seed(0)\n",
    "device = torch.device('cuda:1')"
   ]
  },
  {
   "cell_type": "code",
   "execution_count": 3,
   "metadata": {},
   "outputs": [],
   "source": [
    "hparams = Hyperparameters()\n",
    "hparams.set_model_size([2, 60, 60, 60, 1])\n",
    "hparams.set_epochs(75000) # 75000\n",
    "hparams.set_device(device)\n",
    "act_names = ['tanh(x)', 'sin(x)', 'STan-LAAF', 'STan-NLAAF', 'REAct-LAAF', 'REAct-NLAAF', 'ABU']"
   ]
  },
  {
   "cell_type": "code",
   "execution_count": 4,
   "metadata": {},
   "outputs": [
    {
     "name": "stdout",
     "output_type": "stream",
     "text": [
      "Activation Name: tanh(x)\n",
      "init\n",
      "Parameter containing:\n",
      "tensor([1.4623], requires_grad=True)\n"
     ]
    },
    {
     "name": "stderr",
     "output_type": "stream",
     "text": [
      "100%|██████████| 75000/75000 [21:43<00:00, 57.56it/s]\n"
     ]
    },
    {
     "name": "stdout",
     "output_type": "stream",
     "text": [
      "final\n",
      "Parameter containing:\n",
      "tensor([1.9953], requires_grad=True)\n",
      "final\n",
      "1.995349645614624\n",
      "init\n",
      "Parameter containing:\n",
      "tensor([1.4623], requires_grad=True)\n"
     ]
    },
    {
     "name": "stderr",
     "output_type": "stream",
     "text": [
      "100%|██████████| 75000/75000 [21:45<00:00, 57.46it/s]\n"
     ]
    },
    {
     "name": "stdout",
     "output_type": "stream",
     "text": [
      "final\n",
      "Parameter containing:\n",
      "tensor([1.9969], requires_grad=True)\n",
      "final\n",
      "1.9969093799591064\n",
      "init\n",
      "Parameter containing:\n",
      "tensor([1.4623], requires_grad=True)\n"
     ]
    },
    {
     "name": "stderr",
     "output_type": "stream",
     "text": [
      "100%|██████████| 75000/75000 [21:48<00:00, 57.33it/s]\n"
     ]
    },
    {
     "name": "stdout",
     "output_type": "stream",
     "text": [
      "final\n",
      "Parameter containing:\n",
      "tensor([1.9959], requires_grad=True)\n",
      "final\n",
      "1.99586021900177\n",
      "init\n",
      "Parameter containing:\n",
      "tensor([1.4623], requires_grad=True)\n"
     ]
    },
    {
     "name": "stderr",
     "output_type": "stream",
     "text": [
      "100%|██████████| 75000/75000 [21:48<00:00, 57.33it/s]\n"
     ]
    },
    {
     "name": "stdout",
     "output_type": "stream",
     "text": [
      "final\n",
      "Parameter containing:\n",
      "tensor([1.9940], requires_grad=True)\n",
      "final\n",
      "1.993960976600647\n",
      "init\n",
      "Parameter containing:\n",
      "tensor([1.4623], requires_grad=True)\n"
     ]
    },
    {
     "name": "stderr",
     "output_type": "stream",
     "text": [
      "100%|██████████| 75000/75000 [21:47<00:00, 57.37it/s]\n"
     ]
    },
    {
     "name": "stdout",
     "output_type": "stream",
     "text": [
      "final\n",
      "Parameter containing:\n",
      "tensor([1.9915], requires_grad=True)\n",
      "final\n",
      "1.9915378093719482\n",
      "|     |   l2_relative_error |   mean_squared_error |   mean_absolute_error |   explained_variance_score |   est. param value |   pc. error in param value |\n",
      "|----:|--------------------:|---------------------:|----------------------:|---------------------------:|-------------------:|---------------------------:|\n",
      "| 0.1 |           0.0155015 |          6.00738e-05 |            0.00670267 |                   0.999931 |            1.99535 |                   0.232518 |\n",
      "| 0.5 |           0.0430223 |          0.000462729 |            0.0211283  |                   0.999935 |            1.99691 |                   0.154531 |\n",
      "| 1   |           0.033636  |          0.000282845 |            0.0160722  |                   0.999902 |            1.99586 |                   0.206989 |\n",
      "| 3   |           0.0464836 |          0.000540179 |            0.0220533  |                   0.999785 |            1.99396 |                   0.301951 |\n",
      "| 5   |           0.0212356 |          0.000112738 |            0.00895943 |                   0.99969  |            1.99154 |                   0.42311  |\n",
      "Activation Name: sin(x)\n",
      "init\n",
      "Parameter containing:\n",
      "tensor([1.4623], requires_grad=True)\n"
     ]
    },
    {
     "name": "stderr",
     "output_type": "stream",
     "text": [
      "100%|██████████| 75000/75000 [22:24<00:00, 55.77it/s]\n"
     ]
    },
    {
     "name": "stdout",
     "output_type": "stream",
     "text": [
      "final\n",
      "Parameter containing:\n",
      "tensor([1.9951], requires_grad=True)\n",
      "final\n",
      "1.9951332807540894\n",
      "init\n",
      "Parameter containing:\n",
      "tensor([1.4623], requires_grad=True)\n"
     ]
    },
    {
     "name": "stderr",
     "output_type": "stream",
     "text": [
      "100%|██████████| 75000/75000 [22:39<00:00, 55.16it/s]\n"
     ]
    },
    {
     "name": "stdout",
     "output_type": "stream",
     "text": [
      "final\n",
      "Parameter containing:\n",
      "tensor([1.9958], requires_grad=True)\n",
      "final\n",
      "1.995766043663025\n",
      "init\n",
      "Parameter containing:\n",
      "tensor([1.4623], requires_grad=True)\n"
     ]
    },
    {
     "name": "stderr",
     "output_type": "stream",
     "text": [
      "100%|██████████| 75000/75000 [22:34<00:00, 55.38it/s]\n"
     ]
    },
    {
     "name": "stdout",
     "output_type": "stream",
     "text": [
      "final\n",
      "Parameter containing:\n",
      "tensor([1.9956], requires_grad=True)\n",
      "final\n",
      "1.995629906654358\n",
      "init\n",
      "Parameter containing:\n",
      "tensor([1.4623], requires_grad=True)\n"
     ]
    },
    {
     "name": "stderr",
     "output_type": "stream",
     "text": [
      "100%|██████████| 75000/75000 [22:22<00:00, 55.86it/s]\n"
     ]
    },
    {
     "name": "stdout",
     "output_type": "stream",
     "text": [
      "final\n",
      "Parameter containing:\n",
      "tensor([1.9928], requires_grad=True)\n",
      "final\n",
      "1.9928362369537354\n",
      "init\n",
      "Parameter containing:\n",
      "tensor([1.4623], requires_grad=True)\n"
     ]
    },
    {
     "name": "stderr",
     "output_type": "stream",
     "text": [
      "100%|██████████| 75000/75000 [22:37<00:00, 55.23it/s]\n"
     ]
    },
    {
     "name": "stdout",
     "output_type": "stream",
     "text": [
      "final\n",
      "Parameter containing:\n",
      "tensor([1.9952], requires_grad=True)\n",
      "final\n",
      "1.9952137470245361\n",
      "|     |   l2_relative_error |   mean_squared_error |   mean_absolute_error |   explained_variance_score |   est. param value |   pc. error in param value |\n",
      "|----:|--------------------:|---------------------:|----------------------:|---------------------------:|-------------------:|---------------------------:|\n",
      "| 0.1 |          0.00767804 |          1.47381e-05 |            0.00326202 |                   0.999953 |            1.99513 |                   0.243336 |\n",
      "| 0.5 |          0.0111821  |          3.126e-05   |            0.00452697 |                   0.999904 |            1.99577 |                   0.211698 |\n",
      "| 1   |          0.0108523  |          2.94432e-05 |            0.00457478 |                   0.999944 |            1.99563 |                   0.218505 |\n",
      "| 3   |          0.02829    |          0.000200081 |            0.0133041  |                   0.999907 |            1.99284 |                   0.358188 |\n",
      "| 5   |          0.0158892  |          6.31168e-05 |            0.0055041  |                   0.999764 |            1.99521 |                   0.239313 |\n",
      "Activation Name: STan-LAAF\n",
      "init\n",
      "Parameter containing:\n",
      "tensor([1.4623], requires_grad=True)\n"
     ]
    },
    {
     "name": "stderr",
     "output_type": "stream",
     "text": [
      "100%|██████████| 75000/75000 [33:19<00:00, 37.51it/s]\n"
     ]
    },
    {
     "name": "stdout",
     "output_type": "stream",
     "text": [
      "final\n",
      "Parameter containing:\n",
      "tensor([1.9884], requires_grad=True)\n",
      "final\n",
      "1.988410234451294\n",
      "init\n",
      "Parameter containing:\n",
      "tensor([1.4623], requires_grad=True)\n"
     ]
    },
    {
     "name": "stderr",
     "output_type": "stream",
     "text": [
      "100%|██████████| 75000/75000 [33:20<00:00, 37.49it/s]\n"
     ]
    },
    {
     "name": "stdout",
     "output_type": "stream",
     "text": [
      "final\n",
      "Parameter containing:\n",
      "tensor([1.9932], requires_grad=True)\n",
      "final\n",
      "1.9931621551513672\n",
      "init\n",
      "Parameter containing:\n",
      "tensor([1.4623], requires_grad=True)\n"
     ]
    },
    {
     "name": "stderr",
     "output_type": "stream",
     "text": [
      "100%|██████████| 75000/75000 [33:21<00:00, 37.47it/s]\n"
     ]
    },
    {
     "name": "stdout",
     "output_type": "stream",
     "text": [
      "final\n",
      "Parameter containing:\n",
      "tensor([1.9898], requires_grad=True)\n",
      "final\n",
      "1.9897664785385132\n",
      "init\n",
      "Parameter containing:\n",
      "tensor([1.4623], requires_grad=True)\n"
     ]
    },
    {
     "name": "stderr",
     "output_type": "stream",
     "text": [
      "100%|██████████| 75000/75000 [32:59<00:00, 37.88it/s]\n"
     ]
    },
    {
     "name": "stdout",
     "output_type": "stream",
     "text": [
      "final\n",
      "Parameter containing:\n",
      "tensor([1.9834], requires_grad=True)\n",
      "final\n",
      "1.9834316968917847\n",
      "init\n",
      "Parameter containing:\n",
      "tensor([1.4623], requires_grad=True)\n"
     ]
    },
    {
     "name": "stderr",
     "output_type": "stream",
     "text": [
      "100%|██████████| 75000/75000 [33:16<00:00, 37.57it/s]\n"
     ]
    },
    {
     "name": "stdout",
     "output_type": "stream",
     "text": [
      "final\n",
      "Parameter containing:\n",
      "tensor([1.9877], requires_grad=True)\n",
      "final\n",
      "1.9877277612686157\n",
      "|     |   l2_relative_error |   mean_squared_error |   mean_absolute_error |   explained_variance_score |   est. param value |   pc. error in param value |\n",
      "|----:|--------------------:|---------------------:|----------------------:|---------------------------:|-------------------:|---------------------------:|\n",
      "| 0.1 |          0.0251398  |          0.000158002 |            0.0115617  |                   0.999903 |            1.98841 |                   0.579488 |\n",
      "| 0.5 |          0.00654589 |          1.07121e-05 |            0.00293323 |                   0.999991 |            1.99316 |                   0.341892 |\n",
      "| 1   |          0.00622069 |          9.67424e-06 |            0.00249672 |                   0.999963 |            1.98977 |                   0.511676 |\n",
      "| 3   |          0.0293396  |          0.000215202 |            0.0130705  |                   0.99982  |            1.98343 |                   0.828415 |\n",
      "| 5   |          0.0266774  |          0.00017792  |            0.012224   |                   0.999864 |            1.98773 |                   0.613612 |\n",
      "Activation Name: STan-NLAAF\n",
      "init\n",
      "Parameter containing:\n",
      "tensor([1.4623], requires_grad=True)\n"
     ]
    },
    {
     "name": "stderr",
     "output_type": "stream",
     "text": [
      "100%|██████████| 75000/75000 [33:42<00:00, 37.08it/s]\n"
     ]
    },
    {
     "name": "stdout",
     "output_type": "stream",
     "text": [
      "final\n",
      "Parameter containing:\n",
      "tensor([1.9922], requires_grad=True)\n",
      "final\n",
      "1.992223858833313\n",
      "init\n",
      "Parameter containing:\n",
      "tensor([1.4623], requires_grad=True)\n"
     ]
    },
    {
     "name": "stderr",
     "output_type": "stream",
     "text": [
      "100%|██████████| 75000/75000 [33:43<00:00, 37.06it/s]\n"
     ]
    },
    {
     "name": "stdout",
     "output_type": "stream",
     "text": [
      "final\n",
      "Parameter containing:\n",
      "tensor([1.9916], requires_grad=True)\n",
      "final\n",
      "1.991592288017273\n",
      "init\n",
      "Parameter containing:\n",
      "tensor([1.4623], requires_grad=True)\n"
     ]
    },
    {
     "name": "stderr",
     "output_type": "stream",
     "text": [
      "100%|██████████| 75000/75000 [33:42<00:00, 37.08it/s]\n"
     ]
    },
    {
     "name": "stdout",
     "output_type": "stream",
     "text": [
      "final\n",
      "Parameter containing:\n",
      "tensor([1.9927], requires_grad=True)\n",
      "final\n",
      "1.9927326440811157\n",
      "init\n",
      "Parameter containing:\n",
      "tensor([1.4623], requires_grad=True)\n"
     ]
    },
    {
     "name": "stderr",
     "output_type": "stream",
     "text": [
      "100%|██████████| 75000/75000 [33:39<00:00, 37.14it/s]\n"
     ]
    },
    {
     "name": "stdout",
     "output_type": "stream",
     "text": [
      "final\n",
      "Parameter containing:\n",
      "tensor([1.9902], requires_grad=True)\n",
      "final\n",
      "1.9901543855667114\n",
      "init\n",
      "Parameter containing:\n",
      "tensor([1.4623], requires_grad=True)\n"
     ]
    },
    {
     "name": "stderr",
     "output_type": "stream",
     "text": [
      "100%|██████████| 75000/75000 [33:40<00:00, 37.13it/s]\n"
     ]
    },
    {
     "name": "stdout",
     "output_type": "stream",
     "text": [
      "final\n",
      "Parameter containing:\n",
      "tensor([1.9894], requires_grad=True)\n",
      "final\n",
      "1.9894447326660156\n",
      "|     |   l2_relative_error |   mean_squared_error |   mean_absolute_error |   explained_variance_score |   est. param value |   pc. error in param value |\n",
      "|----:|--------------------:|---------------------:|----------------------:|---------------------------:|-------------------:|---------------------------:|\n",
      "| 0.1 |          0.0087355  |          1.90772e-05 |            0.0036757  |                   0.999977 |            1.99222 |                   0.388807 |\n",
      "| 0.5 |          0.00510568 |          6.51699e-06 |            0.00224384 |                   0.999974 |            1.99159 |                   0.420386 |\n",
      "| 1   |          0.0053611  |          7.18534e-06 |            0.00224935 |                   0.999974 |            1.99273 |                   0.363368 |\n",
      "| 3   |          0.013152   |          4.32435e-05 |            0.0053564  |                   0.999926 |            1.99015 |                   0.492281 |\n",
      "| 5   |          0.0144761  |          5.23891e-05 |            0.00655954 |                   0.999793 |            1.98944 |                   0.527763 |\n",
      "Activation Name: REAct-LAAF\n",
      "init\n",
      "Parameter containing:\n",
      "tensor([1.4623], requires_grad=True)\n"
     ]
    },
    {
     "name": "stderr",
     "output_type": "stream",
     "text": [
      "100%|██████████| 75000/75000 [58:24<00:00, 21.40it/s]\n"
     ]
    },
    {
     "name": "stdout",
     "output_type": "stream",
     "text": [
      "final\n",
      "Parameter containing:\n",
      "tensor([1.9648], requires_grad=True)\n",
      "final\n",
      "1.9647761583328247\n",
      "init\n",
      "Parameter containing:\n",
      "tensor([1.4623], requires_grad=True)\n"
     ]
    },
    {
     "name": "stderr",
     "output_type": "stream",
     "text": [
      "100%|██████████| 75000/75000 [58:22<00:00, 21.41it/s] \n"
     ]
    },
    {
     "name": "stdout",
     "output_type": "stream",
     "text": [
      "final\n",
      "Parameter containing:\n",
      "tensor([1.9970], requires_grad=True)\n",
      "final\n",
      "1.9970433712005615\n",
      "init\n",
      "Parameter containing:\n",
      "tensor([1.4623], requires_grad=True)\n"
     ]
    },
    {
     "name": "stderr",
     "output_type": "stream",
     "text": [
      "100%|██████████| 75000/75000 [58:32<00:00, 21.35it/s]\n"
     ]
    },
    {
     "name": "stdout",
     "output_type": "stream",
     "text": [
      "final\n",
      "Parameter containing:\n",
      "tensor([1.9981], requires_grad=True)\n",
      "final\n",
      "1.9981218576431274\n",
      "init\n",
      "Parameter containing:\n",
      "tensor([1.4623], requires_grad=True)\n"
     ]
    },
    {
     "name": "stderr",
     "output_type": "stream",
     "text": [
      "100%|██████████| 75000/75000 [58:14<00:00, 21.46it/s]\n"
     ]
    },
    {
     "name": "stdout",
     "output_type": "stream",
     "text": [
      "final\n",
      "Parameter containing:\n",
      "tensor([1.9838], requires_grad=True)\n",
      "final\n",
      "1.983813762664795\n",
      "init\n",
      "Parameter containing:\n",
      "tensor([1.4623], requires_grad=True)\n"
     ]
    },
    {
     "name": "stderr",
     "output_type": "stream",
     "text": [
      "100%|██████████| 75000/75000 [58:15<00:00, 21.45it/s]\n"
     ]
    },
    {
     "name": "stdout",
     "output_type": "stream",
     "text": [
      "final\n",
      "Parameter containing:\n",
      "tensor([1.9734], requires_grad=True)\n",
      "final\n",
      "1.9734019041061401\n",
      "|     |   l2_relative_error |   mean_squared_error |   mean_absolute_error |   explained_variance_score |   est. param value |   pc. error in param value |\n",
      "|----:|--------------------:|---------------------:|----------------------:|---------------------------:|-------------------:|---------------------------:|\n",
      "| 0.1 |           0.0215288 |          0.000115872 |            0.00912541 |                   0.999543 |            1.96478 |                  1.76119   |\n",
      "| 0.5 |           0.0168159 |          7.06934e-05 |            0.00779361 |                   0.99996  |            1.99704 |                  0.147831  |\n",
      "| 1   |           0.0181467 |          8.23257e-05 |            0.00872152 |                   0.999975 |            1.99812 |                  0.0939071 |\n",
      "| 3   |           0.0511327 |          0.000653638 |            0.0217826  |                   0.999119 |            1.98381 |                  0.809312  |\n",
      "| 5   |           0.0299321 |          0.000223983 |            0.0126642  |                   0.999623 |            1.9734  |                  1.3299    |\n",
      "Activation Name: REAct-NLAAF\n",
      "init\n",
      "Parameter containing:\n",
      "tensor([1.4623], requires_grad=True)\n"
     ]
    },
    {
     "name": "stderr",
     "output_type": "stream",
     "text": [
      "100%|██████████| 75000/75000 [1:00:03<00:00, 20.81it/s]\n"
     ]
    },
    {
     "name": "stdout",
     "output_type": "stream",
     "text": [
      "final\n",
      "Parameter containing:\n",
      "tensor([nan], requires_grad=True)\n",
      "final\n",
      "nan\n",
      "init\n",
      "Parameter containing:\n",
      "tensor([1.4623], requires_grad=True)\n"
     ]
    },
    {
     "name": "stderr",
     "output_type": "stream",
     "text": [
      "100%|██████████| 75000/75000 [1:00:19<00:00, 20.72it/s]\n"
     ]
    },
    {
     "name": "stdout",
     "output_type": "stream",
     "text": [
      "final\n",
      "Parameter containing:\n",
      "tensor([nan], requires_grad=True)\n",
      "final\n",
      "nan\n",
      "init\n",
      "Parameter containing:\n",
      "tensor([1.4623], requires_grad=True)\n"
     ]
    },
    {
     "name": "stderr",
     "output_type": "stream",
     "text": [
      "100%|██████████| 75000/75000 [59:24<00:00, 21.04it/s] \n"
     ]
    },
    {
     "name": "stdout",
     "output_type": "stream",
     "text": [
      "final\n",
      "Parameter containing:\n",
      "tensor([1.9867], requires_grad=True)\n",
      "final\n",
      "1.9867404699325562\n",
      "init\n",
      "Parameter containing:\n",
      "tensor([1.4623], requires_grad=True)\n"
     ]
    },
    {
     "name": "stderr",
     "output_type": "stream",
     "text": [
      "100%|██████████| 75000/75000 [59:49<00:00, 20.89it/s] \n"
     ]
    },
    {
     "name": "stdout",
     "output_type": "stream",
     "text": [
      "final\n",
      "Parameter containing:\n",
      "tensor([1.9636], requires_grad=True)\n",
      "final\n",
      "1.9635992050170898\n",
      "init\n",
      "Parameter containing:\n",
      "tensor([1.4623], requires_grad=True)\n"
     ]
    },
    {
     "name": "stderr",
     "output_type": "stream",
     "text": [
      "100%|██████████| 75000/75000 [1:00:04<00:00, 20.80it/s]\n"
     ]
    },
    {
     "name": "stdout",
     "output_type": "stream",
     "text": [
      "final\n",
      "Parameter containing:\n",
      "tensor([1.9839], requires_grad=True)\n",
      "final\n",
      "1.9839041233062744\n",
      "|     |   l2_relative_error |   mean_squared_error |   mean_absolute_error |   explained_variance_score |   est. param value |   pc. error in param value |\n",
      "|----:|--------------------:|---------------------:|----------------------:|---------------------------:|-------------------:|---------------------------:|\n",
      "| 0.1 |         nan         |        nan           |          nan          |                 nan        |          nan       |                 nan        |\n",
      "| 0.5 |         nan         |        nan           |          nan          |                 nan        |          nan       |                 nan        |\n",
      "| 1   |           0.0191448 |          9.1631e-05  |            0.00850526 |                   0.999885 |            1.98674 |                   0.662977 |\n",
      "| 3   |           0.028109  |          0.000197529 |            0.0116089  |                   0.999235 |            1.9636  |                   1.82004  |\n",
      "| 5   |           0.0354248 |          0.000313729 |            0.0160581  |                   0.999777 |            1.9839  |                   0.804794 |\n",
      "Activation Name: ABU\n",
      "init\n",
      "Parameter containing:\n",
      "tensor([1.4623], requires_grad=True)\n"
     ]
    },
    {
     "name": "stderr",
     "output_type": "stream",
     "text": [
      "100%|██████████| 75000/75000 [1:04:32<00:00, 19.37it/s]\n"
     ]
    },
    {
     "name": "stdout",
     "output_type": "stream",
     "text": [
      "final\n",
      "Parameter containing:\n",
      "tensor([1.7489], requires_grad=True)\n",
      "final\n",
      "1.7488925457000732\n",
      "init\n",
      "Parameter containing:\n",
      "tensor([1.4623], requires_grad=True)\n"
     ]
    },
    {
     "name": "stderr",
     "output_type": "stream",
     "text": [
      "100%|██████████| 75000/75000 [1:04:37<00:00, 19.34it/s]\n"
     ]
    },
    {
     "name": "stdout",
     "output_type": "stream",
     "text": [
      "final\n",
      "Parameter containing:\n",
      "tensor([1.9236], requires_grad=True)\n",
      "final\n",
      "1.923621416091919\n",
      "init\n",
      "Parameter containing:\n",
      "tensor([1.4623], requires_grad=True)\n"
     ]
    },
    {
     "name": "stderr",
     "output_type": "stream",
     "text": [
      "100%|██████████| 75000/75000 [1:04:34<00:00, 19.36it/s]\n"
     ]
    },
    {
     "name": "stdout",
     "output_type": "stream",
     "text": [
      "final\n",
      "Parameter containing:\n",
      "tensor([1.8019], requires_grad=True)\n",
      "final\n",
      "1.801941156387329\n",
      "init\n",
      "Parameter containing:\n",
      "tensor([1.4623], requires_grad=True)\n"
     ]
    },
    {
     "name": "stderr",
     "output_type": "stream",
     "text": [
      "100%|██████████| 75000/75000 [1:03:22<00:00, 19.72it/s]\n"
     ]
    },
    {
     "name": "stdout",
     "output_type": "stream",
     "text": [
      "final\n",
      "Parameter containing:\n",
      "tensor([1.8641], requires_grad=True)\n",
      "final\n",
      "1.864061713218689\n",
      "init\n",
      "Parameter containing:\n",
      "tensor([1.4623], requires_grad=True)\n"
     ]
    },
    {
     "name": "stderr",
     "output_type": "stream",
     "text": [
      "100%|██████████| 75000/75000 [1:04:35<00:00, 19.35it/s]\n"
     ]
    },
    {
     "name": "stdout",
     "output_type": "stream",
     "text": [
      "final\n",
      "Parameter containing:\n",
      "tensor([1.8212], requires_grad=True)\n",
      "final\n",
      "1.8212099075317383\n",
      "|     |   l2_relative_error |   mean_squared_error |   mean_absolute_error |   explained_variance_score |   est. param value |   pc. error in param value |\n",
      "|----:|--------------------:|---------------------:|----------------------:|---------------------------:|-------------------:|---------------------------:|\n",
      "| 0.1 |           0.0263572 |          0.000173675 |            0.01067    |                   0.99956  |            1.74889 |                   12.5554  |\n",
      "| 0.5 |           0.0128876 |          4.15224e-05 |            0.0049897  |                   0.999848 |            1.92362 |                    3.81893 |\n",
      "| 1   |           0.0224286 |          0.000125761 |            0.00846749 |                   0.999568 |            1.80194 |                    9.90294 |\n",
      "| 3   |           0.0809053 |          0.00163642  |            0.0387324  |                   0.999455 |            1.86406 |                    6.79691 |\n",
      "| 5   |           0.0701821 |          0.00123138  |            0.0296095  |                   0.998462 |            1.82121 |                    8.9395  |\n"
     ]
    }
   ],
   "source": [
    "hparams.set_lr(1e-4)\n",
    "additional_str = '_RMSprop_train_1_Inverse'\n",
    "expt = InverseExperiement(InverseWaveEquation(), hparams, optim.RMSprop, additional_str)\n",
    "for act_name in act_names:\n",
    "    print('Activation Name: {}'.format(act_name))\n",
    "    expt.train_across_noise_stds(act_name)"
   ]
  },
  {
   "cell_type": "code",
   "execution_count": 4,
   "metadata": {},
   "outputs": [
    {
     "name": "stdout",
     "output_type": "stream",
     "text": [
      "Activation Name: tanh(x)\n",
      "init\n",
      "Parameter containing:\n",
      "tensor([1.4623], requires_grad=True)\n"
     ]
    },
    {
     "name": "stderr",
     "output_type": "stream",
     "text": [
      "100%|██████████| 75000/75000 [22:48<00:00, 54.79it/s]\n"
     ]
    },
    {
     "name": "stdout",
     "output_type": "stream",
     "text": [
      "final\n",
      "Parameter containing:\n",
      "tensor([1.9995], requires_grad=True)\n",
      "final\n",
      "1.999501347541809\n",
      "init\n",
      "Parameter containing:\n",
      "tensor([1.4623], requires_grad=True)\n"
     ]
    },
    {
     "name": "stderr",
     "output_type": "stream",
     "text": [
      "100%|██████████| 75000/75000 [22:45<00:00, 54.93it/s]\n"
     ]
    },
    {
     "name": "stdout",
     "output_type": "stream",
     "text": [
      "final\n",
      "Parameter containing:\n",
      "tensor([1.9974], requires_grad=True)\n",
      "final\n",
      "1.9974441528320312\n",
      "init\n",
      "Parameter containing:\n",
      "tensor([1.4623], requires_grad=True)\n"
     ]
    },
    {
     "name": "stderr",
     "output_type": "stream",
     "text": [
      "100%|██████████| 75000/75000 [22:19<00:00, 55.98it/s]\n"
     ]
    },
    {
     "name": "stdout",
     "output_type": "stream",
     "text": [
      "final\n",
      "Parameter containing:\n",
      "tensor([1.9987], requires_grad=True)\n",
      "final\n",
      "1.9986586570739746\n",
      "init\n",
      "Parameter containing:\n",
      "tensor([1.4623], requires_grad=True)\n"
     ]
    },
    {
     "name": "stderr",
     "output_type": "stream",
     "text": [
      "100%|██████████| 75000/75000 [21:36<00:00, 57.86it/s]\n"
     ]
    },
    {
     "name": "stdout",
     "output_type": "stream",
     "text": [
      "final\n",
      "Parameter containing:\n",
      "tensor([1.9897], requires_grad=True)\n",
      "final\n",
      "1.989674687385559\n",
      "init\n",
      "Parameter containing:\n",
      "tensor([1.4623], requires_grad=True)\n"
     ]
    },
    {
     "name": "stderr",
     "output_type": "stream",
     "text": [
      "100%|██████████| 75000/75000 [21:48<00:00, 57.31it/s]\n"
     ]
    },
    {
     "name": "stdout",
     "output_type": "stream",
     "text": [
      "final\n",
      "Parameter containing:\n",
      "tensor([1.9922], requires_grad=True)\n",
      "final\n",
      "1.992241621017456\n",
      "|     |   l2_relative_error |   mean_squared_error |   mean_absolute_error |   explained_variance_score |   est. param value |   pc. error in param value |\n",
      "|----:|--------------------:|---------------------:|----------------------:|---------------------------:|-------------------:|---------------------------:|\n",
      "| 0.1 |          0.00801572 |          1.60629e-05 |            0.00363338 |                   0.999988 |            1.9995  |                  0.0249326 |\n",
      "| 0.5 |          0.0105315  |          2.77283e-05 |            0.00493126 |                   0.999986 |            1.99744 |                  0.127792  |\n",
      "| 1   |          0.0180475  |          8.14275e-05 |            0.00801728 |                   0.999926 |            1.99866 |                  0.0670671 |\n",
      "| 3   |          0.0218694  |          0.000119568 |            0.00881988 |                   0.999711 |            1.98967 |                  0.516266  |\n",
      "| 5   |          0.0172428  |          7.43284e-05 |            0.00685462 |                   0.999755 |            1.99224 |                  0.387919  |\n",
      "Activation Name: sin(x)\n",
      "init\n",
      "Parameter containing:\n",
      "tensor([1.4623], requires_grad=True)\n"
     ]
    },
    {
     "name": "stderr",
     "output_type": "stream",
     "text": [
      "100%|██████████| 75000/75000 [24:50<00:00, 50.30it/s]\n"
     ]
    },
    {
     "name": "stdout",
     "output_type": "stream",
     "text": [
      "final\n",
      "Parameter containing:\n",
      "tensor([1.9994], requires_grad=True)\n",
      "final\n",
      "1.9994343519210815\n",
      "init\n",
      "Parameter containing:\n",
      "tensor([1.4623], requires_grad=True)\n"
     ]
    },
    {
     "name": "stderr",
     "output_type": "stream",
     "text": [
      "100%|██████████| 75000/75000 [23:47<00:00, 52.56it/s]\n"
     ]
    },
    {
     "name": "stdout",
     "output_type": "stream",
     "text": [
      "final\n",
      "Parameter containing:\n",
      "tensor([1.9981], requires_grad=True)\n",
      "final\n",
      "1.998079776763916\n",
      "init\n",
      "Parameter containing:\n",
      "tensor([1.4623], requires_grad=True)\n"
     ]
    },
    {
     "name": "stderr",
     "output_type": "stream",
     "text": [
      "100%|██████████| 75000/75000 [24:03<00:00, 51.95it/s]\n"
     ]
    },
    {
     "name": "stdout",
     "output_type": "stream",
     "text": [
      "final\n",
      "Parameter containing:\n",
      "tensor([1.9998], requires_grad=True)\n",
      "final\n",
      "1.9998340606689453\n",
      "init\n",
      "Parameter containing:\n",
      "tensor([1.4623], requires_grad=True)\n"
     ]
    },
    {
     "name": "stderr",
     "output_type": "stream",
     "text": [
      "100%|██████████| 75000/75000 [24:02<00:00, 51.98it/s]\n"
     ]
    },
    {
     "name": "stdout",
     "output_type": "stream",
     "text": [
      "final\n",
      "Parameter containing:\n",
      "tensor([1.9959], requires_grad=True)\n",
      "final\n",
      "1.9958738088607788\n",
      "init\n",
      "Parameter containing:\n",
      "tensor([1.4623], requires_grad=True)\n"
     ]
    },
    {
     "name": "stderr",
     "output_type": "stream",
     "text": [
      "100%|██████████| 75000/75000 [24:02<00:00, 51.99it/s]\n"
     ]
    },
    {
     "name": "stdout",
     "output_type": "stream",
     "text": [
      "final\n",
      "Parameter containing:\n",
      "tensor([1.9929], requires_grad=True)\n",
      "final\n",
      "1.9928951263427734\n",
      "|     |   l2_relative_error |   mean_squared_error |   mean_absolute_error |   explained_variance_score |   est. param value |   pc. error in param value |\n",
      "|----:|--------------------:|---------------------:|----------------------:|---------------------------:|-------------------:|---------------------------:|\n",
      "| 0.1 |          0.00576898 |          8.32029e-06 |            0.00232762 |                   0.999987 |            1.99943 |                 0.0282824  |\n",
      "| 0.5 |          0.00601075 |          9.03228e-06 |            0.00245963 |                   0.999977 |            1.99808 |                 0.0960112  |\n",
      "| 1   |          0.0130593  |          4.26363e-05 |            0.00577575 |                   0.999887 |            1.99983 |                 0.00829697 |\n",
      "| 3   |          0.0210473  |          0.000110747 |            0.00850617 |                   0.999699 |            1.99587 |                 0.20631    |\n",
      "| 5   |          0.0212063  |          0.000112426 |            0.00864169 |                   0.999561 |            1.9929  |                 0.355244   |\n",
      "Activation Name: STan-LAAF\n",
      "init\n",
      "Parameter containing:\n",
      "tensor([1.4623], requires_grad=True)\n"
     ]
    },
    {
     "name": "stderr",
     "output_type": "stream",
     "text": [
      "100%|██████████| 75000/75000 [34:27<00:00, 36.28it/s]\n"
     ]
    },
    {
     "name": "stdout",
     "output_type": "stream",
     "text": [
      "final\n",
      "Parameter containing:\n",
      "tensor([1.9992], requires_grad=True)\n",
      "final\n",
      "1.999161958694458\n",
      "init\n",
      "Parameter containing:\n",
      "tensor([1.4623], requires_grad=True)\n"
     ]
    },
    {
     "name": "stderr",
     "output_type": "stream",
     "text": [
      "100%|██████████| 75000/75000 [35:12<00:00, 35.50it/s]\n"
     ]
    },
    {
     "name": "stdout",
     "output_type": "stream",
     "text": [
      "final\n",
      "Parameter containing:\n",
      "tensor([1.9985], requires_grad=True)\n",
      "final\n",
      "1.9984673261642456\n",
      "init\n",
      "Parameter containing:\n",
      "tensor([1.4623], requires_grad=True)\n"
     ]
    },
    {
     "name": "stderr",
     "output_type": "stream",
     "text": [
      "100%|██████████| 75000/75000 [34:58<00:00, 35.74it/s]\n"
     ]
    },
    {
     "name": "stdout",
     "output_type": "stream",
     "text": [
      "final\n",
      "Parameter containing:\n",
      "tensor([2.0005], requires_grad=True)\n",
      "final\n",
      "2.0004589557647705\n",
      "init\n",
      "Parameter containing:\n",
      "tensor([1.4623], requires_grad=True)\n"
     ]
    },
    {
     "name": "stderr",
     "output_type": "stream",
     "text": [
      "100%|██████████| 75000/75000 [34:50<00:00, 35.87it/s]\n"
     ]
    },
    {
     "name": "stdout",
     "output_type": "stream",
     "text": [
      "final\n",
      "Parameter containing:\n",
      "tensor([1.9976], requires_grad=True)\n",
      "final\n",
      "1.997622013092041\n",
      "init\n",
      "Parameter containing:\n",
      "tensor([1.4623], requires_grad=True)\n"
     ]
    },
    {
     "name": "stderr",
     "output_type": "stream",
     "text": [
      "100%|██████████| 75000/75000 [35:26<00:00, 35.27it/s]\n"
     ]
    },
    {
     "name": "stdout",
     "output_type": "stream",
     "text": [
      "final\n",
      "Parameter containing:\n",
      "tensor([2.0054], requires_grad=True)\n",
      "final\n",
      "2.0054428577423096\n",
      "|     |   l2_relative_error |   mean_squared_error |   mean_absolute_error |   explained_variance_score |   est. param value |   pc. error in param value |\n",
      "|----:|--------------------:|---------------------:|----------------------:|---------------------------:|-------------------:|---------------------------:|\n",
      "| 0.1 |          0.00525566 |          6.90549e-06 |            0.00246661 |                   0.999997 |            1.99916 |                  0.0419021 |\n",
      "| 0.5 |          0.0054362  |          7.38806e-06 |            0.00226337 |                   0.999977 |            1.99847 |                  0.0766337 |\n",
      "| 1   |          0.01083    |          2.9322e-05  |            0.00454027 |                   0.999953 |            2.00046 |                  0.0229478 |\n",
      "| 3   |          0.043446   |          0.000471887 |            0.0200123  |                   0.999652 |            1.99762 |                  0.118899  |\n",
      "| 5   |          0.0276798  |          0.000191542 |            0.0115762  |                   0.999644 |            2.00544 |                  0.272143  |\n",
      "Activation Name: STan-NLAAF\n",
      "init\n",
      "Parameter containing:\n",
      "tensor([1.4623], requires_grad=True)\n"
     ]
    },
    {
     "name": "stderr",
     "output_type": "stream",
     "text": [
      "100%|██████████| 75000/75000 [36:27<00:00, 34.28it/s]\n"
     ]
    },
    {
     "name": "stdout",
     "output_type": "stream",
     "text": [
      "final\n",
      "Parameter containing:\n",
      "tensor([1.9992], requires_grad=True)\n",
      "final\n",
      "1.9992003440856934\n",
      "init\n",
      "Parameter containing:\n",
      "tensor([1.4623], requires_grad=True)\n"
     ]
    },
    {
     "name": "stderr",
     "output_type": "stream",
     "text": [
      "100%|██████████| 75000/75000 [35:07<00:00, 35.59it/s]\n"
     ]
    },
    {
     "name": "stdout",
     "output_type": "stream",
     "text": [
      "final\n",
      "Parameter containing:\n",
      "tensor([1.9985], requires_grad=True)\n",
      "final\n",
      "1.998518705368042\n",
      "init\n",
      "Parameter containing:\n",
      "tensor([1.4623], requires_grad=True)\n"
     ]
    },
    {
     "name": "stderr",
     "output_type": "stream",
     "text": [
      "100%|██████████| 75000/75000 [35:04<00:00, 35.64it/s]\n"
     ]
    },
    {
     "name": "stdout",
     "output_type": "stream",
     "text": [
      "final\n",
      "Parameter containing:\n",
      "tensor([2.0014], requires_grad=True)\n",
      "final\n",
      "2.0014171600341797\n",
      "init\n",
      "Parameter containing:\n",
      "tensor([1.4623], requires_grad=True)\n"
     ]
    },
    {
     "name": "stderr",
     "output_type": "stream",
     "text": [
      "100%|██████████| 75000/75000 [35:11<00:00, 35.52it/s]\n"
     ]
    },
    {
     "name": "stdout",
     "output_type": "stream",
     "text": [
      "final\n",
      "Parameter containing:\n",
      "tensor([2.0008], requires_grad=True)\n",
      "final\n",
      "2.0007641315460205\n",
      "init\n",
      "Parameter containing:\n",
      "tensor([1.4623], requires_grad=True)\n"
     ]
    },
    {
     "name": "stderr",
     "output_type": "stream",
     "text": [
      "100%|██████████| 75000/75000 [35:42<00:00, 35.00it/s]\n"
     ]
    },
    {
     "name": "stdout",
     "output_type": "stream",
     "text": [
      "final\n",
      "Parameter containing:\n",
      "tensor([1.9894], requires_grad=True)\n",
      "final\n",
      "1.9893620014190674\n",
      "|     |   l2_relative_error |   mean_squared_error |   mean_absolute_error |   explained_variance_score |   est. param value |   pc. error in param value |\n",
      "|----:|--------------------:|---------------------:|----------------------:|---------------------------:|-------------------:|---------------------------:|\n",
      "| 0.1 |           0.0039725 |          3.94518e-06 |            0.00168969 |                   0.999995 |            1.9992  |                  0.0399828 |\n",
      "| 0.5 |           0.0111837 |          3.12685e-05 |            0.00419945 |                   0.999875 |            1.99852 |                  0.0740647 |\n",
      "| 1   |           0.0139443 |          4.86109e-05 |            0.00642349 |                   0.99997  |            2.00142 |                  0.070858  |\n",
      "| 3   |           0.0161121 |          6.49002e-05 |            0.00654323 |                   0.999858 |            2.00076 |                  0.0382066 |\n",
      "| 5   |           0.022893  |          0.000131022 |            0.00948311 |                   0.999793 |            1.98936 |                  0.5319    |\n",
      "Activation Name: REAct-LAAF\n",
      "init\n",
      "Parameter containing:\n",
      "tensor([1.4623], requires_grad=True)\n"
     ]
    },
    {
     "name": "stderr",
     "output_type": "stream",
     "text": [
      "100%|██████████| 75000/75000 [59:58<00:00, 20.84it/s]  \n"
     ]
    },
    {
     "name": "stdout",
     "output_type": "stream",
     "text": [
      "final\n",
      "Parameter containing:\n",
      "tensor([1.9938], requires_grad=True)\n",
      "final\n",
      "1.993769645690918\n",
      "init\n",
      "Parameter containing:\n",
      "tensor([1.4623], requires_grad=True)\n"
     ]
    },
    {
     "name": "stderr",
     "output_type": "stream",
     "text": [
      "100%|██████████| 75000/75000 [1:00:58<00:00, 20.50it/s]\n"
     ]
    },
    {
     "name": "stdout",
     "output_type": "stream",
     "text": [
      "final\n",
      "Parameter containing:\n",
      "tensor([1.9998], requires_grad=True)\n",
      "final\n",
      "1.9998337030410767\n",
      "init\n",
      "Parameter containing:\n",
      "tensor([1.4623], requires_grad=True)\n"
     ]
    },
    {
     "name": "stderr",
     "output_type": "stream",
     "text": [
      "100%|██████████| 75000/75000 [58:28<00:00, 21.38it/s] \n"
     ]
    },
    {
     "name": "stdout",
     "output_type": "stream",
     "text": [
      "final\n",
      "Parameter containing:\n",
      "tensor([1.9975], requires_grad=True)\n",
      "final\n",
      "1.997514009475708\n",
      "init\n",
      "Parameter containing:\n",
      "tensor([1.4623], requires_grad=True)\n"
     ]
    },
    {
     "name": "stderr",
     "output_type": "stream",
     "text": [
      "100%|██████████| 75000/75000 [1:00:44<00:00, 20.58it/s]\n"
     ]
    },
    {
     "name": "stdout",
     "output_type": "stream",
     "text": [
      "final\n",
      "Parameter containing:\n",
      "tensor([1.9908], requires_grad=True)\n",
      "final\n",
      "1.990828037261963\n",
      "init\n",
      "Parameter containing:\n",
      "tensor([1.4623], requires_grad=True)\n"
     ]
    },
    {
     "name": "stderr",
     "output_type": "stream",
     "text": [
      "100%|██████████| 75000/75000 [58:56<00:00, 21.21it/s] \n"
     ]
    },
    {
     "name": "stdout",
     "output_type": "stream",
     "text": [
      "final\n",
      "Parameter containing:\n",
      "tensor([2.0012], requires_grad=True)\n",
      "final\n",
      "2.001171827316284\n",
      "|     |   l2_relative_error |   mean_squared_error |   mean_absolute_error |   explained_variance_score |   est. param value |   pc. error in param value |\n",
      "|----:|--------------------:|---------------------:|----------------------:|---------------------------:|-------------------:|---------------------------:|\n",
      "| 0.1 |          0.00920731 |          2.11936e-05 |            0.00362408 |                   0.999965 |            1.99377 |                 0.311518   |\n",
      "| 0.5 |          0.00743458 |          1.38182e-05 |            0.00353964 |                   0.999994 |            1.99983 |                 0.00831485 |\n",
      "| 1   |          0.0363618  |          0.000330544 |            0.0166272  |                   0.999784 |            1.99751 |                 0.1243     |\n",
      "| 3   |          0.0192377  |          9.2522e-05  |            0.00701315 |                   0.999668 |            1.99083 |                 0.458598   |\n",
      "| 5   |          0.0338593  |          0.000286612 |            0.0153795  |                   0.999736 |            2.00117 |                 0.0585914  |\n",
      "Activation Name: REAct-NLAAF\n",
      "init\n",
      "Parameter containing:\n",
      "tensor([1.4623], requires_grad=True)\n"
     ]
    },
    {
     "name": "stderr",
     "output_type": "stream",
     "text": [
      "100%|██████████| 75000/75000 [1:01:29<00:00, 20.33it/s]\n"
     ]
    },
    {
     "name": "stdout",
     "output_type": "stream",
     "text": [
      "final\n",
      "Parameter containing:\n",
      "tensor([nan], requires_grad=True)\n",
      "final\n",
      "nan\n",
      "init\n",
      "Parameter containing:\n",
      "tensor([1.4623], requires_grad=True)\n"
     ]
    },
    {
     "name": "stderr",
     "output_type": "stream",
     "text": [
      "100%|██████████| 75000/75000 [1:01:47<00:00, 20.23it/s]\n"
     ]
    },
    {
     "name": "stdout",
     "output_type": "stream",
     "text": [
      "final\n",
      "Parameter containing:\n",
      "tensor([nan], requires_grad=True)\n",
      "final\n",
      "nan\n",
      "init\n",
      "Parameter containing:\n",
      "tensor([1.4623], requires_grad=True)\n"
     ]
    },
    {
     "name": "stderr",
     "output_type": "stream",
     "text": [
      "100%|██████████| 75000/75000 [1:02:01<00:00, 20.15it/s]\n"
     ]
    },
    {
     "name": "stdout",
     "output_type": "stream",
     "text": [
      "final\n",
      "Parameter containing:\n",
      "tensor([1.9965], requires_grad=True)\n",
      "final\n",
      "1.9965357780456543\n",
      "init\n",
      "Parameter containing:\n",
      "tensor([1.4623], requires_grad=True)\n"
     ]
    },
    {
     "name": "stderr",
     "output_type": "stream",
     "text": [
      "100%|██████████| 75000/75000 [1:01:23<00:00, 20.36it/s]\n"
     ]
    },
    {
     "name": "stdout",
     "output_type": "stream",
     "text": [
      "final\n",
      "Parameter containing:\n",
      "tensor([1.9898], requires_grad=True)\n",
      "final\n",
      "1.9898289442062378\n",
      "init\n",
      "Parameter containing:\n",
      "tensor([1.4623], requires_grad=True)\n"
     ]
    },
    {
     "name": "stderr",
     "output_type": "stream",
     "text": [
      "100%|██████████| 75000/75000 [1:01:24<00:00, 20.36it/s]\n"
     ]
    },
    {
     "name": "stdout",
     "output_type": "stream",
     "text": [
      "final\n",
      "Parameter containing:\n",
      "tensor([nan], requires_grad=True)\n",
      "final\n",
      "nan\n",
      "|     |   l2_relative_error |   mean_squared_error |   mean_absolute_error |   explained_variance_score |   est. param value |   pc. error in param value |\n",
      "|----:|--------------------:|---------------------:|----------------------:|---------------------------:|-------------------:|---------------------------:|\n",
      "| 0.1 |         nan         |        nan           |          nan          |                 nan        |          nan       |                 nan        |\n",
      "| 0.5 |         nan         |        nan           |          nan          |                 nan        |          nan       |                 nan        |\n",
      "| 1   |           0.0109086 |          2.97493e-05 |            0.00424626 |                   0.999883 |            1.99654 |                   0.173211 |\n",
      "| 3   |           0.0179579 |          8.06217e-05 |            0.00770847 |                   0.999912 |            1.98983 |                   0.508553 |\n",
      "| 5   |         nan         |        nan           |          nan          |                 nan        |          nan       |                 nan        |\n",
      "Activation Name: ABU\n",
      "init\n",
      "Parameter containing:\n",
      "tensor([1.4623], requires_grad=True)\n"
     ]
    },
    {
     "name": "stderr",
     "output_type": "stream",
     "text": [
      "100%|██████████| 75000/75000 [1:05:12<00:00, 19.17it/s]\n"
     ]
    },
    {
     "name": "stdout",
     "output_type": "stream",
     "text": [
      "final\n",
      "Parameter containing:\n",
      "tensor([1.8024], requires_grad=True)\n",
      "final\n",
      "1.8023701906204224\n",
      "init\n",
      "Parameter containing:\n",
      "tensor([1.4623], requires_grad=True)\n"
     ]
    },
    {
     "name": "stderr",
     "output_type": "stream",
     "text": [
      "100%|██████████| 75000/75000 [1:05:55<00:00, 18.96it/s]\n"
     ]
    },
    {
     "name": "stdout",
     "output_type": "stream",
     "text": [
      "final\n",
      "Parameter containing:\n",
      "tensor([1.9782], requires_grad=True)\n",
      "final\n",
      "1.978245735168457\n",
      "init\n",
      "Parameter containing:\n",
      "tensor([1.4623], requires_grad=True)\n"
     ]
    },
    {
     "name": "stderr",
     "output_type": "stream",
     "text": [
      "100%|██████████| 75000/75000 [1:05:38<00:00, 19.04it/s]\n"
     ]
    },
    {
     "name": "stdout",
     "output_type": "stream",
     "text": [
      "final\n",
      "Parameter containing:\n",
      "tensor([1.8404], requires_grad=True)\n",
      "final\n",
      "1.8404459953308105\n",
      "init\n",
      "Parameter containing:\n",
      "tensor([1.4623], requires_grad=True)\n"
     ]
    },
    {
     "name": "stderr",
     "output_type": "stream",
     "text": [
      "100%|██████████| 75000/75000 [1:04:12<00:00, 19.47it/s]\n"
     ]
    },
    {
     "name": "stdout",
     "output_type": "stream",
     "text": [
      "final\n",
      "Parameter containing:\n",
      "tensor([1.9670], requires_grad=True)\n",
      "final\n",
      "1.9670166969299316\n",
      "init\n",
      "Parameter containing:\n",
      "tensor([1.4623], requires_grad=True)\n"
     ]
    },
    {
     "name": "stderr",
     "output_type": "stream",
     "text": [
      "100%|██████████| 75000/75000 [1:05:35<00:00, 19.06it/s]\n"
     ]
    },
    {
     "name": "stdout",
     "output_type": "stream",
     "text": [
      "final\n",
      "Parameter containing:\n",
      "tensor([1.9762], requires_grad=True)\n",
      "final\n",
      "1.9761897325515747\n",
      "|     |   l2_relative_error |   mean_squared_error |   mean_absolute_error |   explained_variance_score |   est. param value |   pc. error in param value |\n",
      "|----:|--------------------:|---------------------:|----------------------:|---------------------------:|-------------------:|---------------------------:|\n",
      "| 0.1 |          0.00465284 |          5.41222e-06 |            0.00181374 |                   0.99998  |            1.80237 |                    9.88149 |\n",
      "| 0.5 |          0.0125524  |          3.93909e-05 |            0.00570473 |                   0.999973 |            1.97825 |                    1.08771 |\n",
      "| 1   |          0.0193405  |          9.35135e-05 |            0.00779639 |                   0.999676 |            1.84045 |                    7.9777  |\n",
      "| 3   |          0.0184844  |          8.54183e-05 |            0.00786197 |                   0.999838 |            1.96702 |                    1.64917 |\n",
      "| 5   |          0.0727898  |          0.00132459  |            0.0321799  |                   0.998219 |            1.97619 |                    1.19051 |\n"
     ]
    }
   ],
   "source": [
    "hparams.set_lr(1e-3)\n",
    "additional_str = '_Adam_train_1_Inverse'\n",
    "expt = InverseExperiement(InverseWaveEquation(), hparams, optim.Adam, additional_str)\n",
    "for act_name in act_names:\n",
    "    print('Activation Name: {}'.format(act_name))\n",
    "    expt.train_across_noise_stds(act_name)"
   ]
  }
 ],
 "metadata": {
  "kernelspec": {
   "display_name": "PhysicsModels",
   "language": "python",
   "name": "physicsmodels"
  },
  "language_info": {
   "codemirror_mode": {
    "name": "ipython",
    "version": 3
   },
   "file_extension": ".py",
   "mimetype": "text/x-python",
   "name": "python",
   "nbconvert_exporter": "python",
   "pygments_lexer": "ipython3",
   "version": "3.9.19"
  }
 },
 "nbformat": 4,
 "nbformat_minor": 2
}
