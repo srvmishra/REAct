{
 "cells": [
  {
   "cell_type": "code",
   "execution_count": 1,
   "metadata": {},
   "outputs": [],
   "source": [
    "from Experiments import *\n",
    "from utils.visualization import *\n",
    "import torch\n",
    "import torch.optim as optim"
   ]
  },
  {
   "cell_type": "code",
   "execution_count": 2,
   "metadata": {},
   "outputs": [],
   "source": [
    "torch.cuda.manual_seed(0)\n",
    "torch.manual_seed(0)\n",
    "device = torch.device('cuda:2')"
   ]
  },
  {
   "cell_type": "code",
   "execution_count": 3,
   "metadata": {},
   "outputs": [],
   "source": [
    "hparams = Hyperparameters()\n",
    "hparams.set_model_size([1, 48, 48, 48, 1])\n",
    "hparams.set_epochs(50000) #50000\n",
    "hparams.set_device(device)"
   ]
  },
  {
   "cell_type": "code",
   "execution_count": 4,
   "metadata": {},
   "outputs": [
    {
     "name": "stdout",
     "output_type": "stream",
     "text": [
      "Computing and Saving Analytical Solution\n",
      "Training for activation fn: ReLU\n"
     ]
    },
    {
     "name": "stderr",
     "output_type": "stream",
     "text": [
      "100%|██████████| 50000/50000 [06:51<00:00, 121.36it/s]\n"
     ]
    },
    {
     "name": "stdout",
     "output_type": "stream",
     "text": [
      "Training for activation fn: Sigmoid\n"
     ]
    },
    {
     "name": "stderr",
     "output_type": "stream",
     "text": [
      "100%|██████████| 50000/50000 [08:04<00:00, 103.14it/s]\n"
     ]
    },
    {
     "name": "stdout",
     "output_type": "stream",
     "text": [
      "Training for activation fn: Softplus\n"
     ]
    },
    {
     "name": "stderr",
     "output_type": "stream",
     "text": [
      "100%|██████████| 50000/50000 [08:31<00:00, 97.68it/s] \n"
     ]
    },
    {
     "name": "stdout",
     "output_type": "stream",
     "text": [
      "Training for activation fn: GELU\n"
     ]
    },
    {
     "name": "stderr",
     "output_type": "stream",
     "text": [
      "100%|██████████| 50000/50000 [08:54<00:00, 93.56it/s] \n"
     ]
    },
    {
     "name": "stdout",
     "output_type": "stream",
     "text": [
      "Training for activation fn: tanh(x)\n"
     ]
    },
    {
     "name": "stderr",
     "output_type": "stream",
     "text": [
      "100%|██████████| 50000/50000 [07:53<00:00, 105.55it/s]\n"
     ]
    },
    {
     "name": "stdout",
     "output_type": "stream",
     "text": [
      "Training for activation fn: sin(x)\n"
     ]
    },
    {
     "name": "stderr",
     "output_type": "stream",
     "text": [
      "100%|██████████| 50000/50000 [08:00<00:00, 103.95it/s]\n"
     ]
    },
    {
     "name": "stdout",
     "output_type": "stream",
     "text": [
      "Training for activation fn: sech(x)\n"
     ]
    },
    {
     "name": "stderr",
     "output_type": "stream",
     "text": [
      "100%|██████████| 50000/50000 [13:53<00:00, 59.99it/s]\n"
     ]
    },
    {
     "name": "stdout",
     "output_type": "stream",
     "text": [
      "Training for activation fn: (ax + b)tanh(cx + d)\n"
     ]
    },
    {
     "name": "stderr",
     "output_type": "stream",
     "text": [
      "100%|██████████| 50000/50000 [14:20<00:00, 58.08it/s]\n"
     ]
    },
    {
     "name": "stdout",
     "output_type": "stream",
     "text": [
      "Training for activation fn: sin(ax + b)tanh(cx + d)\n"
     ]
    },
    {
     "name": "stderr",
     "output_type": "stream",
     "text": [
      "100%|██████████| 50000/50000 [17:26<00:00, 47.76it/s]\n"
     ]
    },
    {
     "name": "stdout",
     "output_type": "stream",
     "text": [
      "Training for activation fn: STan-LAAF\n"
     ]
    },
    {
     "name": "stderr",
     "output_type": "stream",
     "text": [
      "100%|██████████| 50000/50000 [13:03<00:00, 63.82it/s]\n"
     ]
    },
    {
     "name": "stdout",
     "output_type": "stream",
     "text": [
      "Training for activation fn: STan-NLAAF\n"
     ]
    },
    {
     "name": "stderr",
     "output_type": "stream",
     "text": [
      "100%|██████████| 50000/50000 [12:56<00:00, 64.43it/s]\n"
     ]
    },
    {
     "name": "stdout",
     "output_type": "stream",
     "text": [
      "Training for activation fn: REAct-LAAF\n"
     ]
    },
    {
     "name": "stderr",
     "output_type": "stream",
     "text": [
      "100%|██████████| 50000/50000 [19:20<00:00, 43.08it/s]\n"
     ]
    },
    {
     "name": "stdout",
     "output_type": "stream",
     "text": [
      "Training for activation fn: REAct-NLAAF\n"
     ]
    },
    {
     "name": "stderr",
     "output_type": "stream",
     "text": [
      "100%|██████████| 50000/50000 [18:57<00:00, 43.95it/s]\n"
     ]
    },
    {
     "name": "stdout",
     "output_type": "stream",
     "text": [
      "Training for activation fn: ABU\n"
     ]
    },
    {
     "name": "stderr",
     "output_type": "stream",
     "text": [
      "100%|██████████| 50000/50000 [24:26<00:00, 34.09it/s]\n"
     ]
    },
    {
     "name": "stdout",
     "output_type": "stream",
     "text": [
      "|                         |   l2_relative_error |   mean_squared_error |   mean_absolute_error |   explained_variance_score |\n",
      "|:------------------------|--------------------:|---------------------:|----------------------:|---------------------------:|\n",
      "| ReLU                    |         0.909673    |          0.264566    |           0.404703    |                   0.141934 |\n",
      "| Sigmoid                 |         0.00107732  |          3.71065e-07 |           0.000608551 |                   1        |\n",
      "| Softplus                |         0.00353591  |          3.99729e-06 |           0.00199333  |                   1        |\n",
      "| GELU                    |         0.000172988 |          9.56741e-09 |           9.35904e-05 |                   1        |\n",
      "| tanh(x)                 |         0.00126252  |          5.09614e-07 |           0.000704101 |                   1        |\n",
      "| sin(x)                  |         7.84733e-05 |          1.96882e-09 |           3.76411e-05 |                   1        |\n",
      "| sech(x)                 |         0.0016832   |          9.05801e-07 |           0.000926939 |                   1        |\n",
      "| (ax + b)tanh(cx + d)    |         0.000332432 |          3.5332e-08  |           0.000174771 |                   1        |\n",
      "| sin(ax + b)tanh(cx + d) |         0.00115949  |          4.29832e-07 |           0.000551625 |                   0.999999 |\n",
      "| STan-LAAF               |         1.74779e-06 |          9.76656e-13 |           7.92235e-07 |                   1        |\n",
      "| STan-NLAAF              |         0.000391135 |          4.89122e-08 |           0.000211918 |                   1        |\n",
      "| REAct-LAAF              |         1.51541e-06 |          7.34214e-13 |           7.28632e-07 |                   1        |\n",
      "| REAct-NLAAF             |         1.63658e-05 |          8.56324e-11 |           7.57392e-06 |                   1        |\n",
      "| ABU                     |         0.00487249  |          7.59041e-06 |           0.00221558  |                   0.999947 |\n"
     ]
    }
   ],
   "source": [
    "hparams.set_lr(1e-3)\n",
    "additional_str = '_Adam_train_1'\n",
    "expt = ForwardExperiement(UnderDampedVibrations(train_proto=1), hparams, optim.Adam, additional_str, ntk=False)\n",
    "expt.train_and_test_on_all_activations()"
   ]
  },
  {
   "cell_type": "code",
   "execution_count": 5,
   "metadata": {},
   "outputs": [
    {
     "name": "stdout",
     "output_type": "stream",
     "text": [
      "Computing and Saving Analytical Solution\n",
      "Training for activation fn: ReLU\n"
     ]
    },
    {
     "name": "stderr",
     "output_type": "stream",
     "text": [
      "100%|██████████| 50000/50000 [06:41<00:00, 124.58it/s]\n"
     ]
    },
    {
     "name": "stdout",
     "output_type": "stream",
     "text": [
      "Training for activation fn: Sigmoid\n"
     ]
    },
    {
     "name": "stderr",
     "output_type": "stream",
     "text": [
      "100%|██████████| 50000/50000 [07:53<00:00, 105.49it/s]\n"
     ]
    },
    {
     "name": "stdout",
     "output_type": "stream",
     "text": [
      "Training for activation fn: Softplus\n"
     ]
    },
    {
     "name": "stderr",
     "output_type": "stream",
     "text": [
      "100%|██████████| 50000/50000 [08:13<00:00, 101.26it/s]\n"
     ]
    },
    {
     "name": "stdout",
     "output_type": "stream",
     "text": [
      "Training for activation fn: GELU\n"
     ]
    },
    {
     "name": "stderr",
     "output_type": "stream",
     "text": [
      "100%|██████████| 50000/50000 [08:36<00:00, 96.86it/s] \n"
     ]
    },
    {
     "name": "stdout",
     "output_type": "stream",
     "text": [
      "Training for activation fn: tanh(x)\n"
     ]
    },
    {
     "name": "stderr",
     "output_type": "stream",
     "text": [
      "100%|██████████| 50000/50000 [07:46<00:00, 107.09it/s]\n"
     ]
    },
    {
     "name": "stdout",
     "output_type": "stream",
     "text": [
      "Training for activation fn: sin(x)\n"
     ]
    },
    {
     "name": "stderr",
     "output_type": "stream",
     "text": [
      "100%|██████████| 50000/50000 [08:07<00:00, 102.52it/s]\n"
     ]
    },
    {
     "name": "stdout",
     "output_type": "stream",
     "text": [
      "Training for activation fn: sech(x)\n"
     ]
    },
    {
     "name": "stderr",
     "output_type": "stream",
     "text": [
      "100%|██████████| 50000/50000 [14:06<00:00, 59.09it/s]\n"
     ]
    },
    {
     "name": "stdout",
     "output_type": "stream",
     "text": [
      "Training for activation fn: (ax + b)tanh(cx + d)\n"
     ]
    },
    {
     "name": "stderr",
     "output_type": "stream",
     "text": [
      "100%|██████████| 50000/50000 [14:24<00:00, 57.86it/s]\n"
     ]
    },
    {
     "name": "stdout",
     "output_type": "stream",
     "text": [
      "Training for activation fn: sin(ax + b)tanh(cx + d)\n"
     ]
    },
    {
     "name": "stderr",
     "output_type": "stream",
     "text": [
      "100%|██████████| 50000/50000 [17:25<00:00, 47.82it/s]\n"
     ]
    },
    {
     "name": "stdout",
     "output_type": "stream",
     "text": [
      "Training for activation fn: STan-LAAF\n"
     ]
    },
    {
     "name": "stderr",
     "output_type": "stream",
     "text": [
      "100%|██████████| 50000/50000 [12:10<00:00, 68.44it/s] \n"
     ]
    },
    {
     "name": "stdout",
     "output_type": "stream",
     "text": [
      "Training for activation fn: STan-NLAAF\n"
     ]
    },
    {
     "name": "stderr",
     "output_type": "stream",
     "text": [
      "100%|██████████| 50000/50000 [12:06<00:00, 68.83it/s] \n"
     ]
    },
    {
     "name": "stdout",
     "output_type": "stream",
     "text": [
      "Training for activation fn: REAct-LAAF\n"
     ]
    },
    {
     "name": "stderr",
     "output_type": "stream",
     "text": [
      "100%|██████████| 50000/50000 [18:42<00:00, 44.52it/s]\n"
     ]
    },
    {
     "name": "stdout",
     "output_type": "stream",
     "text": [
      "Training for activation fn: REAct-NLAAF\n"
     ]
    },
    {
     "name": "stderr",
     "output_type": "stream",
     "text": [
      "100%|██████████| 50000/50000 [18:53<00:00, 44.10it/s]\n"
     ]
    },
    {
     "name": "stdout",
     "output_type": "stream",
     "text": [
      "Training for activation fn: ABU\n"
     ]
    },
    {
     "name": "stderr",
     "output_type": "stream",
     "text": [
      "100%|██████████| 50000/50000 [23:38<00:00, 35.24it/s]\n"
     ]
    },
    {
     "name": "stdout",
     "output_type": "stream",
     "text": [
      "|                         |   l2_relative_error |   mean_squared_error |   mean_absolute_error |   explained_variance_score |\n",
      "|:------------------------|--------------------:|---------------------:|----------------------:|---------------------------:|\n",
      "| ReLU                    |          0.868661   |          0.241248    |            0.391071   |                   0.22139  |\n",
      "| Sigmoid                 |          0.00734409 |          1.72441e-05 |            0.00409227 |                   0.999997 |\n",
      "| Softplus                |          0.0155628  |          7.74353e-05 |            0.00852335 |                   0.999967 |\n",
      "| GELU                    |          0.00229882 |          1.68956e-06 |            0.00127783 |                   1        |\n",
      "| tanh(x)                 |          0.00456316 |          6.65726e-06 |            0.00238351 |                   0.999993 |\n",
      "| sin(x)                  |          0.00348198 |          3.87629e-06 |            0.00170801 |                   0.999993 |\n",
      "| sech(x)                 |          0.00767032 |          1.88101e-05 |            0.00431767 |                   0.999999 |\n",
      "| (ax + b)tanh(cx + d)    |          0.00467846 |          6.99792e-06 |            0.0025933  |                   0.999998 |\n",
      "| sin(ax + b)tanh(cx + d) |          0.00682623 |          1.48979e-05 |            0.00379936 |                   0.999997 |\n",
      "| STan-LAAF               |          0.00381807 |          4.6607e-06  |            0.0018296  |                   0.99999  |\n",
      "| STan-NLAAF              |          0.0084921  |          2.30565e-05 |            0.00474619 |                   0.999996 |\n",
      "| REAct-LAAF              |          0.00477237 |          7.28169e-06 |            0.00264925 |                   0.999998 |\n",
      "| REAct-NLAAF             |        nan          |        nan           |          nan          |                 nan        |\n",
      "| ABU                     |          0.0758464  |          0.00183922  |            0.0271919  |                   0.990286 |\n"
     ]
    }
   ],
   "source": [
    "hparams.set_lr(1e-4)\n",
    "additional_str = '_RMSprop_train_1'\n",
    "expt = ForwardExperiement(UnderDampedVibrations(train_proto=1), hparams, optim.RMSprop, additional_str, ntk=False)\n",
    "expt.train_and_test_on_all_activations()"
   ]
  },
  {
   "cell_type": "code",
   "execution_count": 6,
   "metadata": {},
   "outputs": [
    {
     "name": "stdout",
     "output_type": "stream",
     "text": [
      "Computing and Saving Analytical Solution\n",
      "Training for activation fn: ReLU\n"
     ]
    },
    {
     "name": "stderr",
     "output_type": "stream",
     "text": [
      "100%|██████████| 50000/50000 [06:22<00:00, 130.84it/s]\n"
     ]
    },
    {
     "name": "stdout",
     "output_type": "stream",
     "text": [
      "Training for activation fn: Sigmoid\n"
     ]
    },
    {
     "name": "stderr",
     "output_type": "stream",
     "text": [
      "100%|██████████| 50000/50000 [08:13<00:00, 101.29it/s]\n"
     ]
    },
    {
     "name": "stdout",
     "output_type": "stream",
     "text": [
      "Training for activation fn: Softplus\n"
     ]
    },
    {
     "name": "stderr",
     "output_type": "stream",
     "text": [
      "100%|██████████| 50000/50000 [08:50<00:00, 94.18it/s] \n"
     ]
    },
    {
     "name": "stdout",
     "output_type": "stream",
     "text": [
      "Training for activation fn: GELU\n"
     ]
    },
    {
     "name": "stderr",
     "output_type": "stream",
     "text": [
      "100%|██████████| 50000/50000 [08:44<00:00, 95.38it/s] \n"
     ]
    },
    {
     "name": "stdout",
     "output_type": "stream",
     "text": [
      "Training for activation fn: tanh(x)\n"
     ]
    },
    {
     "name": "stderr",
     "output_type": "stream",
     "text": [
      "100%|██████████| 50000/50000 [07:50<00:00, 106.29it/s]\n"
     ]
    },
    {
     "name": "stdout",
     "output_type": "stream",
     "text": [
      "Training for activation fn: sin(x)\n"
     ]
    },
    {
     "name": "stderr",
     "output_type": "stream",
     "text": [
      "100%|██████████| 50000/50000 [08:21<00:00, 99.66it/s] \n"
     ]
    },
    {
     "name": "stdout",
     "output_type": "stream",
     "text": [
      "Training for activation fn: sech(x)\n"
     ]
    },
    {
     "name": "stderr",
     "output_type": "stream",
     "text": [
      "100%|██████████| 50000/50000 [14:13<00:00, 58.56it/s]\n"
     ]
    },
    {
     "name": "stdout",
     "output_type": "stream",
     "text": [
      "Training for activation fn: (ax + b)tanh(cx + d)\n"
     ]
    },
    {
     "name": "stderr",
     "output_type": "stream",
     "text": [
      "100%|██████████| 50000/50000 [15:13<00:00, 54.73it/s]\n"
     ]
    },
    {
     "name": "stdout",
     "output_type": "stream",
     "text": [
      "Training for activation fn: sin(ax + b)tanh(cx + d)\n"
     ]
    },
    {
     "name": "stderr",
     "output_type": "stream",
     "text": [
      "100%|██████████| 50000/50000 [17:38<00:00, 47.24it/s]\n"
     ]
    },
    {
     "name": "stdout",
     "output_type": "stream",
     "text": [
      "Training for activation fn: STan-LAAF\n"
     ]
    },
    {
     "name": "stderr",
     "output_type": "stream",
     "text": [
      "100%|██████████| 50000/50000 [12:16<00:00, 67.89it/s] \n"
     ]
    },
    {
     "name": "stdout",
     "output_type": "stream",
     "text": [
      "Training for activation fn: STan-NLAAF\n"
     ]
    },
    {
     "name": "stderr",
     "output_type": "stream",
     "text": [
      "100%|██████████| 50000/50000 [12:53<00:00, 64.65it/s]\n"
     ]
    },
    {
     "name": "stdout",
     "output_type": "stream",
     "text": [
      "Training for activation fn: REAct-LAAF\n"
     ]
    },
    {
     "name": "stderr",
     "output_type": "stream",
     "text": [
      "100%|██████████| 50000/50000 [19:09<00:00, 43.49it/s]\n"
     ]
    },
    {
     "name": "stdout",
     "output_type": "stream",
     "text": [
      "Training for activation fn: REAct-NLAAF\n"
     ]
    },
    {
     "name": "stderr",
     "output_type": "stream",
     "text": [
      "100%|██████████| 50000/50000 [19:04<00:00, 43.68it/s]\n"
     ]
    },
    {
     "name": "stdout",
     "output_type": "stream",
     "text": [
      "Training for activation fn: ABU\n"
     ]
    },
    {
     "name": "stderr",
     "output_type": "stream",
     "text": [
      "100%|██████████| 50000/50000 [22:50<00:00, 36.47it/s]\n"
     ]
    },
    {
     "name": "stdout",
     "output_type": "stream",
     "text": [
      "|                         |   l2_relative_error |   mean_squared_error |   mean_absolute_error |   explained_variance_score |\n",
      "|:------------------------|--------------------:|---------------------:|----------------------:|---------------------------:|\n",
      "| ReLU                    |         0.830629    |          0.00416965  |           0.0572177   |                   0.36729  |\n",
      "| Sigmoid                 |         0.0144199   |          1.25664e-06 |           0.000729505 |                   0.999492 |\n",
      "| Softplus                |         0.00972321  |          5.71353e-07 |           0.000503592 |                   0.999724 |\n",
      "| GELU                    |         0.00808547  |          3.95089e-07 |           0.000611038 |                   0.999985 |\n",
      "| tanh(x)                 |         0.00768859  |          3.57255e-07 |           0.00040209  |                   0.999863 |\n",
      "| sin(x)                  |         6.64991e-05 |          2.67249e-11 |           4.71068e-06 |                   1        |\n",
      "| sech(x)                 |         0.00447715  |          1.2114e-07  |           0.000273151 |                   0.999967 |\n",
      "| (ax + b)tanh(cx + d)    |         0.00487376  |          1.43553e-07 |           0.000367487 |                   0.999994 |\n",
      "| sin(ax + b)tanh(cx + d) |         0.00238576  |          3.43983e-08 |           0.000114353 |                   0.999985 |\n",
      "| STan-LAAF               |         0.00226901  |          3.11142e-08 |           0.000110036 |                   0.999987 |\n",
      "| STan-NLAAF              |         0.0035943   |          7.80752e-08 |           0.000256035 |                   0.999962 |\n",
      "| REAct-LAAF              |         0.00319212  |          6.15805e-08 |           0.00015899  |                   0.999971 |\n",
      "| REAct-NLAAF             |         0.00535011  |          1.72986e-07 |           0.000303729 |                   0.999943 |\n",
      "| ABU                     |         0.0188986   |          2.15847e-06 |           0.00127388  |                   0.99859  |\n"
     ]
    }
   ],
   "source": [
    "hparams.set_lr(1e-3)\n",
    "additional_str = '_Adam_train_2'\n",
    "expt = ForwardExperiement(UnderDampedVibrations(train_proto=2), hparams, optim.Adam, additional_str, ntk=False)\n",
    "expt.train_and_test_on_all_activations()"
   ]
  },
  {
   "cell_type": "code",
   "execution_count": 4,
   "metadata": {},
   "outputs": [
    {
     "name": "stdout",
     "output_type": "stream",
     "text": [
      "Computing and Saving Analytical Solution\n",
      "Training for activation fn: ReLU\n"
     ]
    },
    {
     "name": "stderr",
     "output_type": "stream",
     "text": [
      "100%|██████████| 50000/50000 [06:51<00:00, 121.42it/s]\n"
     ]
    },
    {
     "name": "stdout",
     "output_type": "stream",
     "text": [
      "Training for activation fn: Sigmoid\n"
     ]
    },
    {
     "name": "stderr",
     "output_type": "stream",
     "text": [
      "100%|██████████| 50000/50000 [08:04<00:00, 103.15it/s]\n"
     ]
    },
    {
     "name": "stdout",
     "output_type": "stream",
     "text": [
      "Training for activation fn: Softplus\n"
     ]
    },
    {
     "name": "stderr",
     "output_type": "stream",
     "text": [
      "100%|██████████| 50000/50000 [08:38<00:00, 96.40it/s] \n"
     ]
    },
    {
     "name": "stdout",
     "output_type": "stream",
     "text": [
      "Training for activation fn: GELU\n"
     ]
    },
    {
     "name": "stderr",
     "output_type": "stream",
     "text": [
      "100%|██████████| 50000/50000 [08:47<00:00, 94.86it/s] \n"
     ]
    },
    {
     "name": "stdout",
     "output_type": "stream",
     "text": [
      "Training for activation fn: tanh(x)\n"
     ]
    },
    {
     "name": "stderr",
     "output_type": "stream",
     "text": [
      "100%|██████████| 50000/50000 [07:26<00:00, 112.03it/s]\n"
     ]
    },
    {
     "name": "stdout",
     "output_type": "stream",
     "text": [
      "Training for activation fn: sin(x)\n"
     ]
    },
    {
     "name": "stderr",
     "output_type": "stream",
     "text": [
      "100%|██████████| 50000/50000 [07:57<00:00, 104.71it/s]\n"
     ]
    },
    {
     "name": "stdout",
     "output_type": "stream",
     "text": [
      "Training for activation fn: sech(x)\n"
     ]
    },
    {
     "name": "stderr",
     "output_type": "stream",
     "text": [
      "100%|██████████| 50000/50000 [13:29<00:00, 61.75it/s]\n"
     ]
    },
    {
     "name": "stdout",
     "output_type": "stream",
     "text": [
      "Training for activation fn: (ax + b)tanh(cx + d)\n"
     ]
    },
    {
     "name": "stderr",
     "output_type": "stream",
     "text": [
      "100%|██████████| 50000/50000 [15:06<00:00, 55.15it/s]\n"
     ]
    },
    {
     "name": "stdout",
     "output_type": "stream",
     "text": [
      "Training for activation fn: sin(ax + b)tanh(cx + d)\n"
     ]
    },
    {
     "name": "stderr",
     "output_type": "stream",
     "text": [
      "100%|██████████| 50000/50000 [18:37<00:00, 44.73it/s]\n"
     ]
    },
    {
     "name": "stdout",
     "output_type": "stream",
     "text": [
      "Training for activation fn: STan-LAAF\n"
     ]
    },
    {
     "name": "stderr",
     "output_type": "stream",
     "text": [
      "100%|██████████| 50000/50000 [13:05<00:00, 63.68it/s] \n"
     ]
    },
    {
     "name": "stdout",
     "output_type": "stream",
     "text": [
      "Training for activation fn: STan-NLAAF\n"
     ]
    },
    {
     "name": "stderr",
     "output_type": "stream",
     "text": [
      "100%|██████████| 50000/50000 [12:37<00:00, 66.03it/s]\n"
     ]
    },
    {
     "name": "stdout",
     "output_type": "stream",
     "text": [
      "Training for activation fn: REAct-LAAF\n"
     ]
    },
    {
     "name": "stderr",
     "output_type": "stream",
     "text": [
      "100%|██████████| 50000/50000 [18:41<00:00, 44.60it/s]\n"
     ]
    },
    {
     "name": "stdout",
     "output_type": "stream",
     "text": [
      "Training for activation fn: REAct-NLAAF\n"
     ]
    },
    {
     "name": "stderr",
     "output_type": "stream",
     "text": [
      "100%|██████████| 50000/50000 [19:48<00:00, 42.07it/s]\n"
     ]
    },
    {
     "name": "stdout",
     "output_type": "stream",
     "text": [
      "Training for activation fn: ABU\n"
     ]
    },
    {
     "name": "stderr",
     "output_type": "stream",
     "text": [
      "100%|██████████| 50000/50000 [24:58<00:00, 33.37it/s]\n"
     ]
    },
    {
     "name": "stdout",
     "output_type": "stream",
     "text": [
      "|                         |   l2_relative_error |   mean_squared_error |   mean_absolute_error |   explained_variance_score |\n",
      "|:------------------------|--------------------:|---------------------:|----------------------:|---------------------------:|\n",
      "| ReLU                    |           1.12891   |          0.00770193  |           0.0800476   |                  0.0929021 |\n",
      "| Sigmoid                 |           0.036945  |          8.24888e-06 |           0.00257243  |                  0.998295  |\n",
      "| Softplus                |           0.0937577 |          5.31249e-05 |           0.00720993  |                  0.9992    |\n",
      "| GELU                    |           0.0152169 |          1.39939e-06 |           0.00118162  |                  0.999998  |\n",
      "| tanh(x)                 |           0.0501327 |          1.51889e-05 |           0.00385651  |                  0.999778  |\n",
      "| sin(x)                  |           0.0349438 |          7.37945e-06 |           0.00270173  |                  0.999944  |\n",
      "| sech(x)                 |           0.0633774 |          2.42747e-05 |           0.00491987  |                  0.999951  |\n",
      "| (ax + b)tanh(cx + d)    |           0.0249014 |          3.74742e-06 |           0.00188995  |                  0.999877  |\n",
      "| sin(ax + b)tanh(cx + d) |           0.0274993 |          4.57013e-06 |           0.00211512  |                  0.999932  |\n",
      "| STan-LAAF               |           0.0139273 |          1.17225e-06 |           0.000902193 |                  0.999194  |\n",
      "| STan-NLAAF              |           0.0374237 |          8.46406e-06 |           0.00290838  |                  0.999996  |\n",
      "| REAct-LAAF              |           0.0150567 |          1.37008e-06 |           0.0010717   |                  0.999832  |\n",
      "| REAct-NLAAF             |           0.0491803 |          1.46173e-05 |           0.00379415  |                  0.999845  |\n",
      "| ABU                     |           0.386054  |          0.000900702 |           0.0299493   |                  0.997379  |\n"
     ]
    }
   ],
   "source": [
    "hparams.set_lr(1e-4)\n",
    "additional_str = '_RMSprop_train_2'\n",
    "expt = ForwardExperiement(UnderDampedVibrations(train_proto=2), hparams, optim.RMSprop, additional_str, ntk=False)\n",
    "expt.train_and_test_on_all_activations()"
   ]
  },
  {
   "cell_type": "code",
   "execution_count": 4,
   "metadata": {},
   "outputs": [
    {
     "name": "stdout",
     "output_type": "stream",
     "text": [
      "Computing and Saving Analytical Solution\n",
      "Training for activation fn: STan-LAAF\n"
     ]
    },
    {
     "name": "stderr",
     "output_type": "stream",
     "text": [
      "100%|██████████| 50000/50000 [12:43<00:00, 65.49it/s]\n"
     ]
    },
    {
     "name": "stdout",
     "output_type": "stream",
     "text": [
      "Training for activation fn: STan-NLAAF\n"
     ]
    },
    {
     "name": "stderr",
     "output_type": "stream",
     "text": [
      "100%|██████████| 50000/50000 [13:01<00:00, 63.97it/s]\n"
     ]
    },
    {
     "name": "stdout",
     "output_type": "stream",
     "text": [
      "Training for activation fn: REAct-LAAF\n"
     ]
    },
    {
     "name": "stderr",
     "output_type": "stream",
     "text": [
      "100%|██████████| 50000/50000 [19:55<00:00, 41.83it/s]\n"
     ]
    },
    {
     "name": "stdout",
     "output_type": "stream",
     "text": [
      "Training for activation fn: REAct-NLAAF\n"
     ]
    },
    {
     "name": "stderr",
     "output_type": "stream",
     "text": [
      "100%|██████████| 50000/50000 [22:26<00:00, 37.13it/s]\n"
     ]
    },
    {
     "name": "stdout",
     "output_type": "stream",
     "text": [
      "|             |   l2_relative_error |   mean_squared_error |   mean_absolute_error |   explained_variance_score |\n",
      "|:------------|--------------------:|---------------------:|----------------------:|---------------------------:|\n",
      "| STan-LAAF   |         4.35533e-05 |          6.06466e-10 |           2.4377e-05  |                   1        |\n",
      "| STan-NLAAF  |         0.000642929 |          1.32157e-07 |           0.000324447 |                   0.999999 |\n",
      "| REAct-LAAF  |         0.00067166  |          1.44232e-07 |           0.000282596 |                   0.999999 |\n",
      "| REAct-NLAAF |         0.00326475  |          3.40772e-06 |           0.00147963  |                   0.999988 |\n"
     ]
    }
   ],
   "source": [
    "hparams.set_lr(1e-3)\n",
    "additional_str = '_Adam_train_1'\n",
    "expt = ForwardExperiementwithSlopeRecovery(UnderDampedVibrations(train_proto=1), hparams, optim.Adam, additional_str, ntk=False)\n",
    "expt.train_and_test_on_all_activations()"
   ]
  },
  {
   "cell_type": "code",
   "execution_count": 5,
   "metadata": {},
   "outputs": [
    {
     "name": "stdout",
     "output_type": "stream",
     "text": [
      "Computing and Saving Analytical Solution\n",
      "Training for activation fn: STan-LAAF\n"
     ]
    },
    {
     "name": "stderr",
     "output_type": "stream",
     "text": [
      "100%|██████████| 50000/50000 [11:25<00:00, 72.98it/s]\n"
     ]
    },
    {
     "name": "stdout",
     "output_type": "stream",
     "text": [
      "Training for activation fn: STan-NLAAF\n"
     ]
    },
    {
     "name": "stderr",
     "output_type": "stream",
     "text": [
      "100%|██████████| 50000/50000 [11:52<00:00, 70.19it/s]\n"
     ]
    },
    {
     "name": "stdout",
     "output_type": "stream",
     "text": [
      "Training for activation fn: REAct-LAAF\n"
     ]
    },
    {
     "name": "stderr",
     "output_type": "stream",
     "text": [
      "100%|██████████| 50000/50000 [18:44<00:00, 44.47it/s]\n"
     ]
    },
    {
     "name": "stdout",
     "output_type": "stream",
     "text": [
      "Training for activation fn: REAct-NLAAF\n"
     ]
    },
    {
     "name": "stderr",
     "output_type": "stream",
     "text": [
      "100%|██████████| 50000/50000 [22:17<00:00, 37.38it/s]\n"
     ]
    },
    {
     "name": "stdout",
     "output_type": "stream",
     "text": [
      "|             |   l2_relative_error |   mean_squared_error |   mean_absolute_error |   explained_variance_score |\n",
      "|:------------|--------------------:|---------------------:|----------------------:|---------------------------:|\n",
      "| STan-LAAF   |          0.00569858 |          1.03824e-05 |            0.00307139 |                   0.999993 |\n",
      "| STan-NLAAF  |          0.00665629 |          1.41654e-05 |            0.00374022 |                   0.999999 |\n",
      "| REAct-LAAF  |          0.908549   |          0.263913    |            0.404336   |                   0.148438 |\n",
      "| REAct-NLAAF |        nan          |        nan           |          nan          |                 nan        |\n"
     ]
    }
   ],
   "source": [
    "hparams.set_lr(1e-4)\n",
    "additional_str = '_RMSprop_train_1'\n",
    "expt = ForwardExperiementwithSlopeRecovery(UnderDampedVibrations(train_proto=1), hparams, optim.RMSprop, additional_str, ntk=False)\n",
    "expt.train_and_test_on_all_activations()"
   ]
  }
 ],
 "metadata": {
  "kernelspec": {
   "display_name": "PhysicsModels",
   "language": "python",
   "name": "physicsmodels"
  },
  "language_info": {
   "codemirror_mode": {
    "name": "ipython",
    "version": 3
   },
   "file_extension": ".py",
   "mimetype": "text/x-python",
   "name": "python",
   "nbconvert_exporter": "python",
   "pygments_lexer": "ipython3",
   "version": "3.9.19"
  }
 },
 "nbformat": 4,
 "nbformat_minor": 2
}
