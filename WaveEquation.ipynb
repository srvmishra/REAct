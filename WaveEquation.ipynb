{
 "cells": [
  {
   "cell_type": "code",
   "execution_count": 1,
   "metadata": {},
   "outputs": [],
   "source": [
    "from Experiments import *\n",
    "from utils.visualization import *\n",
    "import torch\n",
    "import torch.optim as optim"
   ]
  },
  {
   "cell_type": "code",
   "execution_count": 2,
   "metadata": {},
   "outputs": [],
   "source": [
    "torch.cuda.manual_seed(0)\n",
    "torch.manual_seed(0)\n",
    "device = torch.device('cuda:3')"
   ]
  },
  {
   "cell_type": "code",
   "execution_count": 3,
   "metadata": {},
   "outputs": [],
   "source": [
    "hparams = Hyperparameters()\n",
    "hparams.set_model_size([2, 60, 60, 60, 1])\n",
    "hparams.set_epochs(75000) # 75000\n",
    "hparams.set_device(device)"
   ]
  },
  {
   "cell_type": "code",
   "execution_count": 4,
   "metadata": {},
   "outputs": [
    {
     "name": "stdout",
     "output_type": "stream",
     "text": [
      "Computing and Saving Analytical Solution\n",
      "Training for activation fn: ReLU\n"
     ]
    },
    {
     "name": "stderr",
     "output_type": "stream",
     "text": [
      "100%|██████████| 75000/75000 [15:25<00:00, 81.04it/s]\n"
     ]
    },
    {
     "name": "stdout",
     "output_type": "stream",
     "text": [
      "Training for activation fn: Sigmoid\n"
     ]
    },
    {
     "name": "stderr",
     "output_type": "stream",
     "text": [
      "100%|██████████| 75000/75000 [18:22<00:00, 68.02it/s]\n"
     ]
    },
    {
     "name": "stdout",
     "output_type": "stream",
     "text": [
      "Training for activation fn: Softplus\n"
     ]
    },
    {
     "name": "stderr",
     "output_type": "stream",
     "text": [
      "100%|██████████| 75000/75000 [21:06<00:00, 59.21it/s]\n"
     ]
    },
    {
     "name": "stdout",
     "output_type": "stream",
     "text": [
      "Training for activation fn: GELU\n"
     ]
    },
    {
     "name": "stderr",
     "output_type": "stream",
     "text": [
      "100%|██████████| 75000/75000 [22:28<00:00, 55.64it/s]\n"
     ]
    },
    {
     "name": "stdout",
     "output_type": "stream",
     "text": [
      "Training for activation fn: tanh(x)\n"
     ]
    },
    {
     "name": "stderr",
     "output_type": "stream",
     "text": [
      "100%|██████████| 75000/75000 [18:55<00:00, 66.07it/s]\n"
     ]
    },
    {
     "name": "stdout",
     "output_type": "stream",
     "text": [
      "Training for activation fn: sin(x)\n"
     ]
    },
    {
     "name": "stderr",
     "output_type": "stream",
     "text": [
      "100%|██████████| 75000/75000 [19:29<00:00, 64.11it/s]\n"
     ]
    },
    {
     "name": "stdout",
     "output_type": "stream",
     "text": [
      "Training for activation fn: sech(x)\n"
     ]
    },
    {
     "name": "stderr",
     "output_type": "stream",
     "text": [
      "100%|██████████| 75000/75000 [31:46<00:00, 39.34it/s]\n"
     ]
    },
    {
     "name": "stdout",
     "output_type": "stream",
     "text": [
      "Training for activation fn: (ax + b)tanh(cx + d)\n"
     ]
    },
    {
     "name": "stderr",
     "output_type": "stream",
     "text": [
      "100%|██████████| 75000/75000 [34:10<00:00, 36.58it/s]\n"
     ]
    },
    {
     "name": "stdout",
     "output_type": "stream",
     "text": [
      "Training for activation fn: sin(ax + b)tanh(cx + d)\n"
     ]
    },
    {
     "name": "stderr",
     "output_type": "stream",
     "text": [
      "100%|██████████| 75000/75000 [39:53<00:00, 31.34it/s]\n"
     ]
    },
    {
     "name": "stdout",
     "output_type": "stream",
     "text": [
      "Training for activation fn: STan-LAAF\n"
     ]
    },
    {
     "name": "stderr",
     "output_type": "stream",
     "text": [
      "100%|██████████| 75000/75000 [30:14<00:00, 41.33it/s]\n"
     ]
    },
    {
     "name": "stdout",
     "output_type": "stream",
     "text": [
      "Training for activation fn: STan-NLAAF\n"
     ]
    },
    {
     "name": "stderr",
     "output_type": "stream",
     "text": [
      "100%|██████████| 75000/75000 [30:20<00:00, 41.20it/s]\n"
     ]
    },
    {
     "name": "stdout",
     "output_type": "stream",
     "text": [
      "Training for activation fn: REAct-LAAF\n"
     ]
    },
    {
     "name": "stderr",
     "output_type": "stream",
     "text": [
      "100%|██████████| 75000/75000 [48:37<00:00, 25.71it/s] \n"
     ]
    },
    {
     "name": "stdout",
     "output_type": "stream",
     "text": [
      "Training for activation fn: REAct-NLAAF\n"
     ]
    },
    {
     "name": "stderr",
     "output_type": "stream",
     "text": [
      "100%|██████████| 75000/75000 [47:25<00:00, 26.36it/s]\n"
     ]
    },
    {
     "name": "stdout",
     "output_type": "stream",
     "text": [
      "Training for activation fn: ABU\n"
     ]
    },
    {
     "name": "stderr",
     "output_type": "stream",
     "text": [
      "100%|██████████| 75000/75000 [56:32<00:00, 22.11it/s] \n"
     ]
    },
    {
     "name": "stdout",
     "output_type": "stream",
     "text": [
      "|                         |   l2_relative_error |   mean_squared_error |   mean_absolute_error |   explained_variance_score |\n",
      "|:------------------------|--------------------:|---------------------:|----------------------:|---------------------------:|\n",
      "| ReLU                    |          1.94375    |          1.63777     |            1.13876    |                  -2.91493  |\n",
      "| Sigmoid                 |          0.0597108  |          0.00154553  |            0.0287383  |                   0.982427 |\n",
      "| Softplus                |          0.0536311  |          0.00124683  |            0.0286289  |                   0.988447 |\n",
      "| GELU                    |          0.0117282  |          5.9626e-05  |            0.00586732 |                   0.999711 |\n",
      "| tanh(x)                 |          0.0248151  |          0.000266935 |            0.0115516  |                   0.99704  |\n",
      "| sin(x)                  |          0.00585921 |          1.48816e-05 |            0.00307496 |                   0.999897 |\n",
      "| sech(x)                 |          0.0310941  |          0.000419111 |            0.0183366  |                   0.996389 |\n",
      "| (ax + b)tanh(cx + d)    |          0.0144135  |          9.00559e-05 |            0.00695574 |                   0.999275 |\n",
      "| sin(ax + b)tanh(cx + d) |          0.00940261 |          3.83239e-05 |            0.00487389 |                   0.999564 |\n",
      "| STan-LAAF               |          0.0397167  |          0.000683784 |            0.0189927  |                   0.996289 |\n",
      "| STan-NLAAF              |          0.00769897 |          2.56944e-05 |            0.0045839  |                   0.99988  |\n",
      "| REAct-LAAF              |          0.00611331 |          1.62004e-05 |            0.00320083 |                   0.999854 |\n",
      "| REAct-NLAAF             |          0.0506495  |          0.00111205  |            0.0140981  |                   0.987916 |\n",
      "| ABU                     |          1.86212    |          1.5031      |            1.09784    |                  -2.41839  |\n"
     ]
    }
   ],
   "source": [
    "hparams.set_lr(1e-4)\n",
    "additional_str = '_RMSprop_train_2'\n",
    "expt = ForwardExperiement(WaveEquation(train_proto=2), hparams, optim.RMSprop, additional_str, ntk=False)\n",
    "expt.train_and_test_on_all_activations()"
   ]
  },
  {
   "cell_type": "code",
   "execution_count": 4,
   "metadata": {},
   "outputs": [
    {
     "name": "stdout",
     "output_type": "stream",
     "text": [
      "Computing and Saving Analytical Solution\n",
      "Training for activation fn: ReLU\n"
     ]
    },
    {
     "name": "stderr",
     "output_type": "stream",
     "text": [
      "100%|██████████| 75000/75000 [14:16<00:00, 87.53it/s]\n"
     ]
    },
    {
     "name": "stdout",
     "output_type": "stream",
     "text": [
      "Training for activation fn: Sigmoid\n"
     ]
    },
    {
     "name": "stderr",
     "output_type": "stream",
     "text": [
      "100%|██████████| 75000/75000 [18:24<00:00, 67.89it/s]\n"
     ]
    },
    {
     "name": "stdout",
     "output_type": "stream",
     "text": [
      "Training for activation fn: Softplus\n"
     ]
    },
    {
     "name": "stderr",
     "output_type": "stream",
     "text": [
      "100%|██████████| 75000/75000 [20:51<00:00, 59.93it/s]\n"
     ]
    },
    {
     "name": "stdout",
     "output_type": "stream",
     "text": [
      "Training for activation fn: GELU\n"
     ]
    },
    {
     "name": "stderr",
     "output_type": "stream",
     "text": [
      "100%|██████████| 75000/75000 [21:15<00:00, 58.81it/s]\n"
     ]
    },
    {
     "name": "stdout",
     "output_type": "stream",
     "text": [
      "Training for activation fn: tanh(x)\n"
     ]
    },
    {
     "name": "stderr",
     "output_type": "stream",
     "text": [
      "100%|██████████| 75000/75000 [17:31<00:00, 71.30it/s] \n"
     ]
    },
    {
     "name": "stdout",
     "output_type": "stream",
     "text": [
      "Training for activation fn: sin(x)\n"
     ]
    },
    {
     "name": "stderr",
     "output_type": "stream",
     "text": [
      "100%|██████████| 75000/75000 [18:27<00:00, 67.72it/s]\n"
     ]
    },
    {
     "name": "stdout",
     "output_type": "stream",
     "text": [
      "Training for activation fn: sech(x)\n"
     ]
    },
    {
     "name": "stderr",
     "output_type": "stream",
     "text": [
      "100%|██████████| 75000/75000 [30:10<00:00, 41.43it/s]\n"
     ]
    },
    {
     "name": "stdout",
     "output_type": "stream",
     "text": [
      "Training for activation fn: (ax + b)tanh(cx + d)\n"
     ]
    },
    {
     "name": "stderr",
     "output_type": "stream",
     "text": [
      "100%|██████████| 75000/75000 [32:11<00:00, 38.84it/s]\n"
     ]
    },
    {
     "name": "stdout",
     "output_type": "stream",
     "text": [
      "Training for activation fn: sin(ax + b)tanh(cx + d)\n"
     ]
    },
    {
     "name": "stderr",
     "output_type": "stream",
     "text": [
      "100%|██████████| 75000/75000 [39:26<00:00, 31.69it/s]\n"
     ]
    },
    {
     "name": "stdout",
     "output_type": "stream",
     "text": [
      "Training for activation fn: STan-LAAF\n"
     ]
    },
    {
     "name": "stderr",
     "output_type": "stream",
     "text": [
      "100%|██████████| 75000/75000 [28:46<00:00, 43.43it/s]\n"
     ]
    },
    {
     "name": "stdout",
     "output_type": "stream",
     "text": [
      "Training for activation fn: STan-NLAAF\n"
     ]
    },
    {
     "name": "stderr",
     "output_type": "stream",
     "text": [
      "100%|██████████| 75000/75000 [30:04<00:00, 41.57it/s]\n"
     ]
    },
    {
     "name": "stdout",
     "output_type": "stream",
     "text": [
      "Training for activation fn: REAct-LAAF\n"
     ]
    },
    {
     "name": "stderr",
     "output_type": "stream",
     "text": [
      "100%|██████████| 75000/75000 [41:36<00:00, 30.04it/s]\n"
     ]
    },
    {
     "name": "stdout",
     "output_type": "stream",
     "text": [
      "Training for activation fn: REAct-NLAAF\n"
     ]
    },
    {
     "name": "stderr",
     "output_type": "stream",
     "text": [
      "100%|██████████| 75000/75000 [46:29<00:00, 26.89it/s]\n"
     ]
    },
    {
     "name": "stdout",
     "output_type": "stream",
     "text": [
      "Training for activation fn: ABU\n"
     ]
    },
    {
     "name": "stderr",
     "output_type": "stream",
     "text": [
      "100%|██████████| 75000/75000 [53:15<00:00, 23.47it/s]\n"
     ]
    },
    {
     "name": "stdout",
     "output_type": "stream",
     "text": [
      "|                         |   l2_relative_error |   mean_squared_error |   mean_absolute_error |   explained_variance_score |\n",
      "|:------------------------|--------------------:|---------------------:|----------------------:|---------------------------:|\n",
      "| ReLU                    |          2.00674    |          1.74564     |           1.18402     |                  -2.94545  |\n",
      "| Sigmoid                 |          0.010295   |          4.59434e-05 |           0.00439067  |                   0.999601 |\n",
      "| Softplus                |          0.00346847 |          5.21493e-06 |           0.00159974  |                   0.99994  |\n",
      "| GELU                    |          0.00586062 |          1.48888e-05 |           0.00215346  |                   0.999833 |\n",
      "| tanh(x)                 |          0.00859346 |          3.20117e-05 |           0.00318393  |                   0.999643 |\n",
      "| sin(x)                  |          0.00520956 |          1.17645e-05 |           0.00241517  |                   0.999926 |\n",
      "| sech(x)                 |          0.0089986  |          3.51012e-05 |           0.00281475  |                   0.999686 |\n",
      "| (ax + b)tanh(cx + d)    |          0.0173669  |          0.000130742 |           0.00493488  |                   0.998588 |\n",
      "| sin(ax + b)tanh(cx + d) |          0.00248582 |          2.67864e-06 |           0.000665255 |                   0.999969 |\n",
      "| STan-LAAF               |          0.00556272 |          1.34137e-05 |           0.00307213  |                   0.999954 |\n",
      "| STan-NLAAF              |          0.00371291 |          5.97589e-06 |           0.000993927 |                   0.999937 |\n",
      "| REAct-LAAF              |          0.00411868 |          7.3534e-06  |           0.00118538  |                   0.999927 |\n",
      "| REAct-NLAAF             |          0.0161514  |          0.000113082 |           0.00965823  |                   0.999773 |\n",
      "| ABU                     |          1.73239    |          1.30097     |           1.01868     |                  -2.03688  |\n"
     ]
    }
   ],
   "source": [
    "hparams.set_lr(1e-3)\n",
    "additional_str = '_Adam_train_2'\n",
    "expt = ForwardExperiement(WaveEquation(train_proto=2), hparams, optim.Adam, additional_str, ntk=False)\n",
    "expt.train_and_test_on_all_activations()"
   ]
  },
  {
   "cell_type": "code",
   "execution_count": 5,
   "metadata": {},
   "outputs": [
    {
     "name": "stdout",
     "output_type": "stream",
     "text": [
      "Computing and Saving Analytical Solution\n",
      "Training for activation fn: ReLU\n"
     ]
    },
    {
     "name": "stderr",
     "output_type": "stream",
     "text": [
      "100%|██████████| 75000/75000 [14:10<00:00, 88.23it/s] \n"
     ]
    },
    {
     "name": "stdout",
     "output_type": "stream",
     "text": [
      "Training for activation fn: Sigmoid\n"
     ]
    },
    {
     "name": "stderr",
     "output_type": "stream",
     "text": [
      "100%|██████████| 75000/75000 [18:19<00:00, 68.20it/s]\n"
     ]
    },
    {
     "name": "stdout",
     "output_type": "stream",
     "text": [
      "Training for activation fn: Softplus\n"
     ]
    },
    {
     "name": "stderr",
     "output_type": "stream",
     "text": [
      "100%|██████████| 75000/75000 [20:56<00:00, 59.70it/s]\n"
     ]
    },
    {
     "name": "stdout",
     "output_type": "stream",
     "text": [
      "Training for activation fn: GELU\n"
     ]
    },
    {
     "name": "stderr",
     "output_type": "stream",
     "text": [
      "100%|██████████| 75000/75000 [21:17<00:00, 58.71it/s]\n"
     ]
    },
    {
     "name": "stdout",
     "output_type": "stream",
     "text": [
      "Training for activation fn: tanh(x)\n"
     ]
    },
    {
     "name": "stderr",
     "output_type": "stream",
     "text": [
      "100%|██████████| 75000/75000 [17:27<00:00, 71.62it/s]\n"
     ]
    },
    {
     "name": "stdout",
     "output_type": "stream",
     "text": [
      "Training for activation fn: sin(x)\n"
     ]
    },
    {
     "name": "stderr",
     "output_type": "stream",
     "text": [
      "100%|██████████| 75000/75000 [18:29<00:00, 67.60it/s]\n"
     ]
    },
    {
     "name": "stdout",
     "output_type": "stream",
     "text": [
      "Training for activation fn: sech(x)\n"
     ]
    },
    {
     "name": "stderr",
     "output_type": "stream",
     "text": [
      "100%|██████████| 75000/75000 [28:38<00:00, 43.63it/s]\n"
     ]
    },
    {
     "name": "stdout",
     "output_type": "stream",
     "text": [
      "Training for activation fn: (ax + b)tanh(cx + d)\n"
     ]
    },
    {
     "name": "stderr",
     "output_type": "stream",
     "text": [
      "100%|██████████| 75000/75000 [29:33<00:00, 42.28it/s]\n"
     ]
    },
    {
     "name": "stdout",
     "output_type": "stream",
     "text": [
      "Training for activation fn: sin(ax + b)tanh(cx + d)\n"
     ]
    },
    {
     "name": "stderr",
     "output_type": "stream",
     "text": [
      "100%|██████████| 75000/75000 [37:39<00:00, 33.19it/s]\n"
     ]
    },
    {
     "name": "stdout",
     "output_type": "stream",
     "text": [
      "Training for activation fn: STan-LAAF\n"
     ]
    },
    {
     "name": "stderr",
     "output_type": "stream",
     "text": [
      "100%|██████████| 75000/75000 [29:08<00:00, 42.90it/s]\n"
     ]
    },
    {
     "name": "stdout",
     "output_type": "stream",
     "text": [
      "Training for activation fn: STan-NLAAF\n"
     ]
    },
    {
     "name": "stderr",
     "output_type": "stream",
     "text": [
      "100%|██████████| 75000/75000 [30:01<00:00, 41.64it/s]\n"
     ]
    },
    {
     "name": "stdout",
     "output_type": "stream",
     "text": [
      "Training for activation fn: REAct-LAAF\n"
     ]
    },
    {
     "name": "stderr",
     "output_type": "stream",
     "text": [
      "100%|██████████| 75000/75000 [40:03<00:00, 31.21it/s]\n"
     ]
    },
    {
     "name": "stdout",
     "output_type": "stream",
     "text": [
      "Training for activation fn: REAct-NLAAF\n"
     ]
    },
    {
     "name": "stderr",
     "output_type": "stream",
     "text": [
      "100%|██████████| 75000/75000 [40:28<00:00, 30.89it/s]\n"
     ]
    },
    {
     "name": "stdout",
     "output_type": "stream",
     "text": [
      "Training for activation fn: ABU\n"
     ]
    },
    {
     "name": "stderr",
     "output_type": "stream",
     "text": [
      "100%|██████████| 75000/75000 [54:05<00:00, 23.11it/s] \n"
     ]
    },
    {
     "name": "stdout",
     "output_type": "stream",
     "text": [
      "|                         |   l2_relative_error |   mean_squared_error |   mean_absolute_error |   explained_variance_score |\n",
      "|:------------------------|--------------------:|---------------------:|----------------------:|---------------------------:|\n",
      "| ReLU                    |           1.65669   |          0.686152    |            0.603589   |                  -0.28744  |\n",
      "| Sigmoid                 |           0.0444802 |          0.000494621 |            0.0188361  |                   0.999222 |\n",
      "| Softplus                |           0.0382074 |          0.000364951 |            0.0172243  |                   0.999718 |\n",
      "| GELU                    |           0.0030209 |          2.28146e-06 |            0.00122585 |                   0.999992 |\n",
      "| tanh(x)                 |           0.0465175 |          0.000540969 |            0.0228734  |                   0.999929 |\n",
      "| sin(x)                  |           0.0244554 |          0.000149516 |            0.0111445  |                   0.999895 |\n",
      "| sech(x)                 |           0.028437  |          0.000202165 |            0.0133906  |                   0.999909 |\n",
      "| (ax + b)tanh(cx + d)    |           0.028512  |          0.000203234 |            0.0131974  |                   0.999884 |\n",
      "| sin(ax + b)tanh(cx + d) |           0.018061  |          8.15496e-05 |            0.00759563 |                   0.999824 |\n",
      "| STan-LAAF               |           0.0054213 |          7.34761e-06 |            0.00225427 |                   0.999971 |\n",
      "| STan-NLAAF              |           0.0229709 |          0.000131915 |            0.0105926  |                   0.999921 |\n",
      "| REAct-LAAF              |           0.0280822 |          0.000197152 |            0.0138076  |                   0.999974 |\n",
      "| REAct-NLAAF             |           0.0393073 |          0.000386267 |            0.0173186  |                   0.999389 |\n",
      "| ABU                     |           1.32248   |          0.437239    |            0.478319   |                   0.144682 |\n"
     ]
    }
   ],
   "source": [
    "hparams.set_lr(1e-4)\n",
    "additional_str = '_RMSprop_train_1'\n",
    "expt = ForwardExperiement(WaveEquation(train_proto=1), hparams, optim.RMSprop, additional_str, ntk=False)\n",
    "expt.train_and_test_on_all_activations()"
   ]
  },
  {
   "cell_type": "code",
   "execution_count": 6,
   "metadata": {},
   "outputs": [
    {
     "name": "stdout",
     "output_type": "stream",
     "text": [
      "Computing and Saving Analytical Solution\n",
      "Training for activation fn: ReLU\n"
     ]
    },
    {
     "name": "stderr",
     "output_type": "stream",
     "text": [
      "100%|██████████| 75000/75000 [14:30<00:00, 86.16it/s]\n"
     ]
    },
    {
     "name": "stdout",
     "output_type": "stream",
     "text": [
      "Training for activation fn: Sigmoid\n"
     ]
    },
    {
     "name": "stderr",
     "output_type": "stream",
     "text": [
      "100%|██████████| 75000/75000 [18:39<00:00, 66.97it/s]\n"
     ]
    },
    {
     "name": "stdout",
     "output_type": "stream",
     "text": [
      "Training for activation fn: Softplus\n"
     ]
    },
    {
     "name": "stderr",
     "output_type": "stream",
     "text": [
      "100%|██████████| 75000/75000 [20:58<00:00, 59.58it/s]\n"
     ]
    },
    {
     "name": "stdout",
     "output_type": "stream",
     "text": [
      "Training for activation fn: GELU\n"
     ]
    },
    {
     "name": "stderr",
     "output_type": "stream",
     "text": [
      "100%|██████████| 75000/75000 [21:07<00:00, 59.16it/s]\n"
     ]
    },
    {
     "name": "stdout",
     "output_type": "stream",
     "text": [
      "Training for activation fn: tanh(x)\n"
     ]
    },
    {
     "name": "stderr",
     "output_type": "stream",
     "text": [
      "100%|██████████| 75000/75000 [17:55<00:00, 69.73it/s]\n"
     ]
    },
    {
     "name": "stdout",
     "output_type": "stream",
     "text": [
      "Training for activation fn: sin(x)\n"
     ]
    },
    {
     "name": "stderr",
     "output_type": "stream",
     "text": [
      "100%|██████████| 75000/75000 [18:29<00:00, 67.60it/s]\n"
     ]
    },
    {
     "name": "stdout",
     "output_type": "stream",
     "text": [
      "Training for activation fn: sech(x)\n"
     ]
    },
    {
     "name": "stderr",
     "output_type": "stream",
     "text": [
      "100%|██████████| 75000/75000 [30:08<00:00, 41.47it/s]\n"
     ]
    },
    {
     "name": "stdout",
     "output_type": "stream",
     "text": [
      "Training for activation fn: (ax + b)tanh(cx + d)\n"
     ]
    },
    {
     "name": "stderr",
     "output_type": "stream",
     "text": [
      "100%|██████████| 75000/75000 [31:51<00:00, 39.24it/s]\n"
     ]
    },
    {
     "name": "stdout",
     "output_type": "stream",
     "text": [
      "Training for activation fn: sin(ax + b)tanh(cx + d)\n"
     ]
    },
    {
     "name": "stderr",
     "output_type": "stream",
     "text": [
      "100%|██████████| 75000/75000 [39:37<00:00, 31.55it/s]\n"
     ]
    },
    {
     "name": "stdout",
     "output_type": "stream",
     "text": [
      "Training for activation fn: STan-LAAF\n"
     ]
    },
    {
     "name": "stderr",
     "output_type": "stream",
     "text": [
      "100%|██████████| 75000/75000 [30:03<00:00, 41.58it/s]\n"
     ]
    },
    {
     "name": "stdout",
     "output_type": "stream",
     "text": [
      "Training for activation fn: STan-NLAAF\n"
     ]
    },
    {
     "name": "stderr",
     "output_type": "stream",
     "text": [
      "100%|██████████| 75000/75000 [30:03<00:00, 41.58it/s]\n"
     ]
    },
    {
     "name": "stdout",
     "output_type": "stream",
     "text": [
      "Training for activation fn: REAct-LAAF\n"
     ]
    },
    {
     "name": "stderr",
     "output_type": "stream",
     "text": [
      "100%|██████████| 75000/75000 [40:35<00:00, 30.80it/s]\n"
     ]
    },
    {
     "name": "stdout",
     "output_type": "stream",
     "text": [
      "Training for activation fn: REAct-NLAAF\n"
     ]
    },
    {
     "name": "stderr",
     "output_type": "stream",
     "text": [
      "100%|██████████| 75000/75000 [43:40<00:00, 28.63it/s]  \n"
     ]
    },
    {
     "name": "stdout",
     "output_type": "stream",
     "text": [
      "Training for activation fn: ABU\n"
     ]
    },
    {
     "name": "stderr",
     "output_type": "stream",
     "text": [
      "100%|██████████| 75000/75000 [55:43<00:00, 22.43it/s]\n"
     ]
    },
    {
     "name": "stdout",
     "output_type": "stream",
     "text": [
      "|                         |   l2_relative_error |   mean_squared_error |   mean_absolute_error |   explained_variance_score |\n",
      "|:------------------------|--------------------:|---------------------:|----------------------:|---------------------------:|\n",
      "| ReLU                    |         1.6972      |          0.720125    |           0.625509    |                  -0.315523 |\n",
      "| Sigmoid                 |         0.000914737 |          2.09185e-07 |           0.000368138 |                   0.999999 |\n",
      "| Softplus                |         0.00746533  |          1.39328e-05 |           0.00331649  |                   0.999986 |\n",
      "| GELU                    |         0.00182619  |          8.33739e-07 |           0.000760193 |                   0.999999 |\n",
      "| tanh(x)                 |         0.00193441  |          9.35481e-07 |           0.000785074 |                   0.999996 |\n",
      "| sin(x)                  |         0.00233234  |          1.35995e-06 |           0.000955236 |                   0.999995 |\n",
      "| sech(x)                 |         0.00210797  |          1.11088e-06 |           0.000921745 |                   0.999999 |\n",
      "| (ax + b)tanh(cx + d)    |         0.00308936  |          2.38603e-06 |           0.00148467  |                   0.999999 |\n",
      "| sin(ax + b)tanh(cx + d) |         0.00149027  |          5.55224e-07 |           0.000709096 |                   1        |\n",
      "| STan-LAAF               |         0.00123478  |          3.81168e-07 |           0.000515892 |                   0.999999 |\n",
      "| STan-NLAAF              |         0.0020699   |          1.07112e-06 |           0.000799658 |                   0.999997 |\n",
      "| REAct-LAAF              |         0.00292321  |          2.13629e-06 |           0.00132379  |                   0.999998 |\n",
      "| REAct-NLAAF             |         0.00394492  |          3.89059e-06 |           0.00168167  |                   0.999995 |\n",
      "| ABU                     |         1.66266     |          0.691112    |           0.609997    |                  -0.276097 |\n"
     ]
    },
    {
     "ename": "",
     "evalue": "",
     "output_type": "error",
     "traceback": [
      "\u001b[1;31mThe Kernel crashed while executing code in the current cell or a previous cell. \n",
      "\u001b[1;31mPlease review the code in the cell(s) to identify a possible cause of the failure. \n",
      "\u001b[1;31mClick <a href='https://aka.ms/vscodeJupyterKernelCrash'>here</a> for more info. \n",
      "\u001b[1;31mView Jupyter <a href='command:jupyter.viewOutput'>log</a> for further details."
     ]
    }
   ],
   "source": [
    "hparams.set_lr(1e-3)\n",
    "additional_str = '_Adam_train_1'\n",
    "expt = ForwardExperiement(WaveEquation(train_proto=1), hparams, optim.Adam, additional_str, ntk=False)\n",
    "expt.train_and_test_on_all_activations()"
   ]
  },
  {
   "cell_type": "code",
   "execution_count": 4,
   "metadata": {},
   "outputs": [
    {
     "name": "stdout",
     "output_type": "stream",
     "text": [
      "Computing and Saving Analytical Solution\n",
      "Training for activation fn: STan-LAAF\n"
     ]
    },
    {
     "name": "stderr",
     "output_type": "stream",
     "text": [
      "100%|██████████| 75000/75000 [29:09<00:00, 42.88it/s]\n"
     ]
    },
    {
     "name": "stdout",
     "output_type": "stream",
     "text": [
      "Training for activation fn: STan-NLAAF\n"
     ]
    },
    {
     "name": "stderr",
     "output_type": "stream",
     "text": [
      "100%|██████████| 75000/75000 [29:35<00:00, 42.24it/s]\n"
     ]
    },
    {
     "name": "stdout",
     "output_type": "stream",
     "text": [
      "Training for activation fn: REAct-LAAF\n"
     ]
    },
    {
     "name": "stderr",
     "output_type": "stream",
     "text": [
      "100%|██████████| 75000/75000 [44:05<00:00, 28.35it/s]\n"
     ]
    },
    {
     "name": "stdout",
     "output_type": "stream",
     "text": [
      "Training for activation fn: REAct-NLAAF\n"
     ]
    },
    {
     "name": "stderr",
     "output_type": "stream",
     "text": [
      "100%|██████████| 75000/75000 [48:10<00:00, 25.95it/s] \n"
     ]
    },
    {
     "name": "stdout",
     "output_type": "stream",
     "text": [
      "|             |   l2_relative_error |   mean_squared_error |   mean_absolute_error |   explained_variance_score |\n",
      "|:------------|--------------------:|---------------------:|----------------------:|---------------------------:|\n",
      "| STan-LAAF   |           0.0462147 |          0.000925833 |             0.0201377 |                   0.99401  |\n",
      "| STan-NLAAF  |           0.0408305 |          0.000722672 |             0.0185467 |                   0.995483 |\n",
      "| REAct-LAAF  |           0.466925  |          0.0945077   |             0.165401  |                   0.223263 |\n",
      "| REAct-NLAAF |           1.29306   |          0.724789    |             0.798536  |                   0        |\n"
     ]
    }
   ],
   "source": [
    "hparams.set_lr(1e-4)\n",
    "additional_str = '_RMSprop_train_2'\n",
    "expt = ForwardExperiementwithSlopeRecovery(WaveEquation(train_proto=2), hparams, optim.RMSprop, additional_str, ntk=False)\n",
    "expt.train_and_test_on_all_activations()"
   ]
  },
  {
   "cell_type": "code",
   "execution_count": 4,
   "metadata": {},
   "outputs": [
    {
     "name": "stdout",
     "output_type": "stream",
     "text": [
      "Computing and Saving Analytical Solution\n",
      "Training for activation fn: STan-LAAF\n"
     ]
    },
    {
     "name": "stderr",
     "output_type": "stream",
     "text": [
      "100%|██████████| 75000/75000 [30:15<00:00, 41.32it/s]\n"
     ]
    },
    {
     "name": "stdout",
     "output_type": "stream",
     "text": [
      "Training for activation fn: STan-NLAAF\n"
     ]
    },
    {
     "name": "stderr",
     "output_type": "stream",
     "text": [
      "100%|██████████| 75000/75000 [30:20<00:00, 41.20it/s]\n"
     ]
    },
    {
     "name": "stdout",
     "output_type": "stream",
     "text": [
      "Training for activation fn: REAct-LAAF\n"
     ]
    },
    {
     "name": "stderr",
     "output_type": "stream",
     "text": [
      "100%|██████████| 75000/75000 [43:04<00:00, 29.02it/s] \n"
     ]
    },
    {
     "name": "stdout",
     "output_type": "stream",
     "text": [
      "Training for activation fn: REAct-NLAAF\n"
     ]
    },
    {
     "name": "stderr",
     "output_type": "stream",
     "text": [
      "100%|██████████| 75000/75000 [49:45<00:00, 25.12it/s] \n"
     ]
    },
    {
     "name": "stdout",
     "output_type": "stream",
     "text": [
      "|             |   l2_relative_error |   mean_squared_error |   mean_absolute_error |   explained_variance_score |\n",
      "|:------------|--------------------:|---------------------:|----------------------:|---------------------------:|\n",
      "| STan-LAAF   |           0.0118618 |          3.51758e-05 |            0.00536458 |                   0.999969 |\n",
      "| STan-NLAAF  |           0.0270738 |          0.000183248 |            0.0126554  |                   0.999908 |\n",
      "| REAct-LAAF  |           0.721184  |          0.130027    |            0.291013   |                   0.619601 |\n",
      "| REAct-NLAAF |           0.874502  |          0.191188    |            0.354474   |                   0.468648 |\n"
     ]
    }
   ],
   "source": [
    "hparams.set_lr(1e-4)\n",
    "additional_str = '_RMSprop_train_1'\n",
    "expt = ForwardExperiementwithSlopeRecovery(WaveEquation(train_proto=1), hparams, optim.RMSprop, additional_str, ntk=False)\n",
    "expt.train_and_test_on_all_activations()"
   ]
  }
 ],
 "metadata": {
  "kernelspec": {
   "display_name": "PhysicsModels",
   "language": "python",
   "name": "physicsmodels"
  },
  "language_info": {
   "codemirror_mode": {
    "name": "ipython",
    "version": 3
   },
   "file_extension": ".py",
   "mimetype": "text/x-python",
   "name": "python",
   "nbconvert_exporter": "python",
   "pygments_lexer": "ipython3",
   "version": "3.9.19"
  }
 },
 "nbformat": 4,
 "nbformat_minor": 2
}
