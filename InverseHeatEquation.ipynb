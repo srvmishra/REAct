{
 "cells": [
  {
   "cell_type": "code",
   "execution_count": 1,
   "metadata": {},
   "outputs": [],
   "source": [
    "from Experiments import *\n",
    "from utils.visualization import *\n",
    "import torch\n",
    "import torch.optim as optim"
   ]
  },
  {
   "cell_type": "code",
   "execution_count": 2,
   "metadata": {},
   "outputs": [],
   "source": [
    "torch.cuda.manual_seed(0)\n",
    "torch.manual_seed(0)\n",
    "device = torch.device('cuda')"
   ]
  },
  {
   "cell_type": "code",
   "execution_count": 3,
   "metadata": {},
   "outputs": [],
   "source": [
    "hparams = Hyperparameters()\n",
    "hparams.set_model_size([2, 48, 48, 48, 1])\n",
    "hparams.set_epochs(50000) # 50000\n",
    "hparams.set_device(device)"
   ]
  },
  {
   "cell_type": "code",
   "execution_count": 4,
   "metadata": {},
   "outputs": [
    {
     "name": "stdout",
     "output_type": "stream",
     "text": [
      "Computing and Saving Analytical Solution\n",
      "Training for activation fn: ReLU\n",
      "init\n",
      "Parameter containing:\n",
      "tensor([1.4623], requires_grad=True)\n"
     ]
    },
    {
     "name": "stderr",
     "output_type": "stream",
     "text": [
      "  0%|          | 0/50000 [00:00<?, ?it/s]/home/airl-gpu5-mini/anaconda3/envs/PhysicsModels/lib/python3.9/site-packages/torch/autograd/graph.py:744: UserWarning: Attempting to run cuBLAS, but there was no current CUDA context! Attempting to set the primary context... (Triggered internally at ../aten/src/ATen/cuda/CublasHandlePool.cpp:135.)\n",
      "  return Variable._execution_engine.run_backward(  # Calls into the C++ engine to run the backward pass\n",
      "100%|██████████| 50000/50000 [14:05<00:00, 59.14it/s]\n"
     ]
    },
    {
     "name": "stdout",
     "output_type": "stream",
     "text": [
      "final\n",
      "Parameter containing:\n",
      "tensor([1.4623], requires_grad=True)\n",
      "Training for activation fn: Sigmoid\n",
      "init\n",
      "Parameter containing:\n",
      "tensor([1.4623], requires_grad=True)\n"
     ]
    },
    {
     "name": "stderr",
     "output_type": "stream",
     "text": [
      "100%|██████████| 50000/50000 [15:55<00:00, 52.32it/s]\n"
     ]
    },
    {
     "name": "stdout",
     "output_type": "stream",
     "text": [
      "final\n",
      "Parameter containing:\n",
      "tensor([0.2521], requires_grad=True)\n",
      "Training for activation fn: Softplus\n",
      "init\n",
      "Parameter containing:\n",
      "tensor([1.4623], requires_grad=True)\n"
     ]
    },
    {
     "name": "stderr",
     "output_type": "stream",
     "text": [
      "100%|██████████| 50000/50000 [16:49<00:00, 49.51it/s]\n"
     ]
    },
    {
     "name": "stdout",
     "output_type": "stream",
     "text": [
      "final\n",
      "Parameter containing:\n",
      "tensor([0.3351], requires_grad=True)\n",
      "Training for activation fn: GELU\n",
      "init\n",
      "Parameter containing:\n",
      "tensor([1.4623], requires_grad=True)\n"
     ]
    },
    {
     "name": "stderr",
     "output_type": "stream",
     "text": [
      "100%|██████████| 50000/50000 [16:50<00:00, 49.46it/s]\n"
     ]
    },
    {
     "name": "stdout",
     "output_type": "stream",
     "text": [
      "final\n",
      "Parameter containing:\n",
      "tensor([0.3998], requires_grad=True)\n",
      "Training for activation fn: tanh(x)\n",
      "init\n",
      "Parameter containing:\n",
      "tensor([1.4623], requires_grad=True)\n"
     ]
    },
    {
     "name": "stderr",
     "output_type": "stream",
     "text": [
      "100%|██████████| 50000/50000 [15:37<00:00, 53.31it/s]\n"
     ]
    },
    {
     "name": "stdout",
     "output_type": "stream",
     "text": [
      "final\n",
      "Parameter containing:\n",
      "tensor([0.4003], requires_grad=True)\n",
      "Training for activation fn: sin(x)\n",
      "init\n",
      "Parameter containing:\n",
      "tensor([1.4623], requires_grad=True)\n"
     ]
    },
    {
     "name": "stderr",
     "output_type": "stream",
     "text": [
      "100%|██████████| 50000/50000 [16:06<00:00, 51.73it/s]\n"
     ]
    },
    {
     "name": "stdout",
     "output_type": "stream",
     "text": [
      "final\n",
      "Parameter containing:\n",
      "tensor([0.3960], requires_grad=True)\n",
      "Training for activation fn: sech(x)\n",
      "init\n",
      "Parameter containing:\n",
      "tensor([1.4623], requires_grad=True)\n"
     ]
    },
    {
     "name": "stderr",
     "output_type": "stream",
     "text": [
      "100%|██████████| 50000/50000 [21:19<00:00, 39.08it/s]\n"
     ]
    },
    {
     "name": "stdout",
     "output_type": "stream",
     "text": [
      "final\n",
      "Parameter containing:\n",
      "tensor([0.3930], requires_grad=True)\n",
      "Training for activation fn: (ax + b)tanh(cx + d)\n",
      "init\n",
      "Parameter containing:\n",
      "tensor([1.4623], requires_grad=True)\n"
     ]
    },
    {
     "name": "stderr",
     "output_type": "stream",
     "text": [
      "100%|██████████| 50000/50000 [25:11<00:00, 33.07it/s]\n"
     ]
    },
    {
     "name": "stdout",
     "output_type": "stream",
     "text": [
      "final\n",
      "Parameter containing:\n",
      "tensor([0.3974], requires_grad=True)\n",
      "Training for activation fn: sin(ax + b)tanh(cx + d)\n",
      "init\n",
      "Parameter containing:\n",
      "tensor([1.4623], requires_grad=True)\n"
     ]
    },
    {
     "name": "stderr",
     "output_type": "stream",
     "text": [
      "100%|██████████| 50000/50000 [25:34<00:00, 32.58it/s]\n"
     ]
    },
    {
     "name": "stdout",
     "output_type": "stream",
     "text": [
      "final\n",
      "Parameter containing:\n",
      "tensor([0.3993], requires_grad=True)\n",
      "Training for activation fn: STan-LAAF\n",
      "init\n",
      "Parameter containing:\n",
      "tensor([1.4623], requires_grad=True)\n"
     ]
    },
    {
     "name": "stderr",
     "output_type": "stream",
     "text": [
      "100%|██████████| 50000/50000 [22:04<00:00, 37.76it/s]\n"
     ]
    },
    {
     "name": "stdout",
     "output_type": "stream",
     "text": [
      "final\n",
      "Parameter containing:\n",
      "tensor([0.4000], requires_grad=True)\n",
      "Training for activation fn: STan-NLAAF\n",
      "init\n",
      "Parameter containing:\n",
      "tensor([1.4623], requires_grad=True)\n"
     ]
    },
    {
     "name": "stderr",
     "output_type": "stream",
     "text": [
      "100%|██████████| 50000/50000 [22:27<00:00, 37.09it/s]\n"
     ]
    },
    {
     "name": "stdout",
     "output_type": "stream",
     "text": [
      "final\n",
      "Parameter containing:\n",
      "tensor([0.3996], requires_grad=True)\n",
      "Training for activation fn: REAct-LAAF\n",
      "init\n",
      "Parameter containing:\n",
      "tensor([1.4623], requires_grad=True)\n"
     ]
    },
    {
     "name": "stderr",
     "output_type": "stream",
     "text": [
      "100%|██████████| 50000/50000 [28:02<00:00, 29.72it/s]\n"
     ]
    },
    {
     "name": "stdout",
     "output_type": "stream",
     "text": [
      "final\n",
      "Parameter containing:\n",
      "tensor([0.3997], requires_grad=True)\n",
      "Training for activation fn: REAct-NLAAF\n",
      "init\n",
      "Parameter containing:\n",
      "tensor([1.4623], requires_grad=True)\n"
     ]
    },
    {
     "name": "stderr",
     "output_type": "stream",
     "text": [
      "100%|██████████| 50000/50000 [29:58<00:00, 27.80it/s]\n"
     ]
    },
    {
     "name": "stdout",
     "output_type": "stream",
     "text": [
      "final\n",
      "Parameter containing:\n",
      "tensor([0.3991], requires_grad=True)\n",
      "Training for activation fn: ABU\n",
      "init\n",
      "Parameter containing:\n",
      "tensor([1.4623], requires_grad=True)\n"
     ]
    },
    {
     "name": "stderr",
     "output_type": "stream",
     "text": [
      "100%|██████████| 50000/50000 [30:06<00:00, 27.68it/s]\n"
     ]
    },
    {
     "name": "stdout",
     "output_type": "stream",
     "text": [
      "final\n",
      "Parameter containing:\n",
      "tensor([1.1132], requires_grad=True)\n",
      "|                         |   l2_relative_error |   mean_squared_error |   mean_absolute_error |   explained_variance_score |   est. param value |   pc. error in param value |\n",
      "|:------------------------|--------------------:|---------------------:|----------------------:|---------------------------:|-------------------:|---------------------------:|\n",
      "| ReLU                    |          1.09158    |          0.0755742   |            0.228156   |                   0.148067 |            1.11316 |                    178.291 |\n",
      "| Sigmoid                 |          0.268789   |          0.00458236  |            0.055454   |                   0.934659 |            1.11316 |                    178.291 |\n",
      "| Softplus                |          0.14336    |          0.00130352  |            0.0308565  |                   0.98991  |            1.11316 |                    178.291 |\n",
      "| GELU                    |          0.0134695  |          1.15071e-05 |            0.00315116 |                   0.999937 |            1.11316 |                    178.291 |\n",
      "| tanh(x)                 |          0.00561384 |          1.99887e-06 |            0.00119294 |                   0.999983 |            1.11316 |                    178.291 |\n",
      "| sin(x)                  |          0.0524058  |          0.00017419  |            0.0130533  |                   0.999901 |            1.11316 |                    178.291 |\n",
      "| sech(x)                 |          0.0396682  |          9.98041e-05 |            0.0083621  |                   0.999185 |            1.11316 |                    178.291 |\n",
      "| (ax + b)tanh(cx + d)    |          0.0377787  |          9.0523e-05  |            0.0084427  |                   0.999469 |            1.11316 |                    178.291 |\n",
      "| sin(ax + b)tanh(cx + d) |          0.00984752 |          6.15061e-06 |            0.0022673  |                   0.999974 |            1.11316 |                    178.291 |\n",
      "| STan-LAAF               |          0.00651431 |          2.69155e-06 |            0.0011089  |                   0.999956 |            1.11316 |                    178.291 |\n",
      "| STan-NLAAF              |          0.00911342 |          5.26777e-06 |            0.00202704 |                   0.999873 |            1.11316 |                    178.291 |\n",
      "| REAct-LAAF              |          0.00868843 |          4.78794e-06 |            0.00144112 |                   0.999911 |            1.11316 |                    178.291 |\n",
      "| REAct-NLAAF             |          0.0207894  |          2.74125e-05 |            0.00453182 |                   0.999821 |            1.11316 |                    178.291 |\n",
      "| ABU                     |          0.0830651  |          0.000437626 |            0.014989   |                   0.993313 |            1.11316 |                    178.291 |\n"
     ]
    }
   ],
   "source": [
    "hparams.set_lr(1e-4)\n",
    "additional_str = '_RMSprop_train_1_Inverse'\n",
    "expt = InverseExperiement(InverseHeatEquation(), hparams, optim.RMSprop, additional_str)\n",
    "expt.train_and_test_on_all_activations()"
   ]
  },
  {
   "cell_type": "code",
   "execution_count": 5,
   "metadata": {},
   "outputs": [
    {
     "name": "stdout",
     "output_type": "stream",
     "text": [
      "Computing and Saving Analytical Solution\n",
      "Training for activation fn: ReLU\n",
      "init\n",
      "Parameter containing:\n",
      "tensor([1.7081], requires_grad=True)\n"
     ]
    },
    {
     "name": "stderr",
     "output_type": "stream",
     "text": [
      "100%|██████████| 50000/50000 [14:51<00:00, 56.10it/s]\n"
     ]
    },
    {
     "name": "stdout",
     "output_type": "stream",
     "text": [
      "final\n",
      "Parameter containing:\n",
      "tensor([1.7081], requires_grad=True)\n",
      "Training for activation fn: Sigmoid\n",
      "init\n",
      "Parameter containing:\n",
      "tensor([1.7081], requires_grad=True)\n"
     ]
    },
    {
     "name": "stderr",
     "output_type": "stream",
     "text": [
      "100%|██████████| 50000/50000 [16:27<00:00, 50.64it/s] \n"
     ]
    },
    {
     "name": "stdout",
     "output_type": "stream",
     "text": [
      "final\n",
      "Parameter containing:\n",
      "tensor([0.3997], requires_grad=True)\n",
      "Training for activation fn: Softplus\n",
      "init\n",
      "Parameter containing:\n",
      "tensor([1.7081], requires_grad=True)\n"
     ]
    },
    {
     "name": "stderr",
     "output_type": "stream",
     "text": [
      "100%|██████████| 50000/50000 [17:41<00:00, 47.08it/s]\n"
     ]
    },
    {
     "name": "stdout",
     "output_type": "stream",
     "text": [
      "final\n",
      "Parameter containing:\n",
      "tensor([0.3981], requires_grad=True)\n",
      "Training for activation fn: GELU\n",
      "init\n",
      "Parameter containing:\n",
      "tensor([1.7081], requires_grad=True)\n"
     ]
    },
    {
     "name": "stderr",
     "output_type": "stream",
     "text": [
      "100%|██████████| 50000/50000 [17:42<00:00, 47.08it/s] \n"
     ]
    },
    {
     "name": "stdout",
     "output_type": "stream",
     "text": [
      "final\n",
      "Parameter containing:\n",
      "tensor([0.3998], requires_grad=True)\n",
      "Training for activation fn: tanh(x)\n",
      "init\n",
      "Parameter containing:\n",
      "tensor([1.7081], requires_grad=True)\n"
     ]
    },
    {
     "name": "stderr",
     "output_type": "stream",
     "text": [
      "100%|██████████| 50000/50000 [15:55<00:00, 52.32it/s] \n"
     ]
    },
    {
     "name": "stdout",
     "output_type": "stream",
     "text": [
      "final\n",
      "Parameter containing:\n",
      "tensor([0.3999], requires_grad=True)\n",
      "Training for activation fn: sin(x)\n",
      "init\n",
      "Parameter containing:\n",
      "tensor([1.7081], requires_grad=True)\n"
     ]
    },
    {
     "name": "stderr",
     "output_type": "stream",
     "text": [
      "100%|██████████| 50000/50000 [16:16<00:00, 51.19it/s]\n"
     ]
    },
    {
     "name": "stdout",
     "output_type": "stream",
     "text": [
      "final\n",
      "Parameter containing:\n",
      "tensor([0.3993], requires_grad=True)\n",
      "Training for activation fn: sech(x)\n",
      "init\n",
      "Parameter containing:\n",
      "tensor([1.7081], requires_grad=True)\n"
     ]
    },
    {
     "name": "stderr",
     "output_type": "stream",
     "text": [
      "100%|██████████| 50000/50000 [25:09<00:00, 33.13it/s]\n"
     ]
    },
    {
     "name": "stdout",
     "output_type": "stream",
     "text": [
      "final\n",
      "Parameter containing:\n",
      "tensor([0.3999], requires_grad=True)\n",
      "Training for activation fn: (ax + b)tanh(cx + d)\n",
      "init\n",
      "Parameter containing:\n",
      "tensor([1.7081], requires_grad=True)\n"
     ]
    },
    {
     "name": "stderr",
     "output_type": "stream",
     "text": [
      "100%|██████████| 50000/50000 [25:43<00:00, 32.39it/s]\n"
     ]
    },
    {
     "name": "stdout",
     "output_type": "stream",
     "text": [
      "final\n",
      "Parameter containing:\n",
      "tensor([0.3994], requires_grad=True)\n",
      "Training for activation fn: sin(ax + b)tanh(cx + d)\n",
      "init\n",
      "Parameter containing:\n",
      "tensor([1.7081], requires_grad=True)\n"
     ]
    },
    {
     "name": "stderr",
     "output_type": "stream",
     "text": [
      "100%|██████████| 50000/50000 [26:07<00:00, 31.89it/s]\n"
     ]
    },
    {
     "name": "stdout",
     "output_type": "stream",
     "text": [
      "final\n",
      "Parameter containing:\n",
      "tensor([0.3995], requires_grad=True)\n",
      "Training for activation fn: STan-LAAF\n",
      "init\n",
      "Parameter containing:\n",
      "tensor([1.7081], requires_grad=True)\n"
     ]
    },
    {
     "name": "stderr",
     "output_type": "stream",
     "text": [
      "100%|██████████| 50000/50000 [22:51<00:00, 36.45it/s]\n"
     ]
    },
    {
     "name": "stdout",
     "output_type": "stream",
     "text": [
      "final\n",
      "Parameter containing:\n",
      "tensor([0.4006], requires_grad=True)\n",
      "Training for activation fn: STan-NLAAF\n",
      "init\n",
      "Parameter containing:\n",
      "tensor([1.7081], requires_grad=True)\n"
     ]
    },
    {
     "name": "stderr",
     "output_type": "stream",
     "text": [
      "100%|██████████| 50000/50000 [23:21<00:00, 35.68it/s]\n"
     ]
    },
    {
     "name": "stdout",
     "output_type": "stream",
     "text": [
      "final\n",
      "Parameter containing:\n",
      "tensor([0.4000], requires_grad=True)\n",
      "Training for activation fn: REAct-LAAF\n",
      "init\n",
      "Parameter containing:\n",
      "tensor([1.7081], requires_grad=True)\n"
     ]
    },
    {
     "name": "stderr",
     "output_type": "stream",
     "text": [
      "100%|██████████| 50000/50000 [29:00<00:00, 28.74it/s]\n"
     ]
    },
    {
     "name": "stdout",
     "output_type": "stream",
     "text": [
      "final\n",
      "Parameter containing:\n",
      "tensor([0.3999], requires_grad=True)\n",
      "Training for activation fn: REAct-NLAAF\n",
      "init\n",
      "Parameter containing:\n",
      "tensor([1.7081], requires_grad=True)\n"
     ]
    },
    {
     "name": "stderr",
     "output_type": "stream",
     "text": [
      "100%|██████████| 50000/50000 [32:22<00:00, 25.74it/s]\n"
     ]
    },
    {
     "name": "stdout",
     "output_type": "stream",
     "text": [
      "final\n",
      "Parameter containing:\n",
      "tensor([nan], requires_grad=True)\n",
      "Training for activation fn: ABU\n",
      "init\n",
      "Parameter containing:\n",
      "tensor([1.7081], requires_grad=True)\n"
     ]
    },
    {
     "name": "stderr",
     "output_type": "stream",
     "text": [
      "100%|██████████| 50000/50000 [31:43<00:00, 26.26it/s]\n"
     ]
    },
    {
     "name": "stdout",
     "output_type": "stream",
     "text": [
      "final\n",
      "Parameter containing:\n",
      "tensor([1.5335], requires_grad=True)\n",
      "|                         |   l2_relative_error |   mean_squared_error |   mean_absolute_error |   explained_variance_score |   est. param value |   pc. error in param value |\n",
      "|:------------------------|--------------------:|---------------------:|----------------------:|---------------------------:|-------------------:|---------------------------:|\n",
      "| ReLU                    |          1.09017    |          0.0753789   |           0.226867    |                   0.133994 |            1.53349 |                    283.373 |\n",
      "| Sigmoid                 |          0.0122019  |          9.44326e-06 |           0.00299196  |                   0.999987 |            1.53349 |                    283.373 |\n",
      "| Softplus                |          0.00421416 |          1.12638e-06 |           0.000871623 |                   0.999984 |            1.53349 |                    283.373 |\n",
      "| GELU                    |          0.00164792 |          1.72241e-07 |           0.000353472 |                   0.999996 |            1.53349 |                    283.373 |\n",
      "| tanh(x)                 |          0.00293999 |          5.48222e-07 |           0.000649575 |                   0.999988 |            1.53349 |                    283.373 |\n",
      "| sin(x)                  |          0.00411708 |          1.07509e-06 |           0.000670643 |                   0.999983 |            1.53349 |                    283.373 |\n",
      "| sech(x)                 |          0.0124194  |          9.78285e-06 |           0.00293331  |                   0.999969 |            1.53349 |                    283.373 |\n",
      "| (ax + b)tanh(cx + d)    |          0.00651508 |          2.69218e-06 |           0.00140479  |                   0.99994  |            1.53349 |                    283.373 |\n",
      "| sin(ax + b)tanh(cx + d) |          0.00859261 |          4.6829e-06  |           0.00212388  |                   0.999996 |            1.53349 |                    283.373 |\n",
      "| STan-LAAF               |          0.00886651 |          4.98619e-06 |           0.00219012  |                   0.999995 |            1.53349 |                    283.373 |\n",
      "| STan-NLAAF              |          0.00385572 |          9.4292e-07  |           0.000905189 |                   0.999991 |            1.53349 |                    283.373 |\n",
      "| REAct-LAAF              |          0.00678147 |          2.91684e-06 |           0.00156088  |                   0.999987 |            1.53349 |                    283.373 |\n",
      "| REAct-NLAAF             |        nan          |        nan           |         nan           |                 nan        |            1.53349 |                    283.373 |\n",
      "| ABU                     |          0.0169147  |          1.81464e-05 |           0.00336686  |                   0.999681 |            1.53349 |                    283.373 |\n"
     ]
    }
   ],
   "source": [
    "hparams.set_lr(1e-3)\n",
    "additional_str = '_Adam_train_1_Inverse'\n",
    "expt = InverseExperiement(InverseHeatEquation(), hparams, optim.Adam, additional_str)\n",
    "expt.train_and_test_on_all_activations()"
   ]
  }
 ],
 "metadata": {
  "kernelspec": {
   "display_name": "PhysicsModels",
   "language": "python",
   "name": "physicsmodels"
  },
  "language_info": {
   "codemirror_mode": {
    "name": "ipython",
    "version": 3
   },
   "file_extension": ".py",
   "mimetype": "text/x-python",
   "name": "python",
   "nbconvert_exporter": "python",
   "pygments_lexer": "ipython3",
   "version": "3.9.19"
  }
 },
 "nbformat": 4,
 "nbformat_minor": 2
}
